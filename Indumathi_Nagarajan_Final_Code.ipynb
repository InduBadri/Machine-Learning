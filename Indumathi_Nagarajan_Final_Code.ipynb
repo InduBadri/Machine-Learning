{
 "cells": [
  {
   "cell_type": "markdown",
   "metadata": {},
   "source": [
    "# Predicting Customer Churn in Telecommunications Dataset"
   ]
  },
  {
   "cell_type": "code",
   "execution_count": 1,
   "metadata": {
    "collapsed": true
   },
   "outputs": [],
   "source": [
    "import pandas as pd\n",
    "import numpy as np\n",
    "import matplotlib.pyplot as plt"
   ]
  },
  {
   "cell_type": "markdown",
   "metadata": {},
   "source": [
    "## Looking at the data"
   ]
  },
  {
   "cell_type": "code",
   "execution_count": 2,
   "metadata": {},
   "outputs": [
    {
     "data": {
      "text/html": [
       "<div>\n",
       "<style>\n",
       "    .dataframe thead tr:only-child th {\n",
       "        text-align: right;\n",
       "    }\n",
       "\n",
       "    .dataframe thead th {\n",
       "        text-align: left;\n",
       "    }\n",
       "\n",
       "    .dataframe tbody tr th {\n",
       "        vertical-align: top;\n",
       "    }\n",
       "</style>\n",
       "<table border=\"1\" class=\"dataframe\">\n",
       "  <thead>\n",
       "    <tr style=\"text-align: right;\">\n",
       "      <th></th>\n",
       "      <th>customerID</th>\n",
       "      <th>gender</th>\n",
       "      <th>SeniorCitizen</th>\n",
       "      <th>Partner</th>\n",
       "      <th>Dependents</th>\n",
       "      <th>tenure</th>\n",
       "      <th>PhoneService</th>\n",
       "      <th>MultipleLines</th>\n",
       "      <th>InternetService</th>\n",
       "      <th>OnlineSecurity</th>\n",
       "      <th>...</th>\n",
       "      <th>DeviceProtection</th>\n",
       "      <th>TechSupport</th>\n",
       "      <th>StreamingTV</th>\n",
       "      <th>StreamingMovies</th>\n",
       "      <th>Contract</th>\n",
       "      <th>PaperlessBilling</th>\n",
       "      <th>PaymentMethod</th>\n",
       "      <th>MonthlyCharges</th>\n",
       "      <th>TotalCharges</th>\n",
       "      <th>Churn</th>\n",
       "    </tr>\n",
       "  </thead>\n",
       "  <tbody>\n",
       "    <tr>\n",
       "      <th>0</th>\n",
       "      <td>7590-VHVEG</td>\n",
       "      <td>Female</td>\n",
       "      <td>0</td>\n",
       "      <td>Yes</td>\n",
       "      <td>No</td>\n",
       "      <td>1</td>\n",
       "      <td>No</td>\n",
       "      <td>No phone service</td>\n",
       "      <td>DSL</td>\n",
       "      <td>No</td>\n",
       "      <td>...</td>\n",
       "      <td>No</td>\n",
       "      <td>No</td>\n",
       "      <td>No</td>\n",
       "      <td>No</td>\n",
       "      <td>Month-to-month</td>\n",
       "      <td>Yes</td>\n",
       "      <td>Electronic check</td>\n",
       "      <td>29.85</td>\n",
       "      <td>29.85</td>\n",
       "      <td>No</td>\n",
       "    </tr>\n",
       "    <tr>\n",
       "      <th>1</th>\n",
       "      <td>5575-GNVDE</td>\n",
       "      <td>Male</td>\n",
       "      <td>0</td>\n",
       "      <td>No</td>\n",
       "      <td>No</td>\n",
       "      <td>34</td>\n",
       "      <td>Yes</td>\n",
       "      <td>No</td>\n",
       "      <td>DSL</td>\n",
       "      <td>Yes</td>\n",
       "      <td>...</td>\n",
       "      <td>Yes</td>\n",
       "      <td>No</td>\n",
       "      <td>No</td>\n",
       "      <td>No</td>\n",
       "      <td>One year</td>\n",
       "      <td>No</td>\n",
       "      <td>Mailed check</td>\n",
       "      <td>56.95</td>\n",
       "      <td>1889.5</td>\n",
       "      <td>No</td>\n",
       "    </tr>\n",
       "    <tr>\n",
       "      <th>2</th>\n",
       "      <td>3668-QPYBK</td>\n",
       "      <td>Male</td>\n",
       "      <td>0</td>\n",
       "      <td>No</td>\n",
       "      <td>No</td>\n",
       "      <td>2</td>\n",
       "      <td>Yes</td>\n",
       "      <td>No</td>\n",
       "      <td>DSL</td>\n",
       "      <td>Yes</td>\n",
       "      <td>...</td>\n",
       "      <td>No</td>\n",
       "      <td>No</td>\n",
       "      <td>No</td>\n",
       "      <td>No</td>\n",
       "      <td>Month-to-month</td>\n",
       "      <td>Yes</td>\n",
       "      <td>Mailed check</td>\n",
       "      <td>53.85</td>\n",
       "      <td>108.15</td>\n",
       "      <td>Yes</td>\n",
       "    </tr>\n",
       "    <tr>\n",
       "      <th>3</th>\n",
       "      <td>7795-CFOCW</td>\n",
       "      <td>Male</td>\n",
       "      <td>0</td>\n",
       "      <td>No</td>\n",
       "      <td>No</td>\n",
       "      <td>45</td>\n",
       "      <td>No</td>\n",
       "      <td>No phone service</td>\n",
       "      <td>DSL</td>\n",
       "      <td>Yes</td>\n",
       "      <td>...</td>\n",
       "      <td>Yes</td>\n",
       "      <td>Yes</td>\n",
       "      <td>No</td>\n",
       "      <td>No</td>\n",
       "      <td>One year</td>\n",
       "      <td>No</td>\n",
       "      <td>Bank transfer (automatic)</td>\n",
       "      <td>42.30</td>\n",
       "      <td>1840.75</td>\n",
       "      <td>No</td>\n",
       "    </tr>\n",
       "    <tr>\n",
       "      <th>4</th>\n",
       "      <td>9237-HQITU</td>\n",
       "      <td>Female</td>\n",
       "      <td>0</td>\n",
       "      <td>No</td>\n",
       "      <td>No</td>\n",
       "      <td>2</td>\n",
       "      <td>Yes</td>\n",
       "      <td>No</td>\n",
       "      <td>Fiber optic</td>\n",
       "      <td>No</td>\n",
       "      <td>...</td>\n",
       "      <td>No</td>\n",
       "      <td>No</td>\n",
       "      <td>No</td>\n",
       "      <td>No</td>\n",
       "      <td>Month-to-month</td>\n",
       "      <td>Yes</td>\n",
       "      <td>Electronic check</td>\n",
       "      <td>70.70</td>\n",
       "      <td>151.65</td>\n",
       "      <td>Yes</td>\n",
       "    </tr>\n",
       "  </tbody>\n",
       "</table>\n",
       "<p>5 rows × 21 columns</p>\n",
       "</div>"
      ],
      "text/plain": [
       "   customerID  gender  SeniorCitizen Partner Dependents  tenure PhoneService  \\\n",
       "0  7590-VHVEG  Female              0     Yes         No       1           No   \n",
       "1  5575-GNVDE    Male              0      No         No      34          Yes   \n",
       "2  3668-QPYBK    Male              0      No         No       2          Yes   \n",
       "3  7795-CFOCW    Male              0      No         No      45           No   \n",
       "4  9237-HQITU  Female              0      No         No       2          Yes   \n",
       "\n",
       "      MultipleLines InternetService OnlineSecurity  ...  DeviceProtection  \\\n",
       "0  No phone service             DSL             No  ...                No   \n",
       "1                No             DSL            Yes  ...               Yes   \n",
       "2                No             DSL            Yes  ...                No   \n",
       "3  No phone service             DSL            Yes  ...               Yes   \n",
       "4                No     Fiber optic             No  ...                No   \n",
       "\n",
       "  TechSupport StreamingTV StreamingMovies        Contract PaperlessBilling  \\\n",
       "0          No          No              No  Month-to-month              Yes   \n",
       "1          No          No              No        One year               No   \n",
       "2          No          No              No  Month-to-month              Yes   \n",
       "3         Yes          No              No        One year               No   \n",
       "4          No          No              No  Month-to-month              Yes   \n",
       "\n",
       "               PaymentMethod MonthlyCharges  TotalCharges Churn  \n",
       "0           Electronic check          29.85         29.85    No  \n",
       "1               Mailed check          56.95        1889.5    No  \n",
       "2               Mailed check          53.85        108.15   Yes  \n",
       "3  Bank transfer (automatic)          42.30       1840.75    No  \n",
       "4           Electronic check          70.70        151.65   Yes  \n",
       "\n",
       "[5 rows x 21 columns]"
      ]
     },
     "execution_count": 2,
     "metadata": {},
     "output_type": "execute_result"
    }
   ],
   "source": [
    "telcom = pd.read_csv(r\"WA_Fn-UseC_-Telco-Customer-Churn.csv\")\n",
    "telcom.head()"
   ]
  },
  {
   "cell_type": "code",
   "execution_count": 84,
   "metadata": {},
   "outputs": [
    {
     "name": "stdout",
     "output_type": "stream",
     "text": [
      "<class 'pandas.core.frame.DataFrame'>\n",
      "RangeIndex: 7043 entries, 0 to 7042\n",
      "Data columns (total 21 columns):\n",
      "customerID          7043 non-null object\n",
      "gender              7043 non-null object\n",
      "SeniorCitizen       7043 non-null int64\n",
      "Partner             7043 non-null object\n",
      "Dependents          7043 non-null object\n",
      "tenure              7043 non-null int64\n",
      "PhoneService        7043 non-null object\n",
      "MultipleLines       7043 non-null object\n",
      "InternetService     7043 non-null object\n",
      "OnlineSecurity      7043 non-null object\n",
      "OnlineBackup        7043 non-null object\n",
      "DeviceProtection    7043 non-null object\n",
      "TechSupport         7043 non-null object\n",
      "StreamingTV         7043 non-null object\n",
      "StreamingMovies     7043 non-null object\n",
      "Contract            7043 non-null object\n",
      "PaperlessBilling    7043 non-null object\n",
      "PaymentMethod       7043 non-null object\n",
      "MonthlyCharges      7043 non-null float64\n",
      "TotalCharges        7043 non-null object\n",
      "Churn               7043 non-null object\n",
      "dtypes: float64(1), int64(2), object(18)\n",
      "memory usage: 1.1+ MB\n"
     ]
    }
   ],
   "source": [
    "telcom.info()\n",
    "#telcom.dtypes"
   ]
  },
  {
   "cell_type": "code",
   "execution_count": 6,
   "metadata": {},
   "outputs": [
    {
     "data": {
      "text/plain": [
       "['customerID',\n",
       " 'gender',\n",
       " 'SeniorCitizen',\n",
       " 'Partner',\n",
       " 'Dependents',\n",
       " 'tenure',\n",
       " 'PhoneService',\n",
       " 'MultipleLines',\n",
       " 'InternetService',\n",
       " 'OnlineSecurity',\n",
       " 'OnlineBackup',\n",
       " 'DeviceProtection',\n",
       " 'TechSupport',\n",
       " 'StreamingTV',\n",
       " 'StreamingMovies',\n",
       " 'Contract',\n",
       " 'PaperlessBilling',\n",
       " 'PaymentMethod',\n",
       " 'MonthlyCharges',\n",
       " 'TotalCharges',\n",
       " 'Churn']"
      ]
     },
     "execution_count": 6,
     "metadata": {},
     "output_type": "execute_result"
    }
   ],
   "source": [
    "list(telcom.columns.values)\n",
    "#list(telcom)"
   ]
  },
  {
   "cell_type": "code",
   "execution_count": 7,
   "metadata": {},
   "outputs": [
    {
     "name": "stdout",
     "output_type": "stream",
     "text": [
      "total number of observations - 7043\n",
      "total number of features - 21\n"
     ]
    }
   ],
   "source": [
    "print 'total number of observations -', telcom.shape[0]\n",
    "print 'total number of features -', telcom.shape[1]"
   ]
  },
  {
   "cell_type": "code",
   "execution_count": 8,
   "metadata": {},
   "outputs": [
    {
     "name": "stdout",
     "output_type": "stream",
     "text": [
      "Customers demographic information\n",
      "['gender', 'SeniorCitizen', 'Partner', 'Dependents']\n"
     ]
    }
   ],
   "source": [
    "print 'Customer''s demographic information\\n', list(telcom)[1:5]"
   ]
  },
  {
   "cell_type": "code",
   "execution_count": 9,
   "metadata": {},
   "outputs": [
    {
     "name": "stdout",
     "output_type": "stream",
     "text": [
      "Customers account information\n",
      "['Contract', 'PaperlessBilling', 'PaymentMethod', 'MonthlyCharges', 'TotalCharges', 'tenure']\n"
     ]
    }
   ],
   "source": [
    "print 'Customer''s account information\\n', list(telcom)[15:20]+[(list(telcom)[5])]"
   ]
  },
  {
   "cell_type": "code",
   "execution_count": 10,
   "metadata": {},
   "outputs": [
    {
     "name": "stdout",
     "output_type": "stream",
     "text": [
      "Customers signed up for services include\n",
      "['PhoneService', 'MultipleLines', 'InternetService', 'OnlineSecurity', 'OnlineBackup', 'DeviceProtection', 'TechSupport', 'StreamingTV', 'StreamingMovies']\n"
     ]
    }
   ],
   "source": [
    "print 'Customers signed up for services include\\n',list(telcom)[6:15]"
   ]
  },
  {
   "cell_type": "code",
   "execution_count": 16,
   "metadata": {},
   "outputs": [
    {
     "data": {
      "text/plain": [
       "0"
      ]
     },
     "execution_count": 16,
     "metadata": {},
     "output_type": "execute_result"
    }
   ],
   "source": [
    "#checking for missing data\n",
    "telcom.isnull().sum().values.sum()"
   ]
  },
  {
   "cell_type": "markdown",
   "metadata": {},
   "source": [
    "The dataset looks clean and there is no missing values"
   ]
  },
  {
   "cell_type": "code",
   "execution_count": 12,
   "metadata": {},
   "outputs": [
    {
     "data": {
      "text/plain": [
       "0         29.85\n",
       "1        1889.5\n",
       "2        108.15\n",
       "3       1840.75\n",
       "4        151.65\n",
       "5         820.5\n",
       "6        1949.4\n",
       "7         301.9\n",
       "8       3046.05\n",
       "9       3487.95\n",
       "10       587.45\n",
       "11        326.8\n",
       "12       5681.1\n",
       "13       5036.3\n",
       "14      2686.05\n",
       "15      7895.15\n",
       "16      1022.95\n",
       "17      7382.25\n",
       "18       528.35\n",
       "19       1862.9\n",
       "20        39.65\n",
       "21       202.25\n",
       "22        20.15\n",
       "23       3505.1\n",
       "24       2970.3\n",
       "25       1530.6\n",
       "26      4749.15\n",
       "27         30.2\n",
       "28      6369.45\n",
       "29       1093.1\n",
       "         ...   \n",
       "7013     3756.4\n",
       "7014    3645.75\n",
       "7015    2874.45\n",
       "7016      49.95\n",
       "7017    1020.75\n",
       "7018      70.65\n",
       "7019        826\n",
       "7020        239\n",
       "7021      727.8\n",
       "7022     7544.3\n",
       "7023     6479.4\n",
       "7024    3626.35\n",
       "7025     1679.4\n",
       "7026     403.35\n",
       "7027     931.55\n",
       "7028    4326.25\n",
       "7029     263.05\n",
       "7030      39.25\n",
       "7031     3316.1\n",
       "7032      75.75\n",
       "7033    2625.25\n",
       "7034    6886.25\n",
       "7035     1495.1\n",
       "7036      743.3\n",
       "7037     1419.4\n",
       "7038     1990.5\n",
       "7039     7362.9\n",
       "7040     346.45\n",
       "7041      306.6\n",
       "7042     6844.5\n",
       "Name: TotalCharges, Length: 7043, dtype: object"
      ]
     },
     "execution_count": 12,
     "metadata": {},
     "output_type": "execute_result"
    }
   ],
   "source": [
    "telcom.TotalCharges"
   ]
  },
  {
   "cell_type": "code",
   "execution_count": 85,
   "metadata": {},
   "outputs": [
    {
     "name": "stdout",
     "output_type": "stream",
     "text": [
      "('\\nUnique values :  \\n', customerID          7043\n",
      "gender                 2\n",
      "SeniorCitizen          2\n",
      "Partner                2\n",
      "Dependents             2\n",
      "tenure                73\n",
      "PhoneService           2\n",
      "MultipleLines          3\n",
      "InternetService        3\n",
      "OnlineSecurity         3\n",
      "OnlineBackup           3\n",
      "DeviceProtection       3\n",
      "TechSupport            3\n",
      "StreamingTV            3\n",
      "StreamingMovies        3\n",
      "Contract               3\n",
      "PaperlessBilling       2\n",
      "PaymentMethod          4\n",
      "MonthlyCharges      1585\n",
      "TotalCharges        6531\n",
      "Churn                  2\n",
      "dtype: int64)\n"
     ]
    }
   ],
   "source": [
    "print (\"\\nUnique values :  \\n\",telcom.nunique())"
   ]
  },
  {
   "cell_type": "code",
   "execution_count": 14,
   "metadata": {},
   "outputs": [
    {
     "name": "stdout",
     "output_type": "stream",
     "text": [
      "((7043, 21), customerID          [[7590-VHVEG, 5575-GNVDE, 3668-QPYBK, 7795-CFO...\n",
      "gender                                               [[Female, Male]]\n",
      "SeniorCitizen                                                [[0, 1]]\n",
      "Partner                                                   [[Yes, No]]\n",
      "Dependents                                                [[No, Yes]]\n",
      "tenure              [[1, 34, 2, 45, 8, 22, 10, 28, 62, 13, 16, 58,...\n",
      "PhoneService                                              [[No, Yes]]\n",
      "MultipleLines                           [[No phone service, No, Yes]]\n",
      "InternetService                              [[DSL, Fiber optic, No]]\n",
      "OnlineSecurity                       [[No, Yes, No internet service]]\n",
      "OnlineBackup                         [[Yes, No, No internet service]]\n",
      "DeviceProtection                     [[No, Yes, No internet service]]\n",
      "TechSupport                          [[No, Yes, No internet service]]\n",
      "StreamingTV                          [[No, Yes, No internet service]]\n",
      "StreamingMovies                      [[No, Yes, No internet service]]\n",
      "Contract                       [[Month-to-month, One year, Two year]]\n",
      "PaperlessBilling                                          [[Yes, No]]\n",
      "PaymentMethod       [[Electronic check, Mailed check, Bank transfe...\n",
      "MonthlyCharges      [[29.85, 56.95, 53.85, 42.3, 70.7, 99.65, 89.1...\n",
      "TotalCharges        [[29.85, 1889.5, 108.15, 1840.75, 151.65, 820....\n",
      "Churn                                                     [[No, Yes]]\n",
      "dtype: object)\n"
     ]
    }
   ],
   "source": [
    "def rstr(df): return df.shape, df.apply(lambda x: [x.unique()])\n",
    "\n",
    "print(rstr(telcom))"
   ]
  },
  {
   "cell_type": "code",
   "execution_count": 86,
   "metadata": {},
   "outputs": [
    {
     "name": "stdout",
     "output_type": "stream",
     "text": [
      "(1869, 21)\n",
      "(5174, 21)\n"
     ]
    }
   ],
   "source": [
    "churn = telcom[telcom['Churn']=='Yes']\n",
    "notchurn = telcom[telcom['Churn']==\"No\"]\n",
    "print churn.shape #26%\n",
    "print notchurn.shape #74%"
   ]
  },
  {
   "cell_type": "code",
   "execution_count": 16,
   "metadata": {},
   "outputs": [
    {
     "data": {
      "text/html": [
       "<div>\n",
       "<style>\n",
       "    .dataframe thead tr:only-child th {\n",
       "        text-align: right;\n",
       "    }\n",
       "\n",
       "    .dataframe thead th {\n",
       "        text-align: left;\n",
       "    }\n",
       "\n",
       "    .dataframe tbody tr th {\n",
       "        vertical-align: top;\n",
       "    }\n",
       "</style>\n",
       "<table border=\"1\" class=\"dataframe\">\n",
       "  <thead>\n",
       "    <tr style=\"text-align: right;\">\n",
       "      <th></th>\n",
       "      <th>customerID</th>\n",
       "      <th>gender</th>\n",
       "      <th>SeniorCitizen</th>\n",
       "      <th>Partner</th>\n",
       "      <th>Dependents</th>\n",
       "      <th>tenure</th>\n",
       "      <th>PhoneService</th>\n",
       "      <th>MultipleLines</th>\n",
       "      <th>InternetService</th>\n",
       "      <th>OnlineSecurity</th>\n",
       "      <th>...</th>\n",
       "      <th>DeviceProtection</th>\n",
       "      <th>TechSupport</th>\n",
       "      <th>StreamingTV</th>\n",
       "      <th>StreamingMovies</th>\n",
       "      <th>Contract</th>\n",
       "      <th>PaperlessBilling</th>\n",
       "      <th>PaymentMethod</th>\n",
       "      <th>MonthlyCharges</th>\n",
       "      <th>TotalCharges</th>\n",
       "      <th>Churn</th>\n",
       "    </tr>\n",
       "  </thead>\n",
       "  <tbody>\n",
       "    <tr>\n",
       "      <th>2</th>\n",
       "      <td>3668-QPYBK</td>\n",
       "      <td>Male</td>\n",
       "      <td>0</td>\n",
       "      <td>No</td>\n",
       "      <td>No</td>\n",
       "      <td>2</td>\n",
       "      <td>Yes</td>\n",
       "      <td>No</td>\n",
       "      <td>DSL</td>\n",
       "      <td>Yes</td>\n",
       "      <td>...</td>\n",
       "      <td>No</td>\n",
       "      <td>No</td>\n",
       "      <td>No</td>\n",
       "      <td>No</td>\n",
       "      <td>Month-to-month</td>\n",
       "      <td>Yes</td>\n",
       "      <td>Mailed check</td>\n",
       "      <td>53.85</td>\n",
       "      <td>108.15</td>\n",
       "      <td>Yes</td>\n",
       "    </tr>\n",
       "    <tr>\n",
       "      <th>13</th>\n",
       "      <td>0280-XJGEX</td>\n",
       "      <td>Male</td>\n",
       "      <td>0</td>\n",
       "      <td>No</td>\n",
       "      <td>No</td>\n",
       "      <td>49</td>\n",
       "      <td>Yes</td>\n",
       "      <td>Yes</td>\n",
       "      <td>Fiber optic</td>\n",
       "      <td>No</td>\n",
       "      <td>...</td>\n",
       "      <td>Yes</td>\n",
       "      <td>No</td>\n",
       "      <td>Yes</td>\n",
       "      <td>Yes</td>\n",
       "      <td>Month-to-month</td>\n",
       "      <td>Yes</td>\n",
       "      <td>Bank transfer (automatic)</td>\n",
       "      <td>103.70</td>\n",
       "      <td>5036.3</td>\n",
       "      <td>Yes</td>\n",
       "    </tr>\n",
       "    <tr>\n",
       "      <th>20</th>\n",
       "      <td>8779-QRDMV</td>\n",
       "      <td>Male</td>\n",
       "      <td>1</td>\n",
       "      <td>No</td>\n",
       "      <td>No</td>\n",
       "      <td>1</td>\n",
       "      <td>No</td>\n",
       "      <td>No phone service</td>\n",
       "      <td>DSL</td>\n",
       "      <td>No</td>\n",
       "      <td>...</td>\n",
       "      <td>Yes</td>\n",
       "      <td>No</td>\n",
       "      <td>No</td>\n",
       "      <td>Yes</td>\n",
       "      <td>Month-to-month</td>\n",
       "      <td>Yes</td>\n",
       "      <td>Electronic check</td>\n",
       "      <td>39.65</td>\n",
       "      <td>39.65</td>\n",
       "      <td>Yes</td>\n",
       "    </tr>\n",
       "    <tr>\n",
       "      <th>22</th>\n",
       "      <td>1066-JKSGK</td>\n",
       "      <td>Male</td>\n",
       "      <td>0</td>\n",
       "      <td>No</td>\n",
       "      <td>No</td>\n",
       "      <td>1</td>\n",
       "      <td>Yes</td>\n",
       "      <td>No</td>\n",
       "      <td>No</td>\n",
       "      <td>No internet service</td>\n",
       "      <td>...</td>\n",
       "      <td>No internet service</td>\n",
       "      <td>No internet service</td>\n",
       "      <td>No internet service</td>\n",
       "      <td>No internet service</td>\n",
       "      <td>Month-to-month</td>\n",
       "      <td>No</td>\n",
       "      <td>Mailed check</td>\n",
       "      <td>20.15</td>\n",
       "      <td>20.15</td>\n",
       "      <td>Yes</td>\n",
       "    </tr>\n",
       "    <tr>\n",
       "      <th>26</th>\n",
       "      <td>6467-CHFZW</td>\n",
       "      <td>Male</td>\n",
       "      <td>0</td>\n",
       "      <td>Yes</td>\n",
       "      <td>Yes</td>\n",
       "      <td>47</td>\n",
       "      <td>Yes</td>\n",
       "      <td>Yes</td>\n",
       "      <td>Fiber optic</td>\n",
       "      <td>No</td>\n",
       "      <td>...</td>\n",
       "      <td>No</td>\n",
       "      <td>No</td>\n",
       "      <td>Yes</td>\n",
       "      <td>Yes</td>\n",
       "      <td>Month-to-month</td>\n",
       "      <td>Yes</td>\n",
       "      <td>Electronic check</td>\n",
       "      <td>99.35</td>\n",
       "      <td>4749.15</td>\n",
       "      <td>Yes</td>\n",
       "    </tr>\n",
       "    <tr>\n",
       "      <th>27</th>\n",
       "      <td>8665-UTDHZ</td>\n",
       "      <td>Male</td>\n",
       "      <td>0</td>\n",
       "      <td>Yes</td>\n",
       "      <td>Yes</td>\n",
       "      <td>1</td>\n",
       "      <td>No</td>\n",
       "      <td>No phone service</td>\n",
       "      <td>DSL</td>\n",
       "      <td>No</td>\n",
       "      <td>...</td>\n",
       "      <td>No</td>\n",
       "      <td>No</td>\n",
       "      <td>No</td>\n",
       "      <td>No</td>\n",
       "      <td>Month-to-month</td>\n",
       "      <td>No</td>\n",
       "      <td>Electronic check</td>\n",
       "      <td>30.20</td>\n",
       "      <td>30.2</td>\n",
       "      <td>Yes</td>\n",
       "    </tr>\n",
       "    <tr>\n",
       "      <th>36</th>\n",
       "      <td>6047-YHPVI</td>\n",
       "      <td>Male</td>\n",
       "      <td>0</td>\n",
       "      <td>No</td>\n",
       "      <td>No</td>\n",
       "      <td>5</td>\n",
       "      <td>Yes</td>\n",
       "      <td>No</td>\n",
       "      <td>Fiber optic</td>\n",
       "      <td>No</td>\n",
       "      <td>...</td>\n",
       "      <td>No</td>\n",
       "      <td>No</td>\n",
       "      <td>No</td>\n",
       "      <td>No</td>\n",
       "      <td>Month-to-month</td>\n",
       "      <td>Yes</td>\n",
       "      <td>Electronic check</td>\n",
       "      <td>69.70</td>\n",
       "      <td>316.9</td>\n",
       "      <td>Yes</td>\n",
       "    </tr>\n",
       "    <tr>\n",
       "      <th>38</th>\n",
       "      <td>5380-WJKOV</td>\n",
       "      <td>Male</td>\n",
       "      <td>0</td>\n",
       "      <td>No</td>\n",
       "      <td>No</td>\n",
       "      <td>34</td>\n",
       "      <td>Yes</td>\n",
       "      <td>Yes</td>\n",
       "      <td>Fiber optic</td>\n",
       "      <td>No</td>\n",
       "      <td>...</td>\n",
       "      <td>Yes</td>\n",
       "      <td>No</td>\n",
       "      <td>Yes</td>\n",
       "      <td>Yes</td>\n",
       "      <td>Month-to-month</td>\n",
       "      <td>Yes</td>\n",
       "      <td>Electronic check</td>\n",
       "      <td>106.35</td>\n",
       "      <td>3549.25</td>\n",
       "      <td>Yes</td>\n",
       "    </tr>\n",
       "    <tr>\n",
       "      <th>55</th>\n",
       "      <td>1658-BYGOY</td>\n",
       "      <td>Male</td>\n",
       "      <td>1</td>\n",
       "      <td>No</td>\n",
       "      <td>No</td>\n",
       "      <td>18</td>\n",
       "      <td>Yes</td>\n",
       "      <td>Yes</td>\n",
       "      <td>Fiber optic</td>\n",
       "      <td>No</td>\n",
       "      <td>...</td>\n",
       "      <td>No</td>\n",
       "      <td>No</td>\n",
       "      <td>Yes</td>\n",
       "      <td>Yes</td>\n",
       "      <td>Month-to-month</td>\n",
       "      <td>Yes</td>\n",
       "      <td>Electronic check</td>\n",
       "      <td>95.45</td>\n",
       "      <td>1752.55</td>\n",
       "      <td>Yes</td>\n",
       "    </tr>\n",
       "    <tr>\n",
       "      <th>97</th>\n",
       "      <td>0278-YXOOG</td>\n",
       "      <td>Male</td>\n",
       "      <td>0</td>\n",
       "      <td>No</td>\n",
       "      <td>No</td>\n",
       "      <td>5</td>\n",
       "      <td>Yes</td>\n",
       "      <td>No</td>\n",
       "      <td>No</td>\n",
       "      <td>No internet service</td>\n",
       "      <td>...</td>\n",
       "      <td>No internet service</td>\n",
       "      <td>No internet service</td>\n",
       "      <td>No internet service</td>\n",
       "      <td>No internet service</td>\n",
       "      <td>Month-to-month</td>\n",
       "      <td>No</td>\n",
       "      <td>Mailed check</td>\n",
       "      <td>21.05</td>\n",
       "      <td>113.85</td>\n",
       "      <td>Yes</td>\n",
       "    </tr>\n",
       "    <tr>\n",
       "      <th>104</th>\n",
       "      <td>3192-NQECA</td>\n",
       "      <td>Male</td>\n",
       "      <td>0</td>\n",
       "      <td>Yes</td>\n",
       "      <td>No</td>\n",
       "      <td>68</td>\n",
       "      <td>Yes</td>\n",
       "      <td>Yes</td>\n",
       "      <td>Fiber optic</td>\n",
       "      <td>No</td>\n",
       "      <td>...</td>\n",
       "      <td>Yes</td>\n",
       "      <td>Yes</td>\n",
       "      <td>Yes</td>\n",
       "      <td>Yes</td>\n",
       "      <td>Two year</td>\n",
       "      <td>Yes</td>\n",
       "      <td>Bank transfer (automatic)</td>\n",
       "      <td>110.00</td>\n",
       "      <td>7611.85</td>\n",
       "      <td>Yes</td>\n",
       "    </tr>\n",
       "    <tr>\n",
       "      <th>110</th>\n",
       "      <td>0486-HECZI</td>\n",
       "      <td>Male</td>\n",
       "      <td>0</td>\n",
       "      <td>Yes</td>\n",
       "      <td>No</td>\n",
       "      <td>55</td>\n",
       "      <td>Yes</td>\n",
       "      <td>Yes</td>\n",
       "      <td>Fiber optic</td>\n",
       "      <td>Yes</td>\n",
       "      <td>...</td>\n",
       "      <td>No</td>\n",
       "      <td>No</td>\n",
       "      <td>Yes</td>\n",
       "      <td>No</td>\n",
       "      <td>Month-to-month</td>\n",
       "      <td>Yes</td>\n",
       "      <td>Electronic check</td>\n",
       "      <td>96.75</td>\n",
       "      <td>5238.9</td>\n",
       "      <td>Yes</td>\n",
       "    </tr>\n",
       "    <tr>\n",
       "      <th>122</th>\n",
       "      <td>0404-SWRVG</td>\n",
       "      <td>Male</td>\n",
       "      <td>0</td>\n",
       "      <td>No</td>\n",
       "      <td>No</td>\n",
       "      <td>3</td>\n",
       "      <td>Yes</td>\n",
       "      <td>Yes</td>\n",
       "      <td>Fiber optic</td>\n",
       "      <td>No</td>\n",
       "      <td>...</td>\n",
       "      <td>No</td>\n",
       "      <td>No</td>\n",
       "      <td>No</td>\n",
       "      <td>No</td>\n",
       "      <td>Month-to-month</td>\n",
       "      <td>Yes</td>\n",
       "      <td>Electronic check</td>\n",
       "      <td>74.40</td>\n",
       "      <td>229.55</td>\n",
       "      <td>Yes</td>\n",
       "    </tr>\n",
       "    <tr>\n",
       "      <th>133</th>\n",
       "      <td>3091-FYHKI</td>\n",
       "      <td>Male</td>\n",
       "      <td>0</td>\n",
       "      <td>No</td>\n",
       "      <td>No</td>\n",
       "      <td>1</td>\n",
       "      <td>No</td>\n",
       "      <td>No phone service</td>\n",
       "      <td>DSL</td>\n",
       "      <td>No</td>\n",
       "      <td>...</td>\n",
       "      <td>No</td>\n",
       "      <td>No</td>\n",
       "      <td>No</td>\n",
       "      <td>Yes</td>\n",
       "      <td>Month-to-month</td>\n",
       "      <td>Yes</td>\n",
       "      <td>Electronic check</td>\n",
       "      <td>35.45</td>\n",
       "      <td>35.45</td>\n",
       "      <td>Yes</td>\n",
       "    </tr>\n",
       "    <tr>\n",
       "      <th>134</th>\n",
       "      <td>2372-HWUHI</td>\n",
       "      <td>Male</td>\n",
       "      <td>0</td>\n",
       "      <td>No</td>\n",
       "      <td>No</td>\n",
       "      <td>2</td>\n",
       "      <td>Yes</td>\n",
       "      <td>No</td>\n",
       "      <td>DSL</td>\n",
       "      <td>No</td>\n",
       "      <td>...</td>\n",
       "      <td>No</td>\n",
       "      <td>No</td>\n",
       "      <td>No</td>\n",
       "      <td>No</td>\n",
       "      <td>Month-to-month</td>\n",
       "      <td>No</td>\n",
       "      <td>Electronic check</td>\n",
       "      <td>44.35</td>\n",
       "      <td>81.25</td>\n",
       "      <td>Yes</td>\n",
       "    </tr>\n",
       "    <tr>\n",
       "      <th>147</th>\n",
       "      <td>2135-RXIHG</td>\n",
       "      <td>Male</td>\n",
       "      <td>0</td>\n",
       "      <td>No</td>\n",
       "      <td>No</td>\n",
       "      <td>1</td>\n",
       "      <td>Yes</td>\n",
       "      <td>No</td>\n",
       "      <td>DSL</td>\n",
       "      <td>No</td>\n",
       "      <td>...</td>\n",
       "      <td>No</td>\n",
       "      <td>No</td>\n",
       "      <td>No</td>\n",
       "      <td>No</td>\n",
       "      <td>Month-to-month</td>\n",
       "      <td>Yes</td>\n",
       "      <td>Electronic check</td>\n",
       "      <td>45.65</td>\n",
       "      <td>45.65</td>\n",
       "      <td>Yes</td>\n",
       "    </tr>\n",
       "    <tr>\n",
       "      <th>151</th>\n",
       "      <td>3874-EQOEP</td>\n",
       "      <td>Male</td>\n",
       "      <td>0</td>\n",
       "      <td>No</td>\n",
       "      <td>No</td>\n",
       "      <td>7</td>\n",
       "      <td>Yes</td>\n",
       "      <td>Yes</td>\n",
       "      <td>Fiber optic</td>\n",
       "      <td>No</td>\n",
       "      <td>...</td>\n",
       "      <td>No</td>\n",
       "      <td>No</td>\n",
       "      <td>Yes</td>\n",
       "      <td>Yes</td>\n",
       "      <td>Month-to-month</td>\n",
       "      <td>No</td>\n",
       "      <td>Mailed check</td>\n",
       "      <td>95.00</td>\n",
       "      <td>655.5</td>\n",
       "      <td>Yes</td>\n",
       "    </tr>\n",
       "    <tr>\n",
       "      <th>168</th>\n",
       "      <td>3445-HXXGF</td>\n",
       "      <td>Male</td>\n",
       "      <td>1</td>\n",
       "      <td>Yes</td>\n",
       "      <td>No</td>\n",
       "      <td>58</td>\n",
       "      <td>No</td>\n",
       "      <td>No phone service</td>\n",
       "      <td>DSL</td>\n",
       "      <td>No</td>\n",
       "      <td>...</td>\n",
       "      <td>Yes</td>\n",
       "      <td>No</td>\n",
       "      <td>No</td>\n",
       "      <td>Yes</td>\n",
       "      <td>Month-to-month</td>\n",
       "      <td>Yes</td>\n",
       "      <td>Electronic check</td>\n",
       "      <td>45.30</td>\n",
       "      <td>2651.2</td>\n",
       "      <td>Yes</td>\n",
       "    </tr>\n",
       "    <tr>\n",
       "      <th>182</th>\n",
       "      <td>9367-WXLCH</td>\n",
       "      <td>Male</td>\n",
       "      <td>0</td>\n",
       "      <td>No</td>\n",
       "      <td>No</td>\n",
       "      <td>8</td>\n",
       "      <td>Yes</td>\n",
       "      <td>Yes</td>\n",
       "      <td>Fiber optic</td>\n",
       "      <td>No</td>\n",
       "      <td>...</td>\n",
       "      <td>No</td>\n",
       "      <td>No</td>\n",
       "      <td>No</td>\n",
       "      <td>Yes</td>\n",
       "      <td>Month-to-month</td>\n",
       "      <td>No</td>\n",
       "      <td>Bank transfer (automatic)</td>\n",
       "      <td>84.50</td>\n",
       "      <td>662.65</td>\n",
       "      <td>Yes</td>\n",
       "    </tr>\n",
       "    <tr>\n",
       "      <th>191</th>\n",
       "      <td>2472-OVKUP</td>\n",
       "      <td>Male</td>\n",
       "      <td>0</td>\n",
       "      <td>Yes</td>\n",
       "      <td>No</td>\n",
       "      <td>6</td>\n",
       "      <td>Yes</td>\n",
       "      <td>No</td>\n",
       "      <td>Fiber optic</td>\n",
       "      <td>No</td>\n",
       "      <td>...</td>\n",
       "      <td>Yes</td>\n",
       "      <td>No</td>\n",
       "      <td>No</td>\n",
       "      <td>Yes</td>\n",
       "      <td>Month-to-month</td>\n",
       "      <td>Yes</td>\n",
       "      <td>Electronic check</td>\n",
       "      <td>91.00</td>\n",
       "      <td>531</td>\n",
       "      <td>Yes</td>\n",
       "    </tr>\n",
       "    <tr>\n",
       "      <th>207</th>\n",
       "      <td>1285-OKIPP</td>\n",
       "      <td>Male</td>\n",
       "      <td>0</td>\n",
       "      <td>No</td>\n",
       "      <td>No</td>\n",
       "      <td>1</td>\n",
       "      <td>Yes</td>\n",
       "      <td>No</td>\n",
       "      <td>Fiber optic</td>\n",
       "      <td>No</td>\n",
       "      <td>...</td>\n",
       "      <td>No</td>\n",
       "      <td>No</td>\n",
       "      <td>No</td>\n",
       "      <td>Yes</td>\n",
       "      <td>Month-to-month</td>\n",
       "      <td>No</td>\n",
       "      <td>Electronic check</td>\n",
       "      <td>79.90</td>\n",
       "      <td>79.9</td>\n",
       "      <td>Yes</td>\n",
       "    </tr>\n",
       "    <tr>\n",
       "      <th>210</th>\n",
       "      <td>7841-TZDMQ</td>\n",
       "      <td>Male</td>\n",
       "      <td>0</td>\n",
       "      <td>No</td>\n",
       "      <td>No</td>\n",
       "      <td>2</td>\n",
       "      <td>Yes</td>\n",
       "      <td>No</td>\n",
       "      <td>DSL</td>\n",
       "      <td>No</td>\n",
       "      <td>...</td>\n",
       "      <td>No</td>\n",
       "      <td>No</td>\n",
       "      <td>No</td>\n",
       "      <td>No</td>\n",
       "      <td>Month-to-month</td>\n",
       "      <td>Yes</td>\n",
       "      <td>Credit card (automatic)</td>\n",
       "      <td>46.00</td>\n",
       "      <td>84.5</td>\n",
       "      <td>Yes</td>\n",
       "    </tr>\n",
       "    <tr>\n",
       "      <th>223</th>\n",
       "      <td>0742-MOABM</td>\n",
       "      <td>Male</td>\n",
       "      <td>0</td>\n",
       "      <td>Yes</td>\n",
       "      <td>No</td>\n",
       "      <td>4</td>\n",
       "      <td>Yes</td>\n",
       "      <td>No</td>\n",
       "      <td>DSL</td>\n",
       "      <td>No</td>\n",
       "      <td>...</td>\n",
       "      <td>No</td>\n",
       "      <td>Yes</td>\n",
       "      <td>No</td>\n",
       "      <td>No</td>\n",
       "      <td>Month-to-month</td>\n",
       "      <td>No</td>\n",
       "      <td>Mailed check</td>\n",
       "      <td>50.05</td>\n",
       "      <td>179.35</td>\n",
       "      <td>Yes</td>\n",
       "    </tr>\n",
       "    <tr>\n",
       "      <th>232</th>\n",
       "      <td>8937-RDTHP</td>\n",
       "      <td>Male</td>\n",
       "      <td>0</td>\n",
       "      <td>No</td>\n",
       "      <td>No</td>\n",
       "      <td>1</td>\n",
       "      <td>Yes</td>\n",
       "      <td>No</td>\n",
       "      <td>Fiber optic</td>\n",
       "      <td>Yes</td>\n",
       "      <td>...</td>\n",
       "      <td>No</td>\n",
       "      <td>No</td>\n",
       "      <td>No</td>\n",
       "      <td>Yes</td>\n",
       "      <td>Month-to-month</td>\n",
       "      <td>Yes</td>\n",
       "      <td>Mailed check</td>\n",
       "      <td>84.60</td>\n",
       "      <td>84.6</td>\n",
       "      <td>Yes</td>\n",
       "    </tr>\n",
       "    <tr>\n",
       "      <th>235</th>\n",
       "      <td>1251-KRREG</td>\n",
       "      <td>Male</td>\n",
       "      <td>0</td>\n",
       "      <td>No</td>\n",
       "      <td>No</td>\n",
       "      <td>2</td>\n",
       "      <td>Yes</td>\n",
       "      <td>Yes</td>\n",
       "      <td>DSL</td>\n",
       "      <td>No</td>\n",
       "      <td>...</td>\n",
       "      <td>No</td>\n",
       "      <td>No</td>\n",
       "      <td>No</td>\n",
       "      <td>No</td>\n",
       "      <td>Month-to-month</td>\n",
       "      <td>Yes</td>\n",
       "      <td>Mailed check</td>\n",
       "      <td>54.40</td>\n",
       "      <td>114.1</td>\n",
       "      <td>Yes</td>\n",
       "    </tr>\n",
       "    <tr>\n",
       "      <th>247</th>\n",
       "      <td>9947-OTFQU</td>\n",
       "      <td>Male</td>\n",
       "      <td>1</td>\n",
       "      <td>No</td>\n",
       "      <td>No</td>\n",
       "      <td>15</td>\n",
       "      <td>Yes</td>\n",
       "      <td>No</td>\n",
       "      <td>Fiber optic</td>\n",
       "      <td>No</td>\n",
       "      <td>...</td>\n",
       "      <td>No</td>\n",
       "      <td>No</td>\n",
       "      <td>No</td>\n",
       "      <td>No</td>\n",
       "      <td>Month-to-month</td>\n",
       "      <td>Yes</td>\n",
       "      <td>Electronic check</td>\n",
       "      <td>74.40</td>\n",
       "      <td>1074.3</td>\n",
       "      <td>Yes</td>\n",
       "    </tr>\n",
       "    <tr>\n",
       "      <th>248</th>\n",
       "      <td>0322-YINQP</td>\n",
       "      <td>Male</td>\n",
       "      <td>0</td>\n",
       "      <td>No</td>\n",
       "      <td>No</td>\n",
       "      <td>1</td>\n",
       "      <td>Yes</td>\n",
       "      <td>No</td>\n",
       "      <td>DSL</td>\n",
       "      <td>Yes</td>\n",
       "      <td>...</td>\n",
       "      <td>No</td>\n",
       "      <td>No</td>\n",
       "      <td>No</td>\n",
       "      <td>No</td>\n",
       "      <td>Month-to-month</td>\n",
       "      <td>Yes</td>\n",
       "      <td>Mailed check</td>\n",
       "      <td>48.55</td>\n",
       "      <td>48.55</td>\n",
       "      <td>Yes</td>\n",
       "    </tr>\n",
       "    <tr>\n",
       "      <th>252</th>\n",
       "      <td>9514-JDSKI</td>\n",
       "      <td>Male</td>\n",
       "      <td>1</td>\n",
       "      <td>Yes</td>\n",
       "      <td>No</td>\n",
       "      <td>1</td>\n",
       "      <td>No</td>\n",
       "      <td>No phone service</td>\n",
       "      <td>DSL</td>\n",
       "      <td>No</td>\n",
       "      <td>...</td>\n",
       "      <td>No</td>\n",
       "      <td>No</td>\n",
       "      <td>Yes</td>\n",
       "      <td>No</td>\n",
       "      <td>Month-to-month</td>\n",
       "      <td>No</td>\n",
       "      <td>Electronic check</td>\n",
       "      <td>40.20</td>\n",
       "      <td>40.2</td>\n",
       "      <td>Yes</td>\n",
       "    </tr>\n",
       "    <tr>\n",
       "      <th>260</th>\n",
       "      <td>7273-TEFQD</td>\n",
       "      <td>Male</td>\n",
       "      <td>1</td>\n",
       "      <td>No</td>\n",
       "      <td>No</td>\n",
       "      <td>3</td>\n",
       "      <td>No</td>\n",
       "      <td>No phone service</td>\n",
       "      <td>DSL</td>\n",
       "      <td>No</td>\n",
       "      <td>...</td>\n",
       "      <td>Yes</td>\n",
       "      <td>No</td>\n",
       "      <td>No</td>\n",
       "      <td>Yes</td>\n",
       "      <td>Month-to-month</td>\n",
       "      <td>Yes</td>\n",
       "      <td>Electronic check</td>\n",
       "      <td>41.15</td>\n",
       "      <td>132.2</td>\n",
       "      <td>Yes</td>\n",
       "    </tr>\n",
       "    <tr>\n",
       "      <th>261</th>\n",
       "      <td>3606-TWKGI</td>\n",
       "      <td>Male</td>\n",
       "      <td>1</td>\n",
       "      <td>No</td>\n",
       "      <td>No</td>\n",
       "      <td>13</td>\n",
       "      <td>Yes</td>\n",
       "      <td>Yes</td>\n",
       "      <td>Fiber optic</td>\n",
       "      <td>No</td>\n",
       "      <td>...</td>\n",
       "      <td>Yes</td>\n",
       "      <td>No</td>\n",
       "      <td>Yes</td>\n",
       "      <td>Yes</td>\n",
       "      <td>Month-to-month</td>\n",
       "      <td>Yes</td>\n",
       "      <td>Electronic check</td>\n",
       "      <td>106.90</td>\n",
       "      <td>1364.3</td>\n",
       "      <td>Yes</td>\n",
       "    </tr>\n",
       "    <tr>\n",
       "      <th>...</th>\n",
       "      <td>...</td>\n",
       "      <td>...</td>\n",
       "      <td>...</td>\n",
       "      <td>...</td>\n",
       "      <td>...</td>\n",
       "      <td>...</td>\n",
       "      <td>...</td>\n",
       "      <td>...</td>\n",
       "      <td>...</td>\n",
       "      <td>...</td>\n",
       "      <td>...</td>\n",
       "      <td>...</td>\n",
       "      <td>...</td>\n",
       "      <td>...</td>\n",
       "      <td>...</td>\n",
       "      <td>...</td>\n",
       "      <td>...</td>\n",
       "      <td>...</td>\n",
       "      <td>...</td>\n",
       "      <td>...</td>\n",
       "      <td>...</td>\n",
       "    </tr>\n",
       "    <tr>\n",
       "      <th>6816</th>\n",
       "      <td>2446-PLQVO</td>\n",
       "      <td>Male</td>\n",
       "      <td>0</td>\n",
       "      <td>No</td>\n",
       "      <td>No</td>\n",
       "      <td>1</td>\n",
       "      <td>Yes</td>\n",
       "      <td>No</td>\n",
       "      <td>Fiber optic</td>\n",
       "      <td>No</td>\n",
       "      <td>...</td>\n",
       "      <td>No</td>\n",
       "      <td>No</td>\n",
       "      <td>No</td>\n",
       "      <td>No</td>\n",
       "      <td>Month-to-month</td>\n",
       "      <td>Yes</td>\n",
       "      <td>Electronic check</td>\n",
       "      <td>70.30</td>\n",
       "      <td>70.3</td>\n",
       "      <td>Yes</td>\n",
       "    </tr>\n",
       "    <tr>\n",
       "      <th>6819</th>\n",
       "      <td>3005-NFMTA</td>\n",
       "      <td>Male</td>\n",
       "      <td>1</td>\n",
       "      <td>No</td>\n",
       "      <td>No</td>\n",
       "      <td>55</td>\n",
       "      <td>Yes</td>\n",
       "      <td>Yes</td>\n",
       "      <td>Fiber optic</td>\n",
       "      <td>Yes</td>\n",
       "      <td>...</td>\n",
       "      <td>No</td>\n",
       "      <td>No</td>\n",
       "      <td>Yes</td>\n",
       "      <td>Yes</td>\n",
       "      <td>Month-to-month</td>\n",
       "      <td>Yes</td>\n",
       "      <td>Electronic check</td>\n",
       "      <td>98.80</td>\n",
       "      <td>5617.75</td>\n",
       "      <td>Yes</td>\n",
       "    </tr>\n",
       "    <tr>\n",
       "      <th>6822</th>\n",
       "      <td>5389-FFVKB</td>\n",
       "      <td>Male</td>\n",
       "      <td>1</td>\n",
       "      <td>Yes</td>\n",
       "      <td>No</td>\n",
       "      <td>32</td>\n",
       "      <td>Yes</td>\n",
       "      <td>No</td>\n",
       "      <td>Fiber optic</td>\n",
       "      <td>No</td>\n",
       "      <td>...</td>\n",
       "      <td>No</td>\n",
       "      <td>No</td>\n",
       "      <td>No</td>\n",
       "      <td>Yes</td>\n",
       "      <td>Month-to-month</td>\n",
       "      <td>Yes</td>\n",
       "      <td>Credit card (automatic)</td>\n",
       "      <td>80.30</td>\n",
       "      <td>2483.05</td>\n",
       "      <td>Yes</td>\n",
       "    </tr>\n",
       "    <tr>\n",
       "      <th>6831</th>\n",
       "      <td>9451-LPGOO</td>\n",
       "      <td>Male</td>\n",
       "      <td>0</td>\n",
       "      <td>No</td>\n",
       "      <td>No</td>\n",
       "      <td>7</td>\n",
       "      <td>Yes</td>\n",
       "      <td>Yes</td>\n",
       "      <td>Fiber optic</td>\n",
       "      <td>No</td>\n",
       "      <td>...</td>\n",
       "      <td>No</td>\n",
       "      <td>No</td>\n",
       "      <td>No</td>\n",
       "      <td>Yes</td>\n",
       "      <td>Month-to-month</td>\n",
       "      <td>Yes</td>\n",
       "      <td>Electronic check</td>\n",
       "      <td>86.80</td>\n",
       "      <td>620.35</td>\n",
       "      <td>Yes</td>\n",
       "    </tr>\n",
       "    <tr>\n",
       "      <th>6836</th>\n",
       "      <td>5868-YWPDW</td>\n",
       "      <td>Male</td>\n",
       "      <td>1</td>\n",
       "      <td>Yes</td>\n",
       "      <td>No</td>\n",
       "      <td>6</td>\n",
       "      <td>Yes</td>\n",
       "      <td>No</td>\n",
       "      <td>Fiber optic</td>\n",
       "      <td>No</td>\n",
       "      <td>...</td>\n",
       "      <td>No</td>\n",
       "      <td>No</td>\n",
       "      <td>No</td>\n",
       "      <td>Yes</td>\n",
       "      <td>Month-to-month</td>\n",
       "      <td>Yes</td>\n",
       "      <td>Electronic check</td>\n",
       "      <td>84.20</td>\n",
       "      <td>519.15</td>\n",
       "      <td>Yes</td>\n",
       "    </tr>\n",
       "    <tr>\n",
       "      <th>6838</th>\n",
       "      <td>2025-JKFWI</td>\n",
       "      <td>Male</td>\n",
       "      <td>0</td>\n",
       "      <td>No</td>\n",
       "      <td>No</td>\n",
       "      <td>13</td>\n",
       "      <td>Yes</td>\n",
       "      <td>Yes</td>\n",
       "      <td>Fiber optic</td>\n",
       "      <td>No</td>\n",
       "      <td>...</td>\n",
       "      <td>No</td>\n",
       "      <td>Yes</td>\n",
       "      <td>Yes</td>\n",
       "      <td>Yes</td>\n",
       "      <td>Month-to-month</td>\n",
       "      <td>Yes</td>\n",
       "      <td>Mailed check</td>\n",
       "      <td>99.00</td>\n",
       "      <td>1301.7</td>\n",
       "      <td>Yes</td>\n",
       "    </tr>\n",
       "    <tr>\n",
       "      <th>6866</th>\n",
       "      <td>0295-PPHDO</td>\n",
       "      <td>Male</td>\n",
       "      <td>0</td>\n",
       "      <td>No</td>\n",
       "      <td>No</td>\n",
       "      <td>1</td>\n",
       "      <td>Yes</td>\n",
       "      <td>Yes</td>\n",
       "      <td>Fiber optic</td>\n",
       "      <td>No</td>\n",
       "      <td>...</td>\n",
       "      <td>No</td>\n",
       "      <td>No</td>\n",
       "      <td>Yes</td>\n",
       "      <td>Yes</td>\n",
       "      <td>Month-to-month</td>\n",
       "      <td>Yes</td>\n",
       "      <td>Electronic check</td>\n",
       "      <td>95.45</td>\n",
       "      <td>95.45</td>\n",
       "      <td>Yes</td>\n",
       "    </tr>\n",
       "    <tr>\n",
       "      <th>6868</th>\n",
       "      <td>1195-OIYEJ</td>\n",
       "      <td>Male</td>\n",
       "      <td>0</td>\n",
       "      <td>No</td>\n",
       "      <td>No</td>\n",
       "      <td>13</td>\n",
       "      <td>Yes</td>\n",
       "      <td>No</td>\n",
       "      <td>Fiber optic</td>\n",
       "      <td>No</td>\n",
       "      <td>...</td>\n",
       "      <td>No</td>\n",
       "      <td>No</td>\n",
       "      <td>Yes</td>\n",
       "      <td>Yes</td>\n",
       "      <td>Month-to-month</td>\n",
       "      <td>Yes</td>\n",
       "      <td>Electronic check</td>\n",
       "      <td>91.10</td>\n",
       "      <td>1135.7</td>\n",
       "      <td>Yes</td>\n",
       "    </tr>\n",
       "    <tr>\n",
       "      <th>6884</th>\n",
       "      <td>7384-GHBPI</td>\n",
       "      <td>Male</td>\n",
       "      <td>0</td>\n",
       "      <td>Yes</td>\n",
       "      <td>No</td>\n",
       "      <td>3</td>\n",
       "      <td>No</td>\n",
       "      <td>No phone service</td>\n",
       "      <td>DSL</td>\n",
       "      <td>No</td>\n",
       "      <td>...</td>\n",
       "      <td>No</td>\n",
       "      <td>No</td>\n",
       "      <td>No</td>\n",
       "      <td>Yes</td>\n",
       "      <td>Month-to-month</td>\n",
       "      <td>Yes</td>\n",
       "      <td>Electronic check</td>\n",
       "      <td>35.15</td>\n",
       "      <td>99.75</td>\n",
       "      <td>Yes</td>\n",
       "    </tr>\n",
       "    <tr>\n",
       "      <th>6885</th>\n",
       "      <td>7603-USHJS</td>\n",
       "      <td>Male</td>\n",
       "      <td>0</td>\n",
       "      <td>No</td>\n",
       "      <td>Yes</td>\n",
       "      <td>12</td>\n",
       "      <td>Yes</td>\n",
       "      <td>Yes</td>\n",
       "      <td>Fiber optic</td>\n",
       "      <td>No</td>\n",
       "      <td>...</td>\n",
       "      <td>No</td>\n",
       "      <td>No</td>\n",
       "      <td>No</td>\n",
       "      <td>No</td>\n",
       "      <td>Month-to-month</td>\n",
       "      <td>Yes</td>\n",
       "      <td>Credit card (automatic)</td>\n",
       "      <td>73.75</td>\n",
       "      <td>871.4</td>\n",
       "      <td>Yes</td>\n",
       "    </tr>\n",
       "    <tr>\n",
       "      <th>6894</th>\n",
       "      <td>1400-MMYXY</td>\n",
       "      <td>Male</td>\n",
       "      <td>1</td>\n",
       "      <td>Yes</td>\n",
       "      <td>No</td>\n",
       "      <td>3</td>\n",
       "      <td>Yes</td>\n",
       "      <td>Yes</td>\n",
       "      <td>Fiber optic</td>\n",
       "      <td>No</td>\n",
       "      <td>...</td>\n",
       "      <td>Yes</td>\n",
       "      <td>No</td>\n",
       "      <td>Yes</td>\n",
       "      <td>Yes</td>\n",
       "      <td>Month-to-month</td>\n",
       "      <td>Yes</td>\n",
       "      <td>Electronic check</td>\n",
       "      <td>105.90</td>\n",
       "      <td>334.65</td>\n",
       "      <td>Yes</td>\n",
       "    </tr>\n",
       "    <tr>\n",
       "      <th>6899</th>\n",
       "      <td>3926-CUQZX</td>\n",
       "      <td>Male</td>\n",
       "      <td>0</td>\n",
       "      <td>No</td>\n",
       "      <td>No</td>\n",
       "      <td>1</td>\n",
       "      <td>Yes</td>\n",
       "      <td>No</td>\n",
       "      <td>DSL</td>\n",
       "      <td>No</td>\n",
       "      <td>...</td>\n",
       "      <td>No</td>\n",
       "      <td>No</td>\n",
       "      <td>No</td>\n",
       "      <td>No</td>\n",
       "      <td>Month-to-month</td>\n",
       "      <td>Yes</td>\n",
       "      <td>Bank transfer (automatic)</td>\n",
       "      <td>45.10</td>\n",
       "      <td>45.1</td>\n",
       "      <td>Yes</td>\n",
       "    </tr>\n",
       "    <tr>\n",
       "      <th>6908</th>\n",
       "      <td>1750-CSKKM</td>\n",
       "      <td>Male</td>\n",
       "      <td>0</td>\n",
       "      <td>No</td>\n",
       "      <td>Yes</td>\n",
       "      <td>9</td>\n",
       "      <td>Yes</td>\n",
       "      <td>No</td>\n",
       "      <td>DSL</td>\n",
       "      <td>No</td>\n",
       "      <td>...</td>\n",
       "      <td>No</td>\n",
       "      <td>No</td>\n",
       "      <td>Yes</td>\n",
       "      <td>No</td>\n",
       "      <td>Month-to-month</td>\n",
       "      <td>No</td>\n",
       "      <td>Electronic check</td>\n",
       "      <td>55.35</td>\n",
       "      <td>449.75</td>\n",
       "      <td>Yes</td>\n",
       "    </tr>\n",
       "    <tr>\n",
       "      <th>6914</th>\n",
       "      <td>7142-HVGBG</td>\n",
       "      <td>Male</td>\n",
       "      <td>1</td>\n",
       "      <td>Yes</td>\n",
       "      <td>No</td>\n",
       "      <td>43</td>\n",
       "      <td>Yes</td>\n",
       "      <td>Yes</td>\n",
       "      <td>Fiber optic</td>\n",
       "      <td>No</td>\n",
       "      <td>...</td>\n",
       "      <td>Yes</td>\n",
       "      <td>No</td>\n",
       "      <td>Yes</td>\n",
       "      <td>Yes</td>\n",
       "      <td>Month-to-month</td>\n",
       "      <td>Yes</td>\n",
       "      <td>Electronic check</td>\n",
       "      <td>103.00</td>\n",
       "      <td>4414.3</td>\n",
       "      <td>Yes</td>\n",
       "    </tr>\n",
       "    <tr>\n",
       "      <th>6924</th>\n",
       "      <td>6457-GIRWB</td>\n",
       "      <td>Male</td>\n",
       "      <td>0</td>\n",
       "      <td>No</td>\n",
       "      <td>No</td>\n",
       "      <td>1</td>\n",
       "      <td>Yes</td>\n",
       "      <td>No</td>\n",
       "      <td>Fiber optic</td>\n",
       "      <td>No</td>\n",
       "      <td>...</td>\n",
       "      <td>No</td>\n",
       "      <td>No</td>\n",
       "      <td>No</td>\n",
       "      <td>No</td>\n",
       "      <td>Month-to-month</td>\n",
       "      <td>Yes</td>\n",
       "      <td>Electronic check</td>\n",
       "      <td>69.35</td>\n",
       "      <td>69.35</td>\n",
       "      <td>Yes</td>\n",
       "    </tr>\n",
       "    <tr>\n",
       "      <th>6933</th>\n",
       "      <td>6502-MJQAE</td>\n",
       "      <td>Male</td>\n",
       "      <td>0</td>\n",
       "      <td>No</td>\n",
       "      <td>No</td>\n",
       "      <td>1</td>\n",
       "      <td>Yes</td>\n",
       "      <td>No</td>\n",
       "      <td>Fiber optic</td>\n",
       "      <td>No</td>\n",
       "      <td>...</td>\n",
       "      <td>No</td>\n",
       "      <td>No</td>\n",
       "      <td>No</td>\n",
       "      <td>No</td>\n",
       "      <td>Month-to-month</td>\n",
       "      <td>Yes</td>\n",
       "      <td>Electronic check</td>\n",
       "      <td>69.60</td>\n",
       "      <td>69.6</td>\n",
       "      <td>Yes</td>\n",
       "    </tr>\n",
       "    <tr>\n",
       "      <th>6936</th>\n",
       "      <td>7693-LCKZL</td>\n",
       "      <td>Male</td>\n",
       "      <td>0</td>\n",
       "      <td>Yes</td>\n",
       "      <td>Yes</td>\n",
       "      <td>5</td>\n",
       "      <td>Yes</td>\n",
       "      <td>Yes</td>\n",
       "      <td>Fiber optic</td>\n",
       "      <td>No</td>\n",
       "      <td>...</td>\n",
       "      <td>No</td>\n",
       "      <td>No</td>\n",
       "      <td>No</td>\n",
       "      <td>No</td>\n",
       "      <td>Month-to-month</td>\n",
       "      <td>Yes</td>\n",
       "      <td>Electronic check</td>\n",
       "      <td>80.15</td>\n",
       "      <td>385</td>\n",
       "      <td>Yes</td>\n",
       "    </tr>\n",
       "    <tr>\n",
       "      <th>6945</th>\n",
       "      <td>6797-LNAQX</td>\n",
       "      <td>Male</td>\n",
       "      <td>0</td>\n",
       "      <td>Yes</td>\n",
       "      <td>Yes</td>\n",
       "      <td>70</td>\n",
       "      <td>Yes</td>\n",
       "      <td>Yes</td>\n",
       "      <td>Fiber optic</td>\n",
       "      <td>No</td>\n",
       "      <td>...</td>\n",
       "      <td>No</td>\n",
       "      <td>No</td>\n",
       "      <td>Yes</td>\n",
       "      <td>Yes</td>\n",
       "      <td>Two year</td>\n",
       "      <td>No</td>\n",
       "      <td>Bank transfer (automatic)</td>\n",
       "      <td>98.30</td>\n",
       "      <td>6859.5</td>\n",
       "      <td>Yes</td>\n",
       "    </tr>\n",
       "    <tr>\n",
       "      <th>6967</th>\n",
       "      <td>8739-WWKDU</td>\n",
       "      <td>Male</td>\n",
       "      <td>1</td>\n",
       "      <td>No</td>\n",
       "      <td>No</td>\n",
       "      <td>25</td>\n",
       "      <td>Yes</td>\n",
       "      <td>Yes</td>\n",
       "      <td>Fiber optic</td>\n",
       "      <td>No</td>\n",
       "      <td>...</td>\n",
       "      <td>No</td>\n",
       "      <td>No</td>\n",
       "      <td>Yes</td>\n",
       "      <td>No</td>\n",
       "      <td>Month-to-month</td>\n",
       "      <td>Yes</td>\n",
       "      <td>Electronic check</td>\n",
       "      <td>89.50</td>\n",
       "      <td>2196.15</td>\n",
       "      <td>Yes</td>\n",
       "    </tr>\n",
       "    <tr>\n",
       "      <th>6969</th>\n",
       "      <td>4745-LSPLO</td>\n",
       "      <td>Male</td>\n",
       "      <td>0</td>\n",
       "      <td>No</td>\n",
       "      <td>No</td>\n",
       "      <td>1</td>\n",
       "      <td>Yes</td>\n",
       "      <td>No</td>\n",
       "      <td>No</td>\n",
       "      <td>No internet service</td>\n",
       "      <td>...</td>\n",
       "      <td>No internet service</td>\n",
       "      <td>No internet service</td>\n",
       "      <td>No internet service</td>\n",
       "      <td>No internet service</td>\n",
       "      <td>Month-to-month</td>\n",
       "      <td>No</td>\n",
       "      <td>Mailed check</td>\n",
       "      <td>20.50</td>\n",
       "      <td>20.5</td>\n",
       "      <td>Yes</td>\n",
       "    </tr>\n",
       "    <tr>\n",
       "      <th>6970</th>\n",
       "      <td>8083-YTZES</td>\n",
       "      <td>Male</td>\n",
       "      <td>0</td>\n",
       "      <td>No</td>\n",
       "      <td>No</td>\n",
       "      <td>4</td>\n",
       "      <td>Yes</td>\n",
       "      <td>Yes</td>\n",
       "      <td>Fiber optic</td>\n",
       "      <td>No</td>\n",
       "      <td>...</td>\n",
       "      <td>No</td>\n",
       "      <td>No</td>\n",
       "      <td>No</td>\n",
       "      <td>No</td>\n",
       "      <td>Month-to-month</td>\n",
       "      <td>Yes</td>\n",
       "      <td>Electronic check</td>\n",
       "      <td>74.35</td>\n",
       "      <td>265.35</td>\n",
       "      <td>Yes</td>\n",
       "    </tr>\n",
       "    <tr>\n",
       "      <th>6980</th>\n",
       "      <td>0786-VSSUD</td>\n",
       "      <td>Male</td>\n",
       "      <td>1</td>\n",
       "      <td>No</td>\n",
       "      <td>No</td>\n",
       "      <td>16</td>\n",
       "      <td>No</td>\n",
       "      <td>No phone service</td>\n",
       "      <td>DSL</td>\n",
       "      <td>No</td>\n",
       "      <td>...</td>\n",
       "      <td>No</td>\n",
       "      <td>No</td>\n",
       "      <td>Yes</td>\n",
       "      <td>No</td>\n",
       "      <td>Month-to-month</td>\n",
       "      <td>Yes</td>\n",
       "      <td>Mailed check</td>\n",
       "      <td>39.00</td>\n",
       "      <td>679.85</td>\n",
       "      <td>Yes</td>\n",
       "    </tr>\n",
       "    <tr>\n",
       "      <th>6999</th>\n",
       "      <td>2108-XWMPY</td>\n",
       "      <td>Male</td>\n",
       "      <td>0</td>\n",
       "      <td>No</td>\n",
       "      <td>No</td>\n",
       "      <td>3</td>\n",
       "      <td>No</td>\n",
       "      <td>No phone service</td>\n",
       "      <td>DSL</td>\n",
       "      <td>Yes</td>\n",
       "      <td>...</td>\n",
       "      <td>No</td>\n",
       "      <td>No</td>\n",
       "      <td>No</td>\n",
       "      <td>No</td>\n",
       "      <td>Month-to-month</td>\n",
       "      <td>Yes</td>\n",
       "      <td>Mailed check</td>\n",
       "      <td>35.45</td>\n",
       "      <td>106.85</td>\n",
       "      <td>Yes</td>\n",
       "    </tr>\n",
       "    <tr>\n",
       "      <th>7001</th>\n",
       "      <td>6304-IJFSQ</td>\n",
       "      <td>Male</td>\n",
       "      <td>0</td>\n",
       "      <td>No</td>\n",
       "      <td>No</td>\n",
       "      <td>3</td>\n",
       "      <td>Yes</td>\n",
       "      <td>No</td>\n",
       "      <td>DSL</td>\n",
       "      <td>No</td>\n",
       "      <td>...</td>\n",
       "      <td>No</td>\n",
       "      <td>No</td>\n",
       "      <td>No</td>\n",
       "      <td>No</td>\n",
       "      <td>Month-to-month</td>\n",
       "      <td>Yes</td>\n",
       "      <td>Mailed check</td>\n",
       "      <td>49.90</td>\n",
       "      <td>130.1</td>\n",
       "      <td>Yes</td>\n",
       "    </tr>\n",
       "    <tr>\n",
       "      <th>7006</th>\n",
       "      <td>0093-XWZFY</td>\n",
       "      <td>Male</td>\n",
       "      <td>0</td>\n",
       "      <td>No</td>\n",
       "      <td>No</td>\n",
       "      <td>40</td>\n",
       "      <td>Yes</td>\n",
       "      <td>Yes</td>\n",
       "      <td>Fiber optic</td>\n",
       "      <td>No</td>\n",
       "      <td>...</td>\n",
       "      <td>Yes</td>\n",
       "      <td>No</td>\n",
       "      <td>Yes</td>\n",
       "      <td>Yes</td>\n",
       "      <td>Month-to-month</td>\n",
       "      <td>Yes</td>\n",
       "      <td>Credit card (automatic)</td>\n",
       "      <td>104.50</td>\n",
       "      <td>4036.85</td>\n",
       "      <td>Yes</td>\n",
       "    </tr>\n",
       "    <tr>\n",
       "      <th>7009</th>\n",
       "      <td>7703-ZEKEF</td>\n",
       "      <td>Male</td>\n",
       "      <td>0</td>\n",
       "      <td>No</td>\n",
       "      <td>No</td>\n",
       "      <td>23</td>\n",
       "      <td>Yes</td>\n",
       "      <td>Yes</td>\n",
       "      <td>Fiber optic</td>\n",
       "      <td>No</td>\n",
       "      <td>...</td>\n",
       "      <td>Yes</td>\n",
       "      <td>No</td>\n",
       "      <td>No</td>\n",
       "      <td>No</td>\n",
       "      <td>Month-to-month</td>\n",
       "      <td>Yes</td>\n",
       "      <td>Electronic check</td>\n",
       "      <td>81.00</td>\n",
       "      <td>1917.1</td>\n",
       "      <td>Yes</td>\n",
       "    </tr>\n",
       "    <tr>\n",
       "      <th>7018</th>\n",
       "      <td>1122-JWTJW</td>\n",
       "      <td>Male</td>\n",
       "      <td>0</td>\n",
       "      <td>Yes</td>\n",
       "      <td>Yes</td>\n",
       "      <td>1</td>\n",
       "      <td>Yes</td>\n",
       "      <td>No</td>\n",
       "      <td>Fiber optic</td>\n",
       "      <td>No</td>\n",
       "      <td>...</td>\n",
       "      <td>No</td>\n",
       "      <td>No</td>\n",
       "      <td>No</td>\n",
       "      <td>No</td>\n",
       "      <td>Month-to-month</td>\n",
       "      <td>Yes</td>\n",
       "      <td>Mailed check</td>\n",
       "      <td>70.65</td>\n",
       "      <td>70.65</td>\n",
       "      <td>Yes</td>\n",
       "    </tr>\n",
       "    <tr>\n",
       "      <th>7021</th>\n",
       "      <td>1699-HPSBG</td>\n",
       "      <td>Male</td>\n",
       "      <td>0</td>\n",
       "      <td>No</td>\n",
       "      <td>No</td>\n",
       "      <td>12</td>\n",
       "      <td>Yes</td>\n",
       "      <td>No</td>\n",
       "      <td>DSL</td>\n",
       "      <td>No</td>\n",
       "      <td>...</td>\n",
       "      <td>No</td>\n",
       "      <td>Yes</td>\n",
       "      <td>Yes</td>\n",
       "      <td>No</td>\n",
       "      <td>One year</td>\n",
       "      <td>Yes</td>\n",
       "      <td>Electronic check</td>\n",
       "      <td>59.80</td>\n",
       "      <td>727.8</td>\n",
       "      <td>Yes</td>\n",
       "    </tr>\n",
       "    <tr>\n",
       "      <th>7032</th>\n",
       "      <td>6894-LFHLY</td>\n",
       "      <td>Male</td>\n",
       "      <td>1</td>\n",
       "      <td>No</td>\n",
       "      <td>No</td>\n",
       "      <td>1</td>\n",
       "      <td>Yes</td>\n",
       "      <td>Yes</td>\n",
       "      <td>Fiber optic</td>\n",
       "      <td>No</td>\n",
       "      <td>...</td>\n",
       "      <td>No</td>\n",
       "      <td>No</td>\n",
       "      <td>No</td>\n",
       "      <td>No</td>\n",
       "      <td>Month-to-month</td>\n",
       "      <td>Yes</td>\n",
       "      <td>Electronic check</td>\n",
       "      <td>75.75</td>\n",
       "      <td>75.75</td>\n",
       "      <td>Yes</td>\n",
       "    </tr>\n",
       "    <tr>\n",
       "      <th>7041</th>\n",
       "      <td>8361-LTMKD</td>\n",
       "      <td>Male</td>\n",
       "      <td>1</td>\n",
       "      <td>Yes</td>\n",
       "      <td>No</td>\n",
       "      <td>4</td>\n",
       "      <td>Yes</td>\n",
       "      <td>Yes</td>\n",
       "      <td>Fiber optic</td>\n",
       "      <td>No</td>\n",
       "      <td>...</td>\n",
       "      <td>No</td>\n",
       "      <td>No</td>\n",
       "      <td>No</td>\n",
       "      <td>No</td>\n",
       "      <td>Month-to-month</td>\n",
       "      <td>Yes</td>\n",
       "      <td>Mailed check</td>\n",
       "      <td>74.40</td>\n",
       "      <td>306.6</td>\n",
       "      <td>Yes</td>\n",
       "    </tr>\n",
       "  </tbody>\n",
       "</table>\n",
       "<p>930 rows × 21 columns</p>\n",
       "</div>"
      ],
      "text/plain": [
       "      customerID gender  SeniorCitizen Partner Dependents  tenure  \\\n",
       "2     3668-QPYBK   Male              0      No         No       2   \n",
       "13    0280-XJGEX   Male              0      No         No      49   \n",
       "20    8779-QRDMV   Male              1      No         No       1   \n",
       "22    1066-JKSGK   Male              0      No         No       1   \n",
       "26    6467-CHFZW   Male              0     Yes        Yes      47   \n",
       "27    8665-UTDHZ   Male              0     Yes        Yes       1   \n",
       "36    6047-YHPVI   Male              0      No         No       5   \n",
       "38    5380-WJKOV   Male              0      No         No      34   \n",
       "55    1658-BYGOY   Male              1      No         No      18   \n",
       "97    0278-YXOOG   Male              0      No         No       5   \n",
       "104   3192-NQECA   Male              0     Yes         No      68   \n",
       "110   0486-HECZI   Male              0     Yes         No      55   \n",
       "122   0404-SWRVG   Male              0      No         No       3   \n",
       "133   3091-FYHKI   Male              0      No         No       1   \n",
       "134   2372-HWUHI   Male              0      No         No       2   \n",
       "147   2135-RXIHG   Male              0      No         No       1   \n",
       "151   3874-EQOEP   Male              0      No         No       7   \n",
       "168   3445-HXXGF   Male              1     Yes         No      58   \n",
       "182   9367-WXLCH   Male              0      No         No       8   \n",
       "191   2472-OVKUP   Male              0     Yes         No       6   \n",
       "207   1285-OKIPP   Male              0      No         No       1   \n",
       "210   7841-TZDMQ   Male              0      No         No       2   \n",
       "223   0742-MOABM   Male              0     Yes         No       4   \n",
       "232   8937-RDTHP   Male              0      No         No       1   \n",
       "235   1251-KRREG   Male              0      No         No       2   \n",
       "247   9947-OTFQU   Male              1      No         No      15   \n",
       "248   0322-YINQP   Male              0      No         No       1   \n",
       "252   9514-JDSKI   Male              1     Yes         No       1   \n",
       "260   7273-TEFQD   Male              1      No         No       3   \n",
       "261   3606-TWKGI   Male              1      No         No      13   \n",
       "...          ...    ...            ...     ...        ...     ...   \n",
       "6816  2446-PLQVO   Male              0      No         No       1   \n",
       "6819  3005-NFMTA   Male              1      No         No      55   \n",
       "6822  5389-FFVKB   Male              1     Yes         No      32   \n",
       "6831  9451-LPGOO   Male              0      No         No       7   \n",
       "6836  5868-YWPDW   Male              1     Yes         No       6   \n",
       "6838  2025-JKFWI   Male              0      No         No      13   \n",
       "6866  0295-PPHDO   Male              0      No         No       1   \n",
       "6868  1195-OIYEJ   Male              0      No         No      13   \n",
       "6884  7384-GHBPI   Male              0     Yes         No       3   \n",
       "6885  7603-USHJS   Male              0      No        Yes      12   \n",
       "6894  1400-MMYXY   Male              1     Yes         No       3   \n",
       "6899  3926-CUQZX   Male              0      No         No       1   \n",
       "6908  1750-CSKKM   Male              0      No        Yes       9   \n",
       "6914  7142-HVGBG   Male              1     Yes         No      43   \n",
       "6924  6457-GIRWB   Male              0      No         No       1   \n",
       "6933  6502-MJQAE   Male              0      No         No       1   \n",
       "6936  7693-LCKZL   Male              0     Yes        Yes       5   \n",
       "6945  6797-LNAQX   Male              0     Yes        Yes      70   \n",
       "6967  8739-WWKDU   Male              1      No         No      25   \n",
       "6969  4745-LSPLO   Male              0      No         No       1   \n",
       "6970  8083-YTZES   Male              0      No         No       4   \n",
       "6980  0786-VSSUD   Male              1      No         No      16   \n",
       "6999  2108-XWMPY   Male              0      No         No       3   \n",
       "7001  6304-IJFSQ   Male              0      No         No       3   \n",
       "7006  0093-XWZFY   Male              0      No         No      40   \n",
       "7009  7703-ZEKEF   Male              0      No         No      23   \n",
       "7018  1122-JWTJW   Male              0     Yes        Yes       1   \n",
       "7021  1699-HPSBG   Male              0      No         No      12   \n",
       "7032  6894-LFHLY   Male              1      No         No       1   \n",
       "7041  8361-LTMKD   Male              1     Yes         No       4   \n",
       "\n",
       "     PhoneService     MultipleLines InternetService       OnlineSecurity  \\\n",
       "2             Yes                No             DSL                  Yes   \n",
       "13            Yes               Yes     Fiber optic                   No   \n",
       "20             No  No phone service             DSL                   No   \n",
       "22            Yes                No              No  No internet service   \n",
       "26            Yes               Yes     Fiber optic                   No   \n",
       "27             No  No phone service             DSL                   No   \n",
       "36            Yes                No     Fiber optic                   No   \n",
       "38            Yes               Yes     Fiber optic                   No   \n",
       "55            Yes               Yes     Fiber optic                   No   \n",
       "97            Yes                No              No  No internet service   \n",
       "104           Yes               Yes     Fiber optic                   No   \n",
       "110           Yes               Yes     Fiber optic                  Yes   \n",
       "122           Yes               Yes     Fiber optic                   No   \n",
       "133            No  No phone service             DSL                   No   \n",
       "134           Yes                No             DSL                   No   \n",
       "147           Yes                No             DSL                   No   \n",
       "151           Yes               Yes     Fiber optic                   No   \n",
       "168            No  No phone service             DSL                   No   \n",
       "182           Yes               Yes     Fiber optic                   No   \n",
       "191           Yes                No     Fiber optic                   No   \n",
       "207           Yes                No     Fiber optic                   No   \n",
       "210           Yes                No             DSL                   No   \n",
       "223           Yes                No             DSL                   No   \n",
       "232           Yes                No     Fiber optic                  Yes   \n",
       "235           Yes               Yes             DSL                   No   \n",
       "247           Yes                No     Fiber optic                   No   \n",
       "248           Yes                No             DSL                  Yes   \n",
       "252            No  No phone service             DSL                   No   \n",
       "260            No  No phone service             DSL                   No   \n",
       "261           Yes               Yes     Fiber optic                   No   \n",
       "...           ...               ...             ...                  ...   \n",
       "6816          Yes                No     Fiber optic                   No   \n",
       "6819          Yes               Yes     Fiber optic                  Yes   \n",
       "6822          Yes                No     Fiber optic                   No   \n",
       "6831          Yes               Yes     Fiber optic                   No   \n",
       "6836          Yes                No     Fiber optic                   No   \n",
       "6838          Yes               Yes     Fiber optic                   No   \n",
       "6866          Yes               Yes     Fiber optic                   No   \n",
       "6868          Yes                No     Fiber optic                   No   \n",
       "6884           No  No phone service             DSL                   No   \n",
       "6885          Yes               Yes     Fiber optic                   No   \n",
       "6894          Yes               Yes     Fiber optic                   No   \n",
       "6899          Yes                No             DSL                   No   \n",
       "6908          Yes                No             DSL                   No   \n",
       "6914          Yes               Yes     Fiber optic                   No   \n",
       "6924          Yes                No     Fiber optic                   No   \n",
       "6933          Yes                No     Fiber optic                   No   \n",
       "6936          Yes               Yes     Fiber optic                   No   \n",
       "6945          Yes               Yes     Fiber optic                   No   \n",
       "6967          Yes               Yes     Fiber optic                   No   \n",
       "6969          Yes                No              No  No internet service   \n",
       "6970          Yes               Yes     Fiber optic                   No   \n",
       "6980           No  No phone service             DSL                   No   \n",
       "6999           No  No phone service             DSL                  Yes   \n",
       "7001          Yes                No             DSL                   No   \n",
       "7006          Yes               Yes     Fiber optic                   No   \n",
       "7009          Yes               Yes     Fiber optic                   No   \n",
       "7018          Yes                No     Fiber optic                   No   \n",
       "7021          Yes                No             DSL                   No   \n",
       "7032          Yes               Yes     Fiber optic                   No   \n",
       "7041          Yes               Yes     Fiber optic                   No   \n",
       "\n",
       "      ...      DeviceProtection          TechSupport          StreamingTV  \\\n",
       "2     ...                    No                   No                   No   \n",
       "13    ...                   Yes                   No                  Yes   \n",
       "20    ...                   Yes                   No                   No   \n",
       "22    ...   No internet service  No internet service  No internet service   \n",
       "26    ...                    No                   No                  Yes   \n",
       "27    ...                    No                   No                   No   \n",
       "36    ...                    No                   No                   No   \n",
       "38    ...                   Yes                   No                  Yes   \n",
       "55    ...                    No                   No                  Yes   \n",
       "97    ...   No internet service  No internet service  No internet service   \n",
       "104   ...                   Yes                  Yes                  Yes   \n",
       "110   ...                    No                   No                  Yes   \n",
       "122   ...                    No                   No                   No   \n",
       "133   ...                    No                   No                   No   \n",
       "134   ...                    No                   No                   No   \n",
       "147   ...                    No                   No                   No   \n",
       "151   ...                    No                   No                  Yes   \n",
       "168   ...                   Yes                   No                   No   \n",
       "182   ...                    No                   No                   No   \n",
       "191   ...                   Yes                   No                   No   \n",
       "207   ...                    No                   No                   No   \n",
       "210   ...                    No                   No                   No   \n",
       "223   ...                    No                  Yes                   No   \n",
       "232   ...                    No                   No                   No   \n",
       "235   ...                    No                   No                   No   \n",
       "247   ...                    No                   No                   No   \n",
       "248   ...                    No                   No                   No   \n",
       "252   ...                    No                   No                  Yes   \n",
       "260   ...                   Yes                   No                   No   \n",
       "261   ...                   Yes                   No                  Yes   \n",
       "...   ...                   ...                  ...                  ...   \n",
       "6816  ...                    No                   No                   No   \n",
       "6819  ...                    No                   No                  Yes   \n",
       "6822  ...                    No                   No                   No   \n",
       "6831  ...                    No                   No                   No   \n",
       "6836  ...                    No                   No                   No   \n",
       "6838  ...                    No                  Yes                  Yes   \n",
       "6866  ...                    No                   No                  Yes   \n",
       "6868  ...                    No                   No                  Yes   \n",
       "6884  ...                    No                   No                   No   \n",
       "6885  ...                    No                   No                   No   \n",
       "6894  ...                   Yes                   No                  Yes   \n",
       "6899  ...                    No                   No                   No   \n",
       "6908  ...                    No                   No                  Yes   \n",
       "6914  ...                   Yes                   No                  Yes   \n",
       "6924  ...                    No                   No                   No   \n",
       "6933  ...                    No                   No                   No   \n",
       "6936  ...                    No                   No                   No   \n",
       "6945  ...                    No                   No                  Yes   \n",
       "6967  ...                    No                   No                  Yes   \n",
       "6969  ...   No internet service  No internet service  No internet service   \n",
       "6970  ...                    No                   No                   No   \n",
       "6980  ...                    No                   No                  Yes   \n",
       "6999  ...                    No                   No                   No   \n",
       "7001  ...                    No                   No                   No   \n",
       "7006  ...                   Yes                   No                  Yes   \n",
       "7009  ...                   Yes                   No                   No   \n",
       "7018  ...                    No                   No                   No   \n",
       "7021  ...                    No                  Yes                  Yes   \n",
       "7032  ...                    No                   No                   No   \n",
       "7041  ...                    No                   No                   No   \n",
       "\n",
       "          StreamingMovies        Contract PaperlessBilling  \\\n",
       "2                      No  Month-to-month              Yes   \n",
       "13                    Yes  Month-to-month              Yes   \n",
       "20                    Yes  Month-to-month              Yes   \n",
       "22    No internet service  Month-to-month               No   \n",
       "26                    Yes  Month-to-month              Yes   \n",
       "27                     No  Month-to-month               No   \n",
       "36                     No  Month-to-month              Yes   \n",
       "38                    Yes  Month-to-month              Yes   \n",
       "55                    Yes  Month-to-month              Yes   \n",
       "97    No internet service  Month-to-month               No   \n",
       "104                   Yes        Two year              Yes   \n",
       "110                    No  Month-to-month              Yes   \n",
       "122                    No  Month-to-month              Yes   \n",
       "133                   Yes  Month-to-month              Yes   \n",
       "134                    No  Month-to-month               No   \n",
       "147                    No  Month-to-month              Yes   \n",
       "151                   Yes  Month-to-month               No   \n",
       "168                   Yes  Month-to-month              Yes   \n",
       "182                   Yes  Month-to-month               No   \n",
       "191                   Yes  Month-to-month              Yes   \n",
       "207                   Yes  Month-to-month               No   \n",
       "210                    No  Month-to-month              Yes   \n",
       "223                    No  Month-to-month               No   \n",
       "232                   Yes  Month-to-month              Yes   \n",
       "235                    No  Month-to-month              Yes   \n",
       "247                    No  Month-to-month              Yes   \n",
       "248                    No  Month-to-month              Yes   \n",
       "252                    No  Month-to-month               No   \n",
       "260                   Yes  Month-to-month              Yes   \n",
       "261                   Yes  Month-to-month              Yes   \n",
       "...                   ...             ...              ...   \n",
       "6816                   No  Month-to-month              Yes   \n",
       "6819                  Yes  Month-to-month              Yes   \n",
       "6822                  Yes  Month-to-month              Yes   \n",
       "6831                  Yes  Month-to-month              Yes   \n",
       "6836                  Yes  Month-to-month              Yes   \n",
       "6838                  Yes  Month-to-month              Yes   \n",
       "6866                  Yes  Month-to-month              Yes   \n",
       "6868                  Yes  Month-to-month              Yes   \n",
       "6884                  Yes  Month-to-month              Yes   \n",
       "6885                   No  Month-to-month              Yes   \n",
       "6894                  Yes  Month-to-month              Yes   \n",
       "6899                   No  Month-to-month              Yes   \n",
       "6908                   No  Month-to-month               No   \n",
       "6914                  Yes  Month-to-month              Yes   \n",
       "6924                   No  Month-to-month              Yes   \n",
       "6933                   No  Month-to-month              Yes   \n",
       "6936                   No  Month-to-month              Yes   \n",
       "6945                  Yes        Two year               No   \n",
       "6967                   No  Month-to-month              Yes   \n",
       "6969  No internet service  Month-to-month               No   \n",
       "6970                   No  Month-to-month              Yes   \n",
       "6980                   No  Month-to-month              Yes   \n",
       "6999                   No  Month-to-month              Yes   \n",
       "7001                   No  Month-to-month              Yes   \n",
       "7006                  Yes  Month-to-month              Yes   \n",
       "7009                   No  Month-to-month              Yes   \n",
       "7018                   No  Month-to-month              Yes   \n",
       "7021                   No        One year              Yes   \n",
       "7032                   No  Month-to-month              Yes   \n",
       "7041                   No  Month-to-month              Yes   \n",
       "\n",
       "                  PaymentMethod MonthlyCharges  TotalCharges Churn  \n",
       "2                  Mailed check          53.85        108.15   Yes  \n",
       "13    Bank transfer (automatic)         103.70        5036.3   Yes  \n",
       "20             Electronic check          39.65         39.65   Yes  \n",
       "22                 Mailed check          20.15         20.15   Yes  \n",
       "26             Electronic check          99.35       4749.15   Yes  \n",
       "27             Electronic check          30.20          30.2   Yes  \n",
       "36             Electronic check          69.70         316.9   Yes  \n",
       "38             Electronic check         106.35       3549.25   Yes  \n",
       "55             Electronic check          95.45       1752.55   Yes  \n",
       "97                 Mailed check          21.05        113.85   Yes  \n",
       "104   Bank transfer (automatic)         110.00       7611.85   Yes  \n",
       "110            Electronic check          96.75        5238.9   Yes  \n",
       "122            Electronic check          74.40        229.55   Yes  \n",
       "133            Electronic check          35.45         35.45   Yes  \n",
       "134            Electronic check          44.35         81.25   Yes  \n",
       "147            Electronic check          45.65         45.65   Yes  \n",
       "151                Mailed check          95.00         655.5   Yes  \n",
       "168            Electronic check          45.30        2651.2   Yes  \n",
       "182   Bank transfer (automatic)          84.50        662.65   Yes  \n",
       "191            Electronic check          91.00           531   Yes  \n",
       "207            Electronic check          79.90          79.9   Yes  \n",
       "210     Credit card (automatic)          46.00          84.5   Yes  \n",
       "223                Mailed check          50.05        179.35   Yes  \n",
       "232                Mailed check          84.60          84.6   Yes  \n",
       "235                Mailed check          54.40         114.1   Yes  \n",
       "247            Electronic check          74.40        1074.3   Yes  \n",
       "248                Mailed check          48.55         48.55   Yes  \n",
       "252            Electronic check          40.20          40.2   Yes  \n",
       "260            Electronic check          41.15         132.2   Yes  \n",
       "261            Electronic check         106.90        1364.3   Yes  \n",
       "...                         ...            ...           ...   ...  \n",
       "6816           Electronic check          70.30          70.3   Yes  \n",
       "6819           Electronic check          98.80       5617.75   Yes  \n",
       "6822    Credit card (automatic)          80.30       2483.05   Yes  \n",
       "6831           Electronic check          86.80        620.35   Yes  \n",
       "6836           Electronic check          84.20        519.15   Yes  \n",
       "6838               Mailed check          99.00        1301.7   Yes  \n",
       "6866           Electronic check          95.45         95.45   Yes  \n",
       "6868           Electronic check          91.10        1135.7   Yes  \n",
       "6884           Electronic check          35.15         99.75   Yes  \n",
       "6885    Credit card (automatic)          73.75         871.4   Yes  \n",
       "6894           Electronic check         105.90        334.65   Yes  \n",
       "6899  Bank transfer (automatic)          45.10          45.1   Yes  \n",
       "6908           Electronic check          55.35        449.75   Yes  \n",
       "6914           Electronic check         103.00        4414.3   Yes  \n",
       "6924           Electronic check          69.35         69.35   Yes  \n",
       "6933           Electronic check          69.60          69.6   Yes  \n",
       "6936           Electronic check          80.15           385   Yes  \n",
       "6945  Bank transfer (automatic)          98.30        6859.5   Yes  \n",
       "6967           Electronic check          89.50       2196.15   Yes  \n",
       "6969               Mailed check          20.50          20.5   Yes  \n",
       "6970           Electronic check          74.35        265.35   Yes  \n",
       "6980               Mailed check          39.00        679.85   Yes  \n",
       "6999               Mailed check          35.45        106.85   Yes  \n",
       "7001               Mailed check          49.90         130.1   Yes  \n",
       "7006    Credit card (automatic)         104.50       4036.85   Yes  \n",
       "7009           Electronic check          81.00        1917.1   Yes  \n",
       "7018               Mailed check          70.65         70.65   Yes  \n",
       "7021           Electronic check          59.80         727.8   Yes  \n",
       "7032           Electronic check          75.75         75.75   Yes  \n",
       "7041               Mailed check          74.40         306.6   Yes  \n",
       "\n",
       "[930 rows x 21 columns]"
      ]
     },
     "execution_count": 16,
     "metadata": {},
     "output_type": "execute_result"
    }
   ],
   "source": [
    "#Taking a look at churned male\n",
    "churn[churn['gender']=='Male']"
   ]
  },
  {
   "cell_type": "markdown",
   "metadata": {},
   "source": [
    "## Data Visualization"
   ]
  },
  {
   "cell_type": "code",
   "execution_count": 17,
   "metadata": {
    "collapsed": true
   },
   "outputs": [],
   "source": [
    "import seaborn as sns\n",
    "import matplotlib.pyplot as plt\n",
    "\n",
    "#telcom['Churn'].replace({'No': 0, 'Yes': 1}, inplace=True)"
   ]
  },
  {
   "cell_type": "code",
   "execution_count": 87,
   "metadata": {},
   "outputs": [
    {
     "name": "stdout",
     "output_type": "stream",
     "text": [
      "(1869, 21)\n",
      "(5174, 21)\n"
     ]
    }
   ],
   "source": [
    "churn = telcom[telcom['Churn']=='Yes']\n",
    "notchurn = telcom[telcom['Churn']==\"No\"]\n",
    "print churn.shape\n",
    "print notchurn.shape"
   ]
  },
  {
   "cell_type": "code",
   "execution_count": 88,
   "metadata": {},
   "outputs": [
    {
     "name": "stdout",
     "output_type": "stream",
     "text": [
      "No     5174\n",
      "Yes    1869\n",
      "Name: Churn, dtype: int64\n",
      "\n",
      "\n",
      "No     0.73463\n",
      "Yes    0.26537\n",
      "Name: Churn, dtype: float64\n"
     ]
    }
   ],
   "source": [
    "# Find the ratio of churned customers\n",
    "\n",
    "print(telcom['Churn'].value_counts(normalize=False))\n",
    "print('\\n')\n",
    "print(telcom['Churn'].value_counts(normalize=True))"
   ]
  },
  {
   "cell_type": "code",
   "execution_count": 20,
   "metadata": {},
   "outputs": [
    {
     "data": {
      "image/png": "[encoded data removed]",
      "text/plain": [
       "<matplotlib.figure.Figure at 0xe605c18>"
      ]
     },
     "metadata": {},
     "output_type": "display_data"
    }
   ],
   "source": [
    "#Total number of churn vs not churn\n",
    "plt.figure(figsize=(6,4))\n",
    "ax= sns.countplot(x=\"Churn\", data=telcom)\n",
    "ax.set_ylabel('Number of Customers', fontsize = 15)\n",
    "ax.set_title('Churn vs Not churn', fontsize=20)\n",
    "plt.show()"
   ]
  },
  {
   "cell_type": "code",
   "execution_count": 21,
   "metadata": {},
   "outputs": [
    {
     "data": {
      "image/png": "[encoded data removed]",
      "text/plain": [
       "<matplotlib.figure.Figure at 0xe2df550>"
      ]
     },
     "metadata": {},
     "output_type": "display_data"
    }
   ],
   "source": [
    "f, (ax1, ax2) = plt.subplots(1,2,figsize=(13, 4))\n",
    "sns.countplot(x=\"gender\", data=telcom, palette=\"RdBu\", ax=ax1)\n",
    "sns.countplot(x=\"Churn\",hue=\"gender\", data=telcom,palette=\"RdBu\",ax=ax2)\n",
    "ax2.set_ylabel('Number of Customers', fontsize = 15)\n",
    "ax2.set_xlabel('Churn', fontsize = 15)\n",
    "ax2.set_title('Churn By gender', fontsize=20)\n",
    "plt.show()"
   ]
  },
  {
   "cell_type": "code",
   "execution_count": 22,
   "metadata": {},
   "outputs": [
    {
     "data": {
      "image/png": "[encoded data removed]",
      "text/plain": [
       "<matplotlib.figure.Figure at 0xe348c18>"
      ]
     },
     "metadata": {},
     "output_type": "display_data"
    },
    {
     "data": {
      "image/png": "[encoded data removed]",
      "text/plain": [
       "<matplotlib.figure.Figure at 0xebd4da0>"
      ]
     },
     "metadata": {},
     "output_type": "display_data"
    }
   ],
   "source": [
    "telcom['Churn'].replace({'No': 0, 'Yes': 1}, inplace=True)\n",
    "f, ax = plt.subplots(figsize=(6,4))\n",
    "sns.countplot(x=\"SeniorCitizen\", data=telcom, ax=ax, palette = \"BuGn_r\")\n",
    "g = sns.FacetGrid(telcom, col=\"SeniorCitizen\")\n",
    "ax2 = g.map(sns.barplot, \"gender\", \"Churn\", palette = \"RdBu\", order= ['Female', 'Male'])\n",
    "plt.show()"
   ]
  },
  {
   "cell_type": "markdown",
   "metadata": {},
   "source": [
    "Senior citizen churn more than those who are not"
   ]
  },
  {
   "cell_type": "code",
   "execution_count": 24,
   "metadata": {},
   "outputs": [
    {
     "data": {
      "image/png": "[encoded data removed]",
      "text/plain": [
       "<matplotlib.figure.Figure at 0xeee3080>"
      ]
     },
     "metadata": {},
     "output_type": "display_data"
    }
   ],
   "source": [
    "f, (ax1, ax2) = plt.subplots(1,2,figsize=(13, 4))\n",
    "sns.countplot(x=\"Partner\", data=telcom, ax=ax1)\n",
    "sns.countplot(x=\"Churn\",hue=\"Partner\", data=telcom,ax=ax2)\n",
    "ax2.set_ylabel('Number of Customers', fontsize = 15)\n",
    "ax2.set_xlabel('Churn', fontsize = 15)\n",
    "ax2.set_title('Churn By Partner', fontsize=20)\n",
    "plt.show()"
   ]
  },
  {
   "cell_type": "markdown",
   "metadata": {},
   "source": [
    "Churn rate is more for if the customers don't have partner"
   ]
  },
  {
   "cell_type": "code",
   "execution_count": 25,
   "metadata": {},
   "outputs": [
    {
     "data": {
      "image/png": "[encoded data removed]",
      "text/plain": [
       "<matplotlib.figure.Figure at 0xf3d4d68>"
      ]
     },
     "metadata": {},
     "output_type": "display_data"
    }
   ],
   "source": [
    "f, (ax1, ax2) = plt.subplots(1,2,figsize=(13,4))\n",
    "sns.countplot(x=\"Dependents\", data=telcom, ax=ax1)\n",
    "sns.countplot(x=\"Churn\",hue=\"Dependents\", data=telcom,ax=ax2)\n",
    "ax2.set_ylabel('Number of Customers', fontsize = 15)\n",
    "ax2.set_xlabel('Churn', fontsize = 15)\n",
    "ax2.set_title('Churn By dependents', fontsize=20)\n",
    "plt.show()"
   ]
  },
  {
   "cell_type": "markdown",
   "metadata": {},
   "source": [
    "Finding:\n",
    "1. Churn rate is more if the customers don't have dependents or partners\n",
    "2. Senior citizen are more likely to churn \n",
    "3. Churn is not affected based on gender"
   ]
  },
  {
   "cell_type": "code",
   "execution_count": 26,
   "metadata": {},
   "outputs": [
    {
     "data": {
      "text/plain": [
       "MultipleLines     Churn\n",
       "No                0        0.360784\n",
       "                  1        0.120545\n",
       "No phone service  0        0.072696\n",
       "                  1        0.024137\n",
       "Yes               0        0.301150\n",
       "                  1        0.120687\n",
       "Name: Churn, dtype: float64"
      ]
     },
     "execution_count": 26,
     "metadata": {},
     "output_type": "execute_result"
    }
   ],
   "source": [
    "multiple_lines = telcom.groupby('MultipleLines')[\"Churn\"].value_counts()/len(telcom)\n",
    "multiple_lines"
   ]
  },
  {
   "cell_type": "code",
   "execution_count": 27,
   "metadata": {},
   "outputs": [
    {
     "data": {
      "image/png": "[encoded data removed]",
      "text/plain": [
       "<matplotlib.figure.Figure at 0xf814978>"
      ]
     },
     "metadata": {},
     "output_type": "display_data"
    }
   ],
   "source": [
    "f, (ax1, ax2) = plt.subplots(1,2, figsize=(10, 4))\n",
    "sns.countplot(x=\"MultipleLines\", data=telcom, ax=ax1)\n",
    "sns.pointplot(x=\"MultipleLines\", y=\"Churn\", data=telcom, ax=ax2)\n",
    "ax2.set_ylim(0, 0.5)\n",
    "plt.show()"
   ]
  },
  {
   "cell_type": "code",
   "execution_count": 28,
   "metadata": {},
   "outputs": [
    {
     "data": {
      "image/png": "[encoded data removed]",
      "text/plain": [
       "<matplotlib.figure.Figure at 0xf9fa400>"
      ]
     },
     "metadata": {},
     "output_type": "display_data"
    }
   ],
   "source": [
    "f, (ax1, ax2) = plt.subplots(1,2, figsize=(10, 4))\n",
    "sns.countplot(x=\"InternetService\", data=telcom, ax=ax1)\n",
    "sns.pointplot(x=\"InternetService\", y=\"Churn\", data=telcom, ax=ax2)\n",
    "ax2.set_ylim(0, 0.5)\n",
    "plt.show()"
   ]
  },
  {
   "cell_type": "code",
   "execution_count": 81,
   "metadata": {
    "collapsed": true
   },
   "outputs": [],
   "source": [
    "#telcom['Churn'].replace({'No': 0, 'Yes': 1}, inplace=True)"
   ]
  },
  {
   "cell_type": "code",
   "execution_count": 31,
   "metadata": {},
   "outputs": [
    {
     "data": {
      "image/png": "[encoded data removed]",
      "text/plain": [
       "<matplotlib.figure.Figure at 0x10094b00>"
      ]
     },
     "metadata": {},
     "output_type": "display_data"
    }
   ],
   "source": [
    "ax = sns.distplot(telcom['tenure'], hist=True, kde=False, \n",
    "            bins=int(180/5),color = 'darkblue', \n",
    "             hist_kws={'edgecolor':'black'},\n",
    "             kde_kws={'linewidth': 4})\n",
    "ax.set_ylabel('# of Customers')\n",
    "ax.set_xlabel('Tenure (months)')\n",
    "ax.set_title('# of Customers by their tenure')\n",
    "plt.show()"
   ]
  },
  {
   "cell_type": "code",
   "execution_count": 32,
   "metadata": {},
   "outputs": [
    {
     "data": {
      "image/png": "[encoded data removed]",
      "text/plain": [
       "<matplotlib.figure.Figure at 0xff020f0>"
      ]
     },
     "metadata": {},
     "output_type": "display_data"
    }
   ],
   "source": [
    "sns.boxplot(x = telcom.Churn, y = telcom.tenure)\n",
    "plt.show()"
   ]
  },
  {
   "cell_type": "markdown",
   "metadata": {},
   "source": [
    "Shorter the tenure, higher is the possibility of Churn"
   ]
  },
  {
   "cell_type": "code",
   "execution_count": 33,
   "metadata": {},
   "outputs": [
    {
     "data": {
      "image/png": "[encoded data removed]",
      "text/plain": [
       "<matplotlib.figure.Figure at 0x1051c470>"
      ]
     },
     "metadata": {},
     "output_type": "display_data"
    }
   ],
   "source": [
    "f, (ax1, ax2) = plt.subplots(1,2, figsize=(10, 4))\n",
    "sns.countplot(x=\"Contract\", data=telcom, ax=ax1)\n",
    "sns.pointplot(x=\"Contract\", y=\"Churn\", data=telcom, ax=ax2)\n",
    "ax2.set_ylim(0, 0.5)\n",
    "plt.show()"
   ]
  },
  {
   "cell_type": "code",
   "execution_count": 34,
   "metadata": {},
   "outputs": [
    {
     "data": {
      "image/png": "[encoded data removed]",
      "text/plain": [
       "<matplotlib.figure.Figure at 0x10532400>"
      ]
     },
     "metadata": {},
     "output_type": "display_data"
    }
   ],
   "source": [
    "fig, (ax1,ax2,ax3) = plt.subplots(nrows=1, ncols=3, sharey = True, figsize = (20,4))\n",
    "\n",
    "ax = sns.distplot(telcom[telcom['Contract']=='Month-to-month']['tenure'],\n",
    "                   hist=True, kde=False,\n",
    "                   bins=int(180/5), color = 'turquoise',\n",
    "                   hist_kws={'edgecolor':'black'},\n",
    "                   kde_kws={'linewidth': 4},\n",
    "                 ax=ax1)\n",
    "ax.set_ylabel('# of Customers')\n",
    "ax.set_xlabel('Tenure (months)')\n",
    "ax.set_title('Month to Month Contract')\n",
    "\n",
    "ax = sns.distplot(telcom[telcom['Contract']=='One year']['tenure'],\n",
    "                   hist=True, kde=False,\n",
    "                   bins=int(180/5), color = 'steelblue',\n",
    "                   hist_kws={'edgecolor':'black'},\n",
    "                   kde_kws={'linewidth': 4},\n",
    "                 ax=ax2)\n",
    "ax.set_ylabel('# of Customers')\n",
    "ax.set_xlabel('Tenure (months)')\n",
    "ax.set_title('One year Contract')\n",
    "\n",
    "ax = sns.distplot(telcom[telcom['Contract']=='Two year']['tenure'],\n",
    "                   hist=True, kde=False,\n",
    "                   bins=int(180/5), color = 'darkblue',\n",
    "                   hist_kws={'edgecolor':'black'},\n",
    "                   kde_kws={'linewidth': 4},\n",
    "                 ax=ax3)\n",
    "ax.set_ylabel('# of Customers')\n",
    "ax.set_xlabel('Tenure (months)')\n",
    "ax.set_title('Two year Contract')\n",
    "plt.show()"
   ]
  },
  {
   "cell_type": "code",
   "execution_count": 35,
   "metadata": {},
   "outputs": [
    {
     "data": {
      "image/png": "[encoded data removed]",
      "text/plain": [
       "<matplotlib.figure.Figure at 0x1065c780>"
      ]
     },
     "metadata": {},
     "output_type": "display_data"
    }
   ],
   "source": [
    "g = sns.FacetGrid(telcom, col=\"PaperlessBilling\", aspect=1.2)\n",
    "ax = g.map(sns.barplot, \"Contract\", \"Churn\", palette = \"Blues_d\", order= ['Month-to-month', 'One year', 'Two year'])\n",
    "plt.show()"
   ]
  },
  {
   "cell_type": "markdown",
   "metadata": {},
   "source": [
    "We can deduce that Month-to-Month contract customers churn more than one/two year contract. \n",
    "People who has enrolled for Paperless billing churn more than their counterparts"
   ]
  },
  {
   "cell_type": "code",
   "execution_count": 3,
   "metadata": {
    "collapsed": true
   },
   "outputs": [],
   "source": [
    "telcom['Count_OnlineServices'] = (telcom[['OnlineSecurity', 'DeviceProtection', 'StreamingMovies', 'TechSupport',\n",
    "       'StreamingTV', 'OnlineBackup']] == 'Yes').sum(axis=1)"
   ]
  },
  {
   "cell_type": "code",
   "execution_count": 37,
   "metadata": {},
   "outputs": [
    {
     "data": {
      "image/png": "[encoded data removed]",
      "text/plain": [
       "<matplotlib.figure.Figure at 0xea5b860>"
      ]
     },
     "metadata": {},
     "output_type": "display_data"
    }
   ],
   "source": [
    "plt.figure(figsize=(12,6))\n",
    "ax = sns.countplot(x='Count_OnlineServices', hue='Churn', data=telcom)\n",
    "ax.set_title('Number of Services Availed Vs Churn', fontsize=20)\n",
    "ax.set_ylabel('Number of Customers', fontsize=15)\n",
    "ax.set_xlabel('Number of Online Services', fontsize=15)\n",
    "plt.show()"
   ]
  },
  {
   "cell_type": "code",
   "execution_count": 5,
   "metadata": {
    "collapsed": true
   },
   "outputs": [],
   "source": [
    "agg = telcom.replace('Yes',1).replace('No', 0).groupby('Count_OnlineServices', as_index=False)[['Churn']].mean()\n",
    "agg[['Churn']] = np.round(agg[['Churn']], 2) * 100"
   ]
  },
  {
   "cell_type": "code",
   "execution_count": 39,
   "metadata": {},
   "outputs": [
    {
     "data": {
      "image/png": "[encoded data removed]",
      "text/plain": [
       "<matplotlib.figure.Figure at 0xe2ec2b0>"
      ]
     },
     "metadata": {},
     "output_type": "display_data"
    }
   ],
   "source": [
    "plt.figure(figsize=(12,6))\n",
    "ax = sns.barplot(x='Count_OnlineServices', y='Churn', data=agg)\n",
    "ax.set_xlabel('Number of Online Services Availed', fontsize=15)\n",
    "ax.set_ylabel('Percentage of Churn', fontsize=15)\n",
    "ax.set_title('Number of Services Availed Vs Percentage of Churn', fontsize=20)\n",
    "plt.show()"
   ]
  },
  {
   "cell_type": "code",
   "execution_count": 40,
   "metadata": {},
   "outputs": [
    {
     "data": {
      "image/png": "[encoded data removed]",
      "text/plain": [
       "<matplotlib.figure.Figure at 0xf4c7908>"
      ]
     },
     "metadata": {},
     "output_type": "display_data"
    }
   ],
   "source": [
    "plt.figure(figsize=(12,6))\n",
    "ax = sns.boxplot(x='Churn', y='MonthlyCharges', data=telcom)\n",
    "ax.set_title('Monthly Charges vs Churn', fontsize=20)\n",
    "ax.set_ylabel('Monthly Charges', fontsize=15)\n",
    "ax.set_xlabel('Churn', fontsize=15)\n",
    "plt.show()"
   ]
  },
  {
   "cell_type": "markdown",
   "metadata": {},
   "source": [
    "Customers churn when monthly charges is 80 bucks and they don't churn when monthly charges is 63 bucks."
   ]
  },
  {
   "cell_type": "code",
   "execution_count": 41,
   "metadata": {},
   "outputs": [
    {
     "data": {
      "image/png": "[encoded data removed]",
      "text/plain": [
       "<matplotlib.figure.Figure at 0xf0edac8>"
      ]
     },
     "metadata": {},
     "output_type": "display_data"
    }
   ],
   "source": [
    "f, (ax1, ax2) = plt.subplots(1,2, figsize=(10, 4))\n",
    "sns.countplot(x=\"PaymentMethod\", data=telcom, ax=ax1)\n",
    "ax1.set_xticklabels(ax1.get_xticklabels(),rotation=30)\n",
    "sns.pointplot(x=\"PaymentMethod\", y=\"Churn\", data=telcom, ax=ax2)\n",
    "plt.xticks(rotation=45)\n",
    "ax2.set_ylim(0, 0.5)\n",
    "plt.show()"
   ]
  },
  {
   "cell_type": "markdown",
   "metadata": {},
   "source": [
    "Electronic check method has more churn rate than the other methods"
   ]
  },
  {
   "cell_type": "markdown",
   "metadata": {},
   "source": [
    "# Predictive Modeling"
   ]
  },
  {
   "cell_type": "code",
   "execution_count": 4,
   "metadata": {},
   "outputs": [
    {
     "data": {
      "text/plain": [
       "(7032, 47)"
      ]
     },
     "execution_count": 4,
     "metadata": {},
     "output_type": "execute_result"
    }
   ],
   "source": [
    "#Data Manipulation\n",
    "#Replacing spaces with null values in total charges column\n",
    "#There are 11 values that contains spaces in Total charges field\n",
    "telcom['TotalCharges'] = telcom[\"TotalCharges\"].replace(\" \",np.nan).astype('float32')\n",
    "telcom.isnull().sum()\n",
    "\n",
    "#Removing missing values \n",
    "telcom.dropna(inplace = True)\n",
    "#Remove customer IDs from the data set\n",
    "df2 = telcom.iloc[:,1:]\n",
    "#Converting the predictor variable in a binary numeric variable\n",
    "df2['Churn'].replace(to_replace='Yes', value=1, inplace=True)\n",
    "df2['Churn'].replace(to_replace='No',  value=0, inplace=True)\n",
    "\n",
    "#del df2['Count_OnlineServices']\n",
    "\n",
    "#Let's convert all the categorical variables into dummy variables\n",
    "df_dummies = pd.get_dummies(df2) #47 columns\n",
    "df_dummies.head() \n",
    "df_dummies.shape"
   ]
  },
  {
   "cell_type": "code",
   "execution_count": 47,
   "metadata": {},
   "outputs": [
    {
     "data": {
      "image/png": "[encoded data removed]",
      "text/plain": [
       "<matplotlib.figure.Figure at 0x1042fac8>"
      ]
     },
     "metadata": {},
     "output_type": "display_data"
    }
   ],
   "source": [
    "#Get Correlation of \"Churn\" with other variables:\n",
    "plt.figure(figsize=(15,8))\n",
    "df_dummies.corr()['Churn'].sort_values(ascending = False).plot(kind='bar')\n",
    "plt.show()"
   ]
  },
  {
   "cell_type": "code",
   "execution_count": 5,
   "metadata": {
    "collapsed": true
   },
   "outputs": [],
   "source": [
    "# We will use the data frame where we had created dummy variables\n",
    "y = df_dummies['Churn'].values\n",
    "del df_dummies['Churn']\n",
    "X= df_dummies\n",
    "#X = df_dummies.drop(columns = ['Churn'])\n",
    "\n",
    "# Scaling all the variables to a range of 0 to 1\n",
    "from sklearn.preprocessing import MinMaxScaler\n",
    "features = X.columns.values\n",
    "scaler = MinMaxScaler(feature_range = (0,1))\n",
    "scaler.fit(X)\n",
    "X = pd.DataFrame(scaler.transform(X))\n",
    "X.columns = features"
   ]
  },
  {
   "cell_type": "markdown",
   "metadata": {},
   "source": [
    "## 1. Random Forest"
   ]
  },
  {
   "cell_type": "code",
   "execution_count": 6,
   "metadata": {
    "collapsed": true
   },
   "outputs": [],
   "source": [
    "from sklearn.ensemble import RandomForestClassifier\n",
    "from sklearn.model_selection import cross_val_score\n",
    "from sklearn.model_selection import train_test_split\n",
    "from sklearn.metrics import recall_score\n",
    "from sklearn.metrics import precision_score\n",
    "from sklearn.metrics import recall_score\n",
    "from sklearn.metrics import roc_auc_score\n",
    "from sklearn.metrics import accuracy_score\n",
    "from sklearn.metrics import classification_report, confusion_matrix "
   ]
  },
  {
   "cell_type": "code",
   "execution_count": 7,
   "metadata": {
    "collapsed": true
   },
   "outputs": [],
   "source": [
    "X_train, X_test, y_train, y_test = train_test_split(X, y, test_size=0.3, random_state=101)"
   ]
  },
  {
   "cell_type": "code",
   "execution_count": 94,
   "metadata": {},
   "outputs": [
    {
     "name": "stdout",
     "output_type": "stream",
     "text": [
      "{'n_estimators': [10, 11, 12, 13, 14, 15, 16, 17, 18, 20], 'min_samples_split': [2, 5, 10], 'bootstrap': [True, False], 'max_depth': [8, 9, 10, 11, 12, 13, 14, 15, None], 'min_samples_leaf': [1, 2, 4]}\n",
      "Fitting 5 folds for each of 35 candidates, totalling 175 fits\n"
     ]
    },
    {
     "name": "stderr",
     "output_type": "stream",
     "text": [
      "[Parallel(n_jobs=-1)]: Done  33 tasks      | elapsed:    7.3s\n",
      "[Parallel(n_jobs=-1)]: Done 154 tasks      | elapsed:   16.2s\n",
      "[Parallel(n_jobs=-1)]: Done 175 out of 175 | elapsed:   17.3s finished\n"
     ]
    },
    {
     "name": "stdout",
     "output_type": "stream",
     "text": [
      "{'n_estimators': 11, 'min_samples_split': 5, 'bootstrap': False, 'max_depth': 8, 'min_samples_leaf': 2}\n"
     ]
    }
   ],
   "source": [
    "from sklearn.model_selection import RandomizedSearchCV\n",
    "\n",
    "n_estimators = [int(x) for x in np.linspace(start = 10, stop = 20, num = 10)] # Number of trees in random forest\n",
    "\n",
    "max_depth = [int(x) for x in np.linspace(8, 15, num = 8)] # Maximum number of levels in tree\n",
    "max_depth.append(None)\n",
    "\n",
    "min_samples_split = [2, 5, 10] # Minimum number of samples required to split a node\n",
    "min_samples_leaf = [1, 2, 4] # Minimum number of samples required at each leaf node\n",
    "bootstrap = [True, False] # Method of selecting samples for training each tree\n",
    "\n",
    "# Create the random grid\n",
    "random_grid = {'n_estimators': n_estimators,\n",
    "               'max_depth': max_depth,\n",
    "               'min_samples_split': min_samples_split,\n",
    "               'min_samples_leaf': min_samples_leaf,\n",
    "               'bootstrap': bootstrap}\n",
    "\n",
    "print(random_grid)\n",
    "\n",
    "# Creating base model to tune\n",
    "rf_class = RandomForestClassifier()\n",
    "\n",
    "# 5-fold CV, Random search of parameters\n",
    "rf_random_1 = RandomizedSearchCV(estimator = rf_class, param_distributions = random_grid, \n",
    "                               n_iter = 35, cv = 5, verbose=2, random_state=1, n_jobs = -1)\n",
    "\n",
    "# Fit the random search model\n",
    "rf_random_1.fit(X_train, y_train)\n",
    "\n",
    "#print best parameters\n",
    "print rf_random_1.best_params_"
   ]
  },
  {
   "cell_type": "code",
   "execution_count": 96,
   "metadata": {},
   "outputs": [
    {
     "data": {
      "text/plain": [
       "{'bootstrap': False,\n",
       " 'max_depth': 8,\n",
       " 'min_samples_leaf': 2,\n",
       " 'min_samples_split': 5,\n",
       " 'n_estimators': 11}"
      ]
     },
     "execution_count": 96,
     "metadata": {},
     "output_type": "execute_result"
    }
   ],
   "source": [
    "rf_random_1.best_params_"
   ]
  },
  {
   "cell_type": "code",
   "execution_count": 151,
   "metadata": {},
   "outputs": [
    {
     "name": "stdout",
     "output_type": "stream",
     "text": [
      "{'n_estimators': [20, 21, 22, 23, 24, 25, 26, 27, 28, 30], 'min_samples_split': [2, 5, 10], 'bootstrap': [True, False], 'max_depth': [8, 9, 10, 11, 12, 13, 14, 15, None], 'min_samples_leaf': [1, 2, 4]}\n",
      "Fitting 5 folds for each of 35 candidates, totalling 175 fits\n"
     ]
    },
    {
     "name": "stderr",
     "output_type": "stream",
     "text": [
      "[Parallel(n_jobs=-1)]: Done  33 tasks      | elapsed:    8.0s\n",
      "[Parallel(n_jobs=-1)]: Done 154 tasks      | elapsed:   18.4s\n",
      "[Parallel(n_jobs=-1)]: Done 175 out of 175 | elapsed:   20.0s finished\n"
     ]
    },
    {
     "name": "stdout",
     "output_type": "stream",
     "text": [
      "{'n_estimators': 27, 'min_samples_split': 5, 'bootstrap': True, 'max_depth': 9, 'min_samples_leaf': 4}\n"
     ]
    }
   ],
   "source": [
    "from sklearn.model_selection import RandomizedSearchCV\n",
    "\n",
    "n_estimators = [int(x) for x in np.linspace(start = 20, stop = 30, num = 10)] # Number of trees in random forest\n",
    "\n",
    "max_depth = [int(x) for x in np.linspace(8, 15, num = 8)] # Maximum number of levels in tree\n",
    "max_depth.append(None)\n",
    "\n",
    "min_samples_split = [2, 5, 10] # Minimum number of samples required to split a node\n",
    "min_samples_leaf = [1, 2, 4] # Minimum number of samples required at each leaf node\n",
    "bootstrap = [True, False] # Method of selecting samples for training each tree\n",
    "\n",
    "# Create the random grid\n",
    "random_grid = {'n_estimators': n_estimators,\n",
    "               'max_depth': max_depth,\n",
    "               'min_samples_split': min_samples_split,\n",
    "               'min_samples_leaf': min_samples_leaf,\n",
    "               'bootstrap': bootstrap}\n",
    "\n",
    "print(random_grid)\n",
    "\n",
    "# Creating base model to tune\n",
    "rf_class = RandomForestClassifier()\n",
    "\n",
    "# 5-fold CV, Random search of parameters\n",
    "rf_random_2 = RandomizedSearchCV(estimator = rf_class, param_distributions = random_grid, \n",
    "                               n_iter = 35, cv = 5, verbose=2, random_state=1, n_jobs = -1)\n",
    "\n",
    "# Fit the random search model\n",
    "rf_random_2.fit(X_train, y_train)\n",
    "\n",
    "#print best parameters\n",
    "print rf_random_2.best_params_"
   ]
  },
  {
   "cell_type": "code",
   "execution_count": 152,
   "metadata": {},
   "outputs": [
    {
     "name": "stdout",
     "output_type": "stream",
     "text": [
      "{'n_estimators': [100, 101, 102, 104, 105, 107, 108, 110, 111, 112, 114, 115, 117, 118, 120], 'min_samples_split': [2, 5, 10], 'bootstrap': [True, False], 'max_depth': [8, 9, 10, 11, 12, 13, 14, 15, None], 'min_samples_leaf': [1, 2, 4]}\n",
      "Fitting 5 folds for each of 35 candidates, totalling 175 fits\n"
     ]
    },
    {
     "name": "stderr",
     "output_type": "stream",
     "text": [
      "[Parallel(n_jobs=-1)]: Done  33 tasks      | elapsed:   17.9s\n",
      "[Parallel(n_jobs=-1)]: Done 154 tasks      | elapsed:   58.3s\n",
      "[Parallel(n_jobs=-1)]: Done 175 out of 175 | elapsed:  1.1min finished\n"
     ]
    },
    {
     "name": "stdout",
     "output_type": "stream",
     "text": [
      "{'n_estimators': 102, 'min_samples_split': 5, 'bootstrap': True, 'max_depth': 8, 'min_samples_leaf': 4}\n"
     ]
    }
   ],
   "source": [
    "from sklearn.model_selection import RandomizedSearchCV\n",
    "\n",
    "n_estimators = [int(x) for x in np.linspace(start = 100, stop = 120, num = 15)] # Number of trees in random forest\n",
    "\n",
    "max_depth = [int(x) for x in np.linspace(8, 15, num = 8)] # Maximum number of levels in tree\n",
    "max_depth.append(None)\n",
    "\n",
    "min_samples_split = [2, 5, 10] # Minimum number of samples required to split a node\n",
    "min_samples_leaf = [1, 2, 4] # Minimum number of samples required at each leaf node\n",
    "bootstrap = [True, False] # Method of selecting samples for training each tree\n",
    "\n",
    "# Create the random grid\n",
    "random_grid = {'n_estimators': n_estimators,\n",
    "               'max_depth': max_depth,\n",
    "               'min_samples_split': min_samples_split,\n",
    "               'min_samples_leaf': min_samples_leaf,\n",
    "               'bootstrap': bootstrap}\n",
    "\n",
    "print(random_grid)\n",
    "\n",
    "# Creating base model to tune\n",
    "rf_class = RandomForestClassifier()\n",
    "\n",
    "# 5-fold CV, Random search of parameters\n",
    "rf_random_3 = RandomizedSearchCV(estimator = rf_class, param_distributions = random_grid, \n",
    "                               n_iter = 35, cv = 5, verbose=2, random_state=1, n_jobs = -1)\n",
    "\n",
    "# Fit the random search model\n",
    "rf_random_3.fit(X_train, y_train)\n",
    "\n",
    "#print best parameters\n",
    "print rf_random_3.best_params_"
   ]
  },
  {
   "cell_type": "code",
   "execution_count": 153,
   "metadata": {},
   "outputs": [
    {
     "name": "stdout",
     "output_type": "stream",
     "text": [
      "{'n_estimators': [500, 501, 502, 503, 504, 505, 506, 507, 508, 510], 'min_samples_split': [2, 5, 10], 'bootstrap': [True, False], 'max_depth': [8, 9, 10, 11, 12, 13, 14, 15, None], 'min_samples_leaf': [1, 2, 4]}\n",
      "Fitting 5 folds for each of 35 candidates, totalling 175 fits\n"
     ]
    },
    {
     "name": "stderr",
     "output_type": "stream",
     "text": [
      "[Parallel(n_jobs=-1)]: Done  33 tasks      | elapsed:  1.0min\n",
      "[Parallel(n_jobs=-1)]: Done 154 tasks      | elapsed:  4.3min\n",
      "[Parallel(n_jobs=-1)]: Done 175 out of 175 | elapsed:  4.7min finished\n"
     ]
    },
    {
     "name": "stdout",
     "output_type": "stream",
     "text": [
      "{'n_estimators': 507, 'min_samples_split': 5, 'bootstrap': True, 'max_depth': 9, 'min_samples_leaf': 4}\n"
     ]
    }
   ],
   "source": [
    "from sklearn.model_selection import RandomizedSearchCV\n",
    "\n",
    "n_estimators = [int(x) for x in np.linspace(start = 500, stop = 510, num = 10)] # Number of trees in random forest\n",
    "\n",
    "max_depth = [int(x) for x in np.linspace(8, 15, num = 8)] # Maximum number of levels in tree\n",
    "max_depth.append(None)\n",
    "\n",
    "min_samples_split = [2, 5, 10] # Minimum number of samples required to split a node\n",
    "min_samples_leaf = [1, 2, 4] # Minimum number of samples required at each leaf node\n",
    "bootstrap = [True, False] # Method of selecting samples for training each tree\n",
    "\n",
    "# Create the random grid\n",
    "random_grid = {'n_estimators': n_estimators,\n",
    "               'max_depth': max_depth,\n",
    "               'min_samples_split': min_samples_split,\n",
    "               'min_samples_leaf': min_samples_leaf,\n",
    "               'bootstrap': bootstrap}\n",
    "\n",
    "print(random_grid)\n",
    "\n",
    "# Creating base model to tune\n",
    "rf_class = RandomForestClassifier()\n",
    "\n",
    "# 5-fold CV, Random search of parameters\n",
    "rf_random_4 = RandomizedSearchCV(estimator = rf_class, param_distributions = random_grid, \n",
    "                               n_iter = 35, cv = 5, verbose=2, random_state=1, n_jobs = -1)\n",
    "\n",
    "# Fit the random search model\n",
    "rf_random_4.fit(X_train, y_train)\n",
    "\n",
    "#print best parameters\n",
    "print rf_random_4.best_params_"
   ]
  },
  {
   "cell_type": "code",
   "execution_count": 154,
   "metadata": {},
   "outputs": [
    {
     "name": "stdout",
     "output_type": "stream",
     "text": [
      "{'n_estimators': [600, 601, 603, 605, 606, 608, 610, 611, 613, 615], 'min_samples_split': [2, 5, 10], 'bootstrap': [True, False], 'max_depth': [8, 9, 10, 11, 12, 13, 14, 15, None], 'min_samples_leaf': [1, 2, 4]}\n",
      "Fitting 5 folds for each of 35 candidates, totalling 175 fits\n"
     ]
    },
    {
     "name": "stderr",
     "output_type": "stream",
     "text": [
      "[Parallel(n_jobs=-1)]: Done  33 tasks      | elapsed:  1.2min\n",
      "[Parallel(n_jobs=-1)]: Done 154 tasks      | elapsed:  5.6min\n",
      "[Parallel(n_jobs=-1)]: Done 175 out of 175 | elapsed:  6.4min finished\n"
     ]
    },
    {
     "name": "stdout",
     "output_type": "stream",
     "text": [
      "{'n_estimators': 600, 'min_samples_split': 10, 'bootstrap': False, 'max_depth': 8, 'min_samples_leaf': 4}\n"
     ]
    }
   ],
   "source": [
    "from sklearn.model_selection import RandomizedSearchCV\n",
    "\n",
    "n_estimators = [int(x) for x in np.linspace(start = 600, stop = 615, num = 10)] # Number of trees in random forest\n",
    "\n",
    "max_depth = [int(x) for x in np.linspace(8, 15, num = 8)] # Maximum number of levels in tree\n",
    "max_depth.append(None)\n",
    "\n",
    "min_samples_split = [2, 5, 10] # Minimum number of samples required to split a node\n",
    "min_samples_leaf = [1, 2, 4] # Minimum number of samples required at each leaf node\n",
    "bootstrap = [True, False] # Method of selecting samples for training each tree\n",
    "\n",
    "# Create the random grid\n",
    "random_grid = {'n_estimators': n_estimators,\n",
    "               'max_depth': max_depth,\n",
    "               'min_samples_split': min_samples_split,\n",
    "               'min_samples_leaf': min_samples_leaf,\n",
    "               'bootstrap': bootstrap}\n",
    "\n",
    "print(random_grid)\n",
    "\n",
    "# Creating base model to tune\n",
    "rf_class = RandomForestClassifier()\n",
    "\n",
    "# 5-fold CV, Random search of parameters\n",
    "rf_random_5 = RandomizedSearchCV(estimator = rf_class, param_distributions = random_grid, \n",
    "                               n_iter = 35, cv = 5, verbose=2, random_state=1, n_jobs = -1)\n",
    "\n",
    "# Fit the random search model\n",
    "rf_random_5.fit(X_train, y_train)\n",
    "\n",
    "#print best parameters\n",
    "print rf_random_5.best_params_"
   ]
  },
  {
   "cell_type": "code",
   "execution_count": 176,
   "metadata": {},
   "outputs": [
    {
     "name": "stdout",
     "output_type": "stream",
     "text": [
      "RandomForestClassifier(bootstrap=True, class_weight=None, criterion='gini',\n",
      "            max_depth=13, max_features='auto', max_leaf_nodes=None,\n",
      "            min_impurity_decrease=0.0, min_impurity_split=None,\n",
      "            min_samples_leaf=4, min_samples_split=5,\n",
      "            min_weight_fraction_leaf=0.0, n_estimators=17, n_jobs=1,\n",
      "            oob_score=False, random_state=None, verbose=0,\n",
      "            warm_start=False)\n"
     ]
    }
   ],
   "source": [
    "print rf_random_1.best_estimator_\n",
    "#Best params returns the model along with n_estimator"
   ]
  },
  {
   "cell_type": "code",
   "execution_count": 98,
   "metadata": {},
   "outputs": [
    {
     "data": {
      "text/plain": [
       "RandomForestClassifier(bootstrap=False, class_weight=None, criterion='gini',\n",
       "            max_depth=8, max_features='auto', max_leaf_nodes=None,\n",
       "            min_impurity_decrease=0.0, min_impurity_split=None,\n",
       "            min_samples_leaf=2, min_samples_split=5,\n",
       "            min_weight_fraction_leaf=0.0, n_estimators=11, n_jobs=1,\n",
       "            oob_score=False, random_state=None, verbose=0,\n",
       "            warm_start=False)"
      ]
     },
     "execution_count": 98,
     "metadata": {},
     "output_type": "execute_result"
    }
   ],
   "source": [
    "rf_random_1.best_estimator_"
   ]
  },
  {
   "cell_type": "code",
   "execution_count": 156,
   "metadata": {
    "scrolled": false
   },
   "outputs": [
    {
     "name": "stdout",
     "output_type": "stream",
     "text": [
      "#####################################################################\n",
      "Total number of trees in the forest:  10\n",
      "#####################################################################\n",
      "\n",
      "Test accuracy:  77.9620853081\n",
      "Precision:  0.581453634085\n",
      "Recall:  0.437735849057\n",
      "\n",
      "Confusion matrix\n",
      "[[1413  167]\n",
      " [ 298  232]]\n",
      "\n",
      "\n",
      "             precision    recall  f1-score   support\n",
      "\n",
      "          0       0.83      0.89      0.86      1580\n",
      "          1       0.58      0.44      0.50       530\n",
      "\n",
      "avg / total       0.76      0.78      0.77      2110\n",
      "\n",
      "#####################################################################\n",
      "Total number of trees in the forest:  17\n",
      "#####################################################################\n",
      "\n",
      "Test accuracy:  80.663507109\n",
      "Precision:  0.648058252427\n",
      "Recall:  0.503773584906\n",
      "\n",
      "Confusion matrix\n",
      "[[1435  145]\n",
      " [ 263  267]]\n",
      "\n",
      "\n",
      "             precision    recall  f1-score   support\n",
      "\n",
      "          0       0.85      0.91      0.88      1580\n",
      "          1       0.65      0.50      0.57       530\n",
      "\n",
      "avg / total       0.80      0.81      0.80      2110\n",
      "\n",
      "#####################################################################\n",
      "Total number of trees in the forest:  27\n",
      "#####################################################################\n",
      "\n",
      "Test accuracy:  81.1374407583\n",
      "Precision:  0.655660377358\n",
      "Recall:  0.524528301887\n",
      "\n",
      "Confusion matrix\n",
      "[[1434  146]\n",
      " [ 252  278]]\n",
      "\n",
      "\n",
      "             precision    recall  f1-score   support\n",
      "\n",
      "          0       0.85      0.91      0.88      1580\n",
      "          1       0.66      0.52      0.58       530\n",
      "\n",
      "avg / total       0.80      0.81      0.80      2110\n",
      "\n",
      "#####################################################################\n",
      "Total number of trees in the forest:  102\n",
      "#####################################################################\n",
      "\n",
      "Test accuracy:  81.5165876777\n",
      "Precision:  0.671568627451\n",
      "Recall:  0.516981132075\n",
      "\n",
      "Confusion matrix\n",
      "[[1446  134]\n",
      " [ 256  274]]\n",
      "\n",
      "\n",
      "             precision    recall  f1-score   support\n",
      "\n",
      "          0       0.85      0.92      0.88      1580\n",
      "          1       0.67      0.52      0.58       530\n",
      "\n",
      "avg / total       0.80      0.82      0.81      2110\n",
      "\n",
      "#####################################################################\n",
      "Total number of trees in the forest:  507\n",
      "#####################################################################\n",
      "\n",
      "Test accuracy:  81.0900473934\n",
      "Precision:  0.654846335697\n",
      "Recall:  0.522641509434\n",
      "\n",
      "Confusion matrix\n",
      "[[1434  146]\n",
      " [ 253  277]]\n",
      "\n",
      "\n",
      "             precision    recall  f1-score   support\n",
      "\n",
      "          0       0.85      0.91      0.88      1580\n",
      "          1       0.65      0.52      0.58       530\n",
      "\n",
      "avg / total       0.80      0.81      0.80      2110\n",
      "\n",
      "#####################################################################\n",
      "Total number of trees in the forest:  600\n",
      "#####################################################################\n",
      "\n",
      "Test accuracy:  81.327014218\n",
      "Precision:  0.663461538462\n",
      "Recall:  0.520754716981\n",
      "\n",
      "Confusion matrix\n",
      "[[1440  140]\n",
      " [ 254  276]]\n",
      "\n",
      "\n",
      "             precision    recall  f1-score   support\n",
      "\n",
      "          0       0.85      0.91      0.88      1580\n",
      "          1       0.66      0.52      0.58       530\n",
      "\n",
      "avg / total       0.80      0.81      0.81      2110\n",
      "\n"
     ]
    }
   ],
   "source": [
    "def evaluate(model, X_test, y_test):\n",
    "    print \"#####################################################################\"\n",
    "    print \"Total number of trees in the forest: \", model.n_estimators\n",
    "    print \"#####################################################################\"\n",
    "    predictions = model.predict(X_test)\n",
    "    m_a = metrics.accuracy_score(y_test, predictions) # Test accuracy\n",
    "    m_p = precision_score(y_test, predictions)\n",
    "    m_r = recall_score(y_test, predictions)\n",
    "    report = classification_report(y_test, predictions)\n",
    "    print \"\\nTest accuracy: \", m_a*100\n",
    "    print \"Precision: \", m_p\n",
    "    print \"Recall: \", m_r\n",
    "    print \"\\nConfusion matrix\"\n",
    "    print(confusion_matrix(y_test,predictions))  \n",
    "    print \"\\n\"\n",
    "    print(report)\n",
    "    return m_a\n",
    "\n",
    "base_model = RandomForestClassifier(n_estimators = 10, random_state = 42)\n",
    "base_model.fit(X_train, y_train)\n",
    "base_accuracy = evaluate(base_model, X_test, y_test)\n",
    "\n",
    "best_random_1 = rf_random_1.best_estimator_\n",
    "random_accuracy_1 = evaluate(best_random_1, X_test, y_test)\n",
    "\n",
    "best_random_2 = rf_random_2.best_estimator_\n",
    "random_accuracy_2 = evaluate(best_random_2, X_test, y_test)\n",
    "\n",
    "best_random_3 = rf_random_3.best_estimator_\n",
    "random_accuracy_3 = evaluate(best_random_3, X_test, y_test)\n",
    "\n",
    "best_random_4 = rf_random_4.best_estimator_\n",
    "random_accuracy_4 = evaluate(best_random_4, X_test, y_test)\n",
    "\n",
    "best_random_5 = rf_random_5.best_estimator_\n",
    "random_accuracy_5 = evaluate(best_random_5, X_test, y_test)"
   ]
  },
  {
   "cell_type": "code",
   "execution_count": 71,
   "metadata": {},
   "outputs": [
    {
     "data": {
      "image/png": "[encoded data removed]",
      "text/plain": [
       "<matplotlib.figure.Figure at 0xcfdd3c8>"
      ]
     },
     "metadata": {},
     "output_type": "display_data"
    }
   ],
   "source": [
    "# libraries\n",
    "import numpy as np\n",
    "import matplotlib.pyplot as plt\n",
    "from matplotlib import pylab\n",
    "\n",
    "# set width of bar\n",
    "barWidth = 0.12\n",
    "\n",
    "# set height of bar\n",
    "no_trees_10 =[0.78, 0.76, 0.78]\n",
    "no_trees_17 = [0.81, 0.8,0.81]\n",
    "no_trees_27 = [0.81, 0.8, 0.81]\n",
    "no_trees_102 = [0.82, 0.8, 0.82]\n",
    "no_trees_507 = [0.81, 0.8, 0.81]\n",
    "no_trees_600 = [0.81, 0.8, 0.81]\n",
    "\n",
    "\n",
    "# Set position of bar on X axis\n",
    "r1 = np.arange(3)\n",
    "r2 = [x + barWidth for x in r1]\n",
    "r3 = [x + barWidth for x in r2]\n",
    "r4 = [x + barWidth for x in r3]\n",
    "r5 = [x + barWidth for x in r4]\n",
    "r6 = [x + barWidth for x in r5]\n",
    "\n",
    "\n",
    "# Make the plot\n",
    "plt.figure(figsize=(10,4))\n",
    "plt.bar(r1, no_trees_10, color='#FFC0CB', width=barWidth, edgecolor='white', label='no. of trees - 10')\n",
    "plt.bar(r2, no_trees_17, color='#ADD8E6', width=barWidth, edgecolor='white', label='no. of trees - 17')\n",
    "plt.bar(r3, no_trees_27, color='#98FB98', width=barWidth, edgecolor='white', label='no. of trees - 27')\n",
    "plt.bar(r4, no_trees_102, color='#644f7a', width=barWidth, edgecolor='white', label='no. of trees - 102')\n",
    "plt.bar(r5, no_trees_507, color='#707070', width=barWidth, edgecolor='white', label='no. of trees - 507')\n",
    "plt.bar(r6, no_trees_600, color='#ff004d', width=barWidth, edgecolor='white', label='no. of trees - 600')\n",
    " \n",
    "# Add xticks on the middle of the group bars\n",
    "plt.xlabel('Random Forest Performance', fontweight='bold')\n",
    "plt.xticks([r + barWidth for r in range(len(no_trees_10))], ['Accuracy', 'Precision', 'Recall'])\n",
    " \n",
    "# Create legend & Show graphic\n",
    "pylab.legend(loc= 0, bbox_to_anchor=(0.5, -0.2))\n",
    "plt.show()\n"
   ]
  },
  {
   "cell_type": "code",
   "execution_count": 157,
   "metadata": {},
   "outputs": [
    {
     "name": "stdout",
     "output_type": "stream",
     "text": [
      "Fitting 5 folds for each of 35 candidates, totalling 175 fits\n"
     ]
    },
    {
     "name": "stderr",
     "output_type": "stream",
     "text": [
      "[Parallel(n_jobs=-1)]: Done  33 tasks      | elapsed:   16.9s\n",
      "[Parallel(n_jobs=-1)]: Done 154 tasks      | elapsed:  1.0min\n",
      "[Parallel(n_jobs=-1)]: Done 175 out of 175 | elapsed:  1.1min finished\n"
     ]
    }
   ],
   "source": [
    "#Random forest that contained about 100 trees gave highest accuracy \n",
    "tmp = rf_random_3.fit(X_train, y_train.ravel())"
   ]
  },
  {
   "cell_type": "code",
   "execution_count": 158,
   "metadata": {},
   "outputs": [
    {
     "data": {
      "image/png": "[encoded data removed]",
      "text/plain": [
       "<matplotlib.figure.Figure at 0xe740f28>"
      ]
     },
     "metadata": {},
     "output_type": "display_data"
    }
   ],
   "source": [
    "from sklearn.metrics import roc_curve\n",
    "from sklearn.metrics import auc\n",
    "y_pred_sample_score = tmp.predict_proba(X_test)\n",
    "\n",
    "fpr, tpr, thresholds = roc_curve(y_test, y_pred_sample_score[:,1])\n",
    "\n",
    "roc_auc = auc(fpr,tpr)\n",
    "\n",
    "# Plot ROC\n",
    "plt.title('Receiver Operating Characteristic')\n",
    "plt.plot(fpr, tpr, 'b',label='AUC = %0.3f'% roc_auc)\n",
    "plt.legend(loc='lower right')\n",
    "plt.plot([0,1],[0,1],'r--')\n",
    "plt.xlim([0,1.0])\n",
    "plt.ylim([0,1.01])\n",
    "plt.ylabel('True Positive Rate')\n",
    "plt.xlabel('False Positive Rate')\n",
    "plt.show()"
   ]
  },
  {
   "cell_type": "code",
   "execution_count": 162,
   "metadata": {},
   "outputs": [
    {
     "data": {
      "text/html": [
       "<div>\n",
       "<style>\n",
       "    .dataframe thead tr:only-child th {\n",
       "        text-align: right;\n",
       "    }\n",
       "\n",
       "    .dataframe thead th {\n",
       "        text-align: left;\n",
       "    }\n",
       "\n",
       "    .dataframe tbody tr th {\n",
       "        vertical-align: top;\n",
       "    }\n",
       "</style>\n",
       "<table border=\"1\" class=\"dataframe\">\n",
       "  <thead>\n",
       "    <tr style=\"text-align: right;\">\n",
       "      <th></th>\n",
       "      <th>importance</th>\n",
       "    </tr>\n",
       "  </thead>\n",
       "  <tbody>\n",
       "    <tr>\n",
       "      <th>TotalCharges</th>\n",
       "      <td>0.156297</td>\n",
       "    </tr>\n",
       "    <tr>\n",
       "      <th>MonthlyCharges</th>\n",
       "      <td>0.142001</td>\n",
       "    </tr>\n",
       "    <tr>\n",
       "      <th>tenure</th>\n",
       "      <td>0.132187</td>\n",
       "    </tr>\n",
       "    <tr>\n",
       "      <th>Contract_Month-to-month</th>\n",
       "      <td>0.059034</td>\n",
       "    </tr>\n",
       "    <tr>\n",
       "      <th>PaymentMethod_Electronic check</th>\n",
       "      <td>0.036848</td>\n",
       "    </tr>\n",
       "    <tr>\n",
       "      <th>TechSupport_No</th>\n",
       "      <td>0.032309</td>\n",
       "    </tr>\n",
       "    <tr>\n",
       "      <th>Count_OnlineServices</th>\n",
       "      <td>0.030191</td>\n",
       "    </tr>\n",
       "    <tr>\n",
       "      <th>InternetService_Fiber optic</th>\n",
       "      <td>0.022685</td>\n",
       "    </tr>\n",
       "    <tr>\n",
       "      <th>OnlineSecurity_No</th>\n",
       "      <td>0.020442</td>\n",
       "    </tr>\n",
       "    <tr>\n",
       "      <th>SeniorCitizen</th>\n",
       "      <td>0.020131</td>\n",
       "    </tr>\n",
       "    <tr>\n",
       "      <th>DeviceProtection_No</th>\n",
       "      <td>0.016823</td>\n",
       "    </tr>\n",
       "    <tr>\n",
       "      <th>Contract_Two year</th>\n",
       "      <td>0.016781</td>\n",
       "    </tr>\n",
       "    <tr>\n",
       "      <th>PaperlessBilling_No</th>\n",
       "      <td>0.016404</td>\n",
       "    </tr>\n",
       "    <tr>\n",
       "      <th>Partner_Yes</th>\n",
       "      <td>0.016012</td>\n",
       "    </tr>\n",
       "    <tr>\n",
       "      <th>gender_Male</th>\n",
       "      <td>0.015924</td>\n",
       "    </tr>\n",
       "    <tr>\n",
       "      <th>gender_Female</th>\n",
       "      <td>0.015605</td>\n",
       "    </tr>\n",
       "    <tr>\n",
       "      <th>MultipleLines_No</th>\n",
       "      <td>0.013861</td>\n",
       "    </tr>\n",
       "    <tr>\n",
       "      <th>OnlineSecurity_Yes</th>\n",
       "      <td>0.013700</td>\n",
       "    </tr>\n",
       "    <tr>\n",
       "      <th>PaperlessBilling_Yes</th>\n",
       "      <td>0.013627</td>\n",
       "    </tr>\n",
       "    <tr>\n",
       "      <th>Dependents_No</th>\n",
       "      <td>0.013620</td>\n",
       "    </tr>\n",
       "    <tr>\n",
       "      <th>MultipleLines_Yes</th>\n",
       "      <td>0.013376</td>\n",
       "    </tr>\n",
       "    <tr>\n",
       "      <th>PaymentMethod_Bank transfer (automatic)</th>\n",
       "      <td>0.013053</td>\n",
       "    </tr>\n",
       "    <tr>\n",
       "      <th>OnlineBackup_No</th>\n",
       "      <td>0.012054</td>\n",
       "    </tr>\n",
       "    <tr>\n",
       "      <th>Partner_No</th>\n",
       "      <td>0.011944</td>\n",
       "    </tr>\n",
       "    <tr>\n",
       "      <th>StreamingTV_No</th>\n",
       "      <td>0.011867</td>\n",
       "    </tr>\n",
       "    <tr>\n",
       "      <th>OnlineBackup_Yes</th>\n",
       "      <td>0.011801</td>\n",
       "    </tr>\n",
       "    <tr>\n",
       "      <th>Contract_One year</th>\n",
       "      <td>0.010869</td>\n",
       "    </tr>\n",
       "    <tr>\n",
       "      <th>PaymentMethod_Credit card (automatic)</th>\n",
       "      <td>0.010789</td>\n",
       "    </tr>\n",
       "    <tr>\n",
       "      <th>StreamingMovies_No</th>\n",
       "      <td>0.010625</td>\n",
       "    </tr>\n",
       "    <tr>\n",
       "      <th>Dependents_Yes</th>\n",
       "      <td>0.010577</td>\n",
       "    </tr>\n",
       "    <tr>\n",
       "      <th>StreamingMovies_Yes</th>\n",
       "      <td>0.010188</td>\n",
       "    </tr>\n",
       "    <tr>\n",
       "      <th>PaymentMethod_Mailed check</th>\n",
       "      <td>0.010168</td>\n",
       "    </tr>\n",
       "    <tr>\n",
       "      <th>InternetService_DSL</th>\n",
       "      <td>0.010067</td>\n",
       "    </tr>\n",
       "    <tr>\n",
       "      <th>DeviceProtection_Yes</th>\n",
       "      <td>0.009676</td>\n",
       "    </tr>\n",
       "    <tr>\n",
       "      <th>StreamingTV_Yes</th>\n",
       "      <td>0.009476</td>\n",
       "    </tr>\n",
       "    <tr>\n",
       "      <th>TechSupport_Yes</th>\n",
       "      <td>0.008443</td>\n",
       "    </tr>\n",
       "    <tr>\n",
       "      <th>InternetService_No</th>\n",
       "      <td>0.004050</td>\n",
       "    </tr>\n",
       "    <tr>\n",
       "      <th>PhoneService_No</th>\n",
       "      <td>0.003687</td>\n",
       "    </tr>\n",
       "    <tr>\n",
       "      <th>MultipleLines_No phone service</th>\n",
       "      <td>0.003488</td>\n",
       "    </tr>\n",
       "    <tr>\n",
       "      <th>StreamingMovies_No internet service</th>\n",
       "      <td>0.003263</td>\n",
       "    </tr>\n",
       "    <tr>\n",
       "      <th>PhoneService_Yes</th>\n",
       "      <td>0.002754</td>\n",
       "    </tr>\n",
       "    <tr>\n",
       "      <th>OnlineSecurity_No internet service</th>\n",
       "      <td>0.001623</td>\n",
       "    </tr>\n",
       "    <tr>\n",
       "      <th>DeviceProtection_No internet service</th>\n",
       "      <td>0.000904</td>\n",
       "    </tr>\n",
       "    <tr>\n",
       "      <th>OnlineBackup_No internet service</th>\n",
       "      <td>0.000443</td>\n",
       "    </tr>\n",
       "    <tr>\n",
       "      <th>StreamingTV_No internet service</th>\n",
       "      <td>0.000317</td>\n",
       "    </tr>\n",
       "    <tr>\n",
       "      <th>TechSupport_No internet service</th>\n",
       "      <td>0.000013</td>\n",
       "    </tr>\n",
       "  </tbody>\n",
       "</table>\n",
       "</div>"
      ],
      "text/plain": [
       "                                         importance\n",
       "TotalCharges                               0.156297\n",
       "MonthlyCharges                             0.142001\n",
       "tenure                                     0.132187\n",
       "Contract_Month-to-month                    0.059034\n",
       "PaymentMethod_Electronic check             0.036848\n",
       "TechSupport_No                             0.032309\n",
       "Count_OnlineServices                       0.030191\n",
       "InternetService_Fiber optic                0.022685\n",
       "OnlineSecurity_No                          0.020442\n",
       "SeniorCitizen                              0.020131\n",
       "DeviceProtection_No                        0.016823\n",
       "Contract_Two year                          0.016781\n",
       "PaperlessBilling_No                        0.016404\n",
       "Partner_Yes                                0.016012\n",
       "gender_Male                                0.015924\n",
       "gender_Female                              0.015605\n",
       "MultipleLines_No                           0.013861\n",
       "OnlineSecurity_Yes                         0.013700\n",
       "PaperlessBilling_Yes                       0.013627\n",
       "Dependents_No                              0.013620\n",
       "MultipleLines_Yes                          0.013376\n",
       "PaymentMethod_Bank transfer (automatic)    0.013053\n",
       "OnlineBackup_No                            0.012054\n",
       "Partner_No                                 0.011944\n",
       "StreamingTV_No                             0.011867\n",
       "OnlineBackup_Yes                           0.011801\n",
       "Contract_One year                          0.010869\n",
       "PaymentMethod_Credit card (automatic)      0.010789\n",
       "StreamingMovies_No                         0.010625\n",
       "Dependents_Yes                             0.010577\n",
       "StreamingMovies_Yes                        0.010188\n",
       "PaymentMethod_Mailed check                 0.010168\n",
       "InternetService_DSL                        0.010067\n",
       "DeviceProtection_Yes                       0.009676\n",
       "StreamingTV_Yes                            0.009476\n",
       "TechSupport_Yes                            0.008443\n",
       "InternetService_No                         0.004050\n",
       "PhoneService_No                            0.003687\n",
       "MultipleLines_No phone service             0.003488\n",
       "StreamingMovies_No internet service        0.003263\n",
       "PhoneService_Yes                           0.002754\n",
       "OnlineSecurity_No internet service         0.001623\n",
       "DeviceProtection_No internet service       0.000904\n",
       "OnlineBackup_No internet service           0.000443\n",
       "StreamingTV_No internet service            0.000317\n",
       "TechSupport_No internet service            0.000013"
      ]
     },
     "execution_count": 162,
     "metadata": {},
     "output_type": "execute_result"
    }
   ],
   "source": [
    "import pandas as pd\n",
    "rf_class.fit(X_train, y_train)\n",
    "feature_importances = pd.DataFrame(rf_class.feature_importances_,\n",
    "                                   index = X_train.columns,\n",
    "                                   columns= ['importance']).sort_values('importance',ascending=False)\n",
    "feature_importances\n"
   ]
  },
  {
   "cell_type": "markdown",
   "metadata": {},
   "source": [
    "## 2. Logistic Regression"
   ]
  },
  {
   "cell_type": "code",
   "execution_count": 64,
   "metadata": {},
   "outputs": [
    {
     "name": "stdout",
     "output_type": "stream",
     "text": [
      "Fitting 5 folds for each of 10 candidates, totalling 50 fits\n"
     ]
    },
    {
     "name": "stderr",
     "output_type": "stream",
     "text": [
      "[Parallel(n_jobs=3)]: Done  12 tasks      | elapsed:    4.6s\n",
      "[Parallel(n_jobs=3)]: Done  45 out of  50 | elapsed:    5.6s remaining:    0.5s\n",
      "[Parallel(n_jobs=3)]: Done  50 out of  50 | elapsed:    5.8s finished\n"
     ]
    },
    {
     "data": {
      "text/plain": [
       "{'C': 7.0}"
      ]
     },
     "execution_count": 64,
     "metadata": {},
     "output_type": "execute_result"
    }
   ],
   "source": [
    "from sklearn.model_selection import GridSearchCV\n",
    "from sklearn.linear_model import LogisticRegression\n",
    "from sklearn.metrics import confusion_matrix, precision_recall_curve, auc, roc_auc_score, roc_curve, recall_score\n",
    "from sklearn.metrics import classification_report\n",
    "\n",
    "parameters = {\n",
    "    'C': np.linspace(1, 10, 10)\n",
    "             }\n",
    "lr = LogisticRegression()\n",
    "lr_1 = GridSearchCV(lr, parameters, cv=5, verbose=5, n_jobs=3)\n",
    "lr_1.fit(X_train, y_train)\n",
    "lr_1.best_params_"
   ]
  },
  {
   "cell_type": "code",
   "execution_count": 65,
   "metadata": {},
   "outputs": [
    {
     "name": "stdout",
     "output_type": "stream",
     "text": [
      "Fitting 5 folds for each of 9 candidates, totalling 45 fits\n"
     ]
    },
    {
     "name": "stderr",
     "output_type": "stream",
     "text": [
      "[Parallel(n_jobs=3)]: Done  12 tasks      | elapsed:    4.3s\n",
      "[Parallel(n_jobs=3)]: Done  40 out of  45 | elapsed:    4.8s remaining:    0.5s\n",
      "[Parallel(n_jobs=3)]: Done  45 out of  45 | elapsed:    5.0s finished\n"
     ]
    },
    {
     "data": {
      "text/plain": [
       "{'C': 0.08}"
      ]
     },
     "execution_count": 65,
     "metadata": {},
     "output_type": "execute_result"
    }
   ],
   "source": [
    "from sklearn.model_selection import GridSearchCV\n",
    "from sklearn.linear_model import LogisticRegression\n",
    "from sklearn.metrics import confusion_matrix, precision_recall_curve, auc, roc_auc_score, roc_curve, recall_score\n",
    "from sklearn.metrics import classification_report\n",
    "\n",
    "parameters = {\n",
    "    'C': [0.01, 0.02, 0.03, 0.04, 0.05, 0.06, 0.07, 0.08, 0.09]\n",
    "             }\n",
    "lr = LogisticRegression()\n",
    "lr_2 = GridSearchCV(lr, parameters, cv=5, verbose=5, n_jobs=3)\n",
    "lr_2.fit(X_train, y_train)\n",
    "lr_2.best_params_"
   ]
  },
  {
   "cell_type": "code",
   "execution_count": 66,
   "metadata": {},
   "outputs": [
    {
     "name": "stdout",
     "output_type": "stream",
     "text": [
      "Fitting 5 folds for each of 9 candidates, totalling 45 fits\n"
     ]
    },
    {
     "name": "stderr",
     "output_type": "stream",
     "text": [
      "[Parallel(n_jobs=3)]: Done  12 tasks      | elapsed:    4.1s\n",
      "[Parallel(n_jobs=3)]: Done  45 out of  45 | elapsed:    4.7s finished\n"
     ]
    },
    {
     "data": {
      "text/plain": [
       "{'C': 0.009}"
      ]
     },
     "execution_count": 66,
     "metadata": {},
     "output_type": "execute_result"
    }
   ],
   "source": [
    "from sklearn.model_selection import GridSearchCV\n",
    "from sklearn.linear_model import LogisticRegression\n",
    "from sklearn.metrics import confusion_matrix, precision_recall_curve, auc, roc_auc_score, roc_curve, recall_score\n",
    "from sklearn.metrics import classification_report\n",
    "\n",
    "parameters = {\n",
    "    'C': [0.001, 0.002, 0.003, 0.004, 0.005, 0.006, 0.007, 0.008, 0.009]\n",
    "             }\n",
    "lr = LogisticRegression()\n",
    "lr_3 = GridSearchCV(lr, parameters, cv=5, verbose=5, n_jobs=3)\n",
    "lr_3.fit(X_train, y_train)\n",
    "lr_3.best_params_"
   ]
  },
  {
   "cell_type": "code",
   "execution_count": 72,
   "metadata": {},
   "outputs": [
    {
     "name": "stdout",
     "output_type": "stream",
     "text": [
      "Fitting 5 folds for each of 11 candidates, totalling 55 fits\n"
     ]
    },
    {
     "name": "stderr",
     "output_type": "stream",
     "text": [
      "[Parallel(n_jobs=3)]: Done  12 tasks      | elapsed:    5.1s\n",
      "[Parallel(n_jobs=3)]: Done  50 out of  55 | elapsed:    6.5s remaining:    0.6s\n",
      "[Parallel(n_jobs=3)]: Done  55 out of  55 | elapsed:    6.7s finished\n"
     ]
    },
    {
     "data": {
      "text/plain": [
       "{'C': 18}"
      ]
     },
     "execution_count": 72,
     "metadata": {},
     "output_type": "execute_result"
    }
   ],
   "source": [
    "from sklearn.model_selection import GridSearchCV\n",
    "from sklearn.linear_model import LogisticRegression\n",
    "from sklearn.metrics import confusion_matrix, precision_recall_curve, auc, roc_auc_score, roc_curve, recall_score\n",
    "from sklearn.metrics import classification_report\n",
    "\n",
    "parameters = {\n",
    "    'C': range(10,21)\n",
    "             }\n",
    "lr = LogisticRegression()\n",
    "lr_4 = GridSearchCV(lr, parameters, cv=5, verbose=5, n_jobs=3)\n",
    "lr_4.fit(X_train, y_train)\n",
    "lr_4.best_params_"
   ]
  },
  {
   "cell_type": "code",
   "execution_count": 73,
   "metadata": {},
   "outputs": [
    {
     "name": "stdout",
     "output_type": "stream",
     "text": [
      "#####################################################################\n",
      "C value:  1.0\n",
      "#####################################################################\n",
      "\n",
      "Test accuracy:  80.7582938389\n",
      "Precision:  0.638392857143\n",
      "Recall:  0.539622641509\n",
      "\n",
      "Confusion matrix\n",
      "[[1418  162]\n",
      " [ 244  286]]\n",
      "\n",
      "\n",
      "             precision    recall  f1-score   support\n",
      "\n",
      "          0       0.85      0.90      0.87      1580\n",
      "          1       0.64      0.54      0.58       530\n",
      "\n",
      "avg / total       0.80      0.81      0.80      2110\n",
      "\n",
      "#####################################################################\n",
      "C value:  7.0\n",
      "#####################################################################\n",
      "\n",
      "Test accuracy:  80.5687203791\n",
      "Precision:  0.632743362832\n",
      "Recall:  0.539622641509\n",
      "\n",
      "Confusion matrix\n",
      "[[1414  166]\n",
      " [ 244  286]]\n",
      "\n",
      "\n",
      "             precision    recall  f1-score   support\n",
      "\n",
      "          0       0.85      0.89      0.87      1580\n",
      "          1       0.63      0.54      0.58       530\n",
      "\n",
      "avg / total       0.80      0.81      0.80      2110\n",
      "\n",
      "#####################################################################\n",
      "C value:  0.08\n",
      "#####################################################################\n",
      "\n",
      "Test accuracy:  80.8056872038\n",
      "Precision:  0.641723356009\n",
      "Recall:  0.533962264151\n",
      "\n",
      "Confusion matrix\n",
      "[[1422  158]\n",
      " [ 247  283]]\n",
      "\n",
      "\n",
      "             precision    recall  f1-score   support\n",
      "\n",
      "          0       0.85      0.90      0.88      1580\n",
      "          1       0.64      0.53      0.58       530\n",
      "\n",
      "avg / total       0.80      0.81      0.80      2110\n",
      "\n",
      "#####################################################################\n",
      "C value:  0.009\n",
      "#####################################################################\n",
      "\n",
      "Test accuracy:  80.8056872038\n",
      "Precision:  0.65903307888\n",
      "Recall:  0.488679245283\n",
      "\n",
      "Confusion matrix\n",
      "[[1446  134]\n",
      " [ 271  259]]\n",
      "\n",
      "\n",
      "             precision    recall  f1-score   support\n",
      "\n",
      "          0       0.84      0.92      0.88      1580\n",
      "          1       0.66      0.49      0.56       530\n",
      "\n",
      "avg / total       0.80      0.81      0.80      2110\n",
      "\n",
      "#####################################################################\n",
      "C value:  18\n",
      "#####################################################################\n",
      "\n",
      "Test accuracy:  80.7582938389\n",
      "Precision:  0.635964912281\n",
      "Recall:  0.547169811321\n",
      "\n",
      "Confusion matrix\n",
      "[[1414  166]\n",
      " [ 240  290]]\n",
      "\n",
      "\n",
      "             precision    recall  f1-score   support\n",
      "\n",
      "          0       0.85      0.89      0.87      1580\n",
      "          1       0.64      0.55      0.59       530\n",
      "\n",
      "avg / total       0.80      0.81      0.80      2110\n",
      "\n"
     ]
    }
   ],
   "source": [
    "from sklearn import metrics\n",
    "def evaluate(model, X_test, y_test):\n",
    "    print \"#####################################################################\"\n",
    "    print \"C value: \", model.C\n",
    "    print \"#####################################################################\"\n",
    "    predictions = model.predict(X_test)\n",
    "    m_a = metrics.accuracy_score(y_test, predictions) # Test accuracy\n",
    "    m_p = precision_score(y_test, predictions)\n",
    "    m_r = recall_score(y_test, predictions)\n",
    "    report = classification_report(y_test, predictions)\n",
    "    print \"\\nTest accuracy: \", m_a*100\n",
    "    print \"Precision: \", m_p\n",
    "    print \"Recall: \", m_r\n",
    "    print \"\\nConfusion matrix\"\n",
    "    print(confusion_matrix(y_test,predictions))  \n",
    "    print \"\\n\"\n",
    "    print(report)\n",
    "    return m_a\n",
    "\n",
    "lr_base_model = LogisticRegression()\n",
    "lr_base_model.fit(X_train, y_train)\n",
    "lr_base_accuracy = evaluate(lr_base_model, X_test, y_test)\n",
    "\n",
    "lr_model_1 = lr_1.best_estimator_\n",
    "lr_model_1_accuracy = evaluate(lr_model_1, X_test, y_test)\n",
    "\n",
    "lr_model_2 = lr_2.best_estimator_\n",
    "lr_model_2_accuracy = evaluate(lr_model_2, X_test, y_test)\n",
    "\n",
    "lr_model_3 = lr_3.best_estimator_\n",
    "lr_model_3_accuracy = evaluate(lr_model_3, X_test, y_test)\n",
    "\n",
    "lr_model_4 = lr_4.best_estimator_\n",
    "lr_model_4_accuracy = evaluate(lr_model_4, X_test, y_test)\n"
   ]
  },
  {
   "cell_type": "code",
   "execution_count": 80,
   "metadata": {},
   "outputs": [
    {
     "data": {
      "image/png": "[encoded data removed]",
      "text/plain": [
       "<matplotlib.figure.Figure at 0xca3d898>"
      ]
     },
     "metadata": {},
     "output_type": "display_data"
    }
   ],
   "source": [
    "# libraries\n",
    "import numpy as np\n",
    "import matplotlib.pyplot as plt\n",
    "from matplotlib import pylab\n",
    "\n",
    "# set width of bar\n",
    "barWidth = 0.12\n",
    "\n",
    "# set height of bar\n",
    "C009 =[0.81, 0.8, 0.81]\n",
    "C08 = [0.81, 0.8, 0.81]\n",
    "C1 = [0.81, 0.8, 0.81]\n",
    "C7 = [0.80, 0.81, 0.81]\n",
    "\n",
    "\n",
    "# Set position of bar on X axis\n",
    "r1 = np.arange(3)\n",
    "r2 = [x + barWidth for x in r1]\n",
    "r3 = [x + barWidth for x in r2]\n",
    "r4 = [x + barWidth for x in r3]\n",
    "\n",
    "\n",
    "# Make the plot\n",
    "plt.figure(figsize=(10,4))\n",
    "plt.bar(r1, C009, color='#FFC0CB', width=barWidth, edgecolor='white', label='C = 0.009')\n",
    "plt.bar(r2, C08, color='#ADD8E6', width=barWidth, edgecolor='white', label='C = 0.08')\n",
    "plt.bar(r3, C1, color='#98FB98', width=barWidth, edgecolor='white', label='C = 1')\n",
    "plt.bar(r4, C7, color='#644f7a', width=barWidth, edgecolor='white', label='C = 7')\n",
    "\n",
    " \n",
    "# Add xticks on the middle of the group bars\n",
    "plt.xlabel('Logistic Regression Performance', fontweight='bold')\n",
    "plt.xticks([r + barWidth for r in range(len(C009))], ['Accuracy', 'Precision', 'Recall'])\n",
    " \n",
    "# Create legend & Show graphic\n",
    "pylab.legend(loc= 0, bbox_to_anchor=(0.5, -0.2))\n",
    "plt.show()\n"
   ]
  },
  {
   "cell_type": "markdown",
   "metadata": {},
   "source": [
    "## 2. KNN"
   ]
  },
  {
   "cell_type": "code",
   "execution_count": 100,
   "metadata": {},
   "outputs": [
    {
     "name": "stdout",
     "output_type": "stream",
     "text": [
      "Fitting 5 folds for each of 5 candidates, totalling 25 fits\n"
     ]
    },
    {
     "name": "stderr",
     "output_type": "stream",
     "text": [
      "[Parallel(n_jobs=-1)]: Done  25 out of  25 | elapsed:   23.7s finished\n"
     ]
    },
    {
     "data": {
      "text/plain": [
       "{'n_neighbors': 4}"
      ]
     },
     "execution_count": 100,
     "metadata": {},
     "output_type": "execute_result"
    }
   ],
   "source": [
    "from sklearn.model_selection import GridSearchCV\n",
    "from sklearn.neighbors import KNeighborsClassifier\n",
    "\n",
    "# Create the parameter grid\n",
    "\n",
    "param_grid = {\n",
    "    'n_neighbors': [1,2,3,4,5]\n",
    "    }\n",
    "\n",
    "knn = KNeighborsClassifier()\n",
    "\n",
    "# Instantiate the grid search model\n",
    "grid_search_1 = GridSearchCV(estimator = knn, param_grid = param_grid,\n",
    "                           cv = 5, n_jobs = -1, verbose = 2)\n",
    "\n",
    "# Fit the grid search model\n",
    "grid_search_1.fit(X_train, y_train)\n",
    "\n",
    "grid_search_1.best_params_"
   ]
  },
  {
   "cell_type": "code",
   "execution_count": 102,
   "metadata": {},
   "outputs": [
    {
     "name": "stdout",
     "output_type": "stream",
     "text": [
      "{'n_neighbors': 4}\n"
     ]
    }
   ],
   "source": [
    "print grid_search_1.best_params_"
   ]
  },
  {
   "cell_type": "code",
   "execution_count": 103,
   "metadata": {},
   "outputs": [
    {
     "name": "stdout",
     "output_type": "stream",
     "text": [
      "KNeighborsClassifier(algorithm='auto', leaf_size=30, metric='minkowski',\n",
      "           metric_params=None, n_jobs=1, n_neighbors=4, p=2,\n",
      "           weights='uniform')\n"
     ]
    }
   ],
   "source": [
    "print grid_search_1.best_estimator_"
   ]
  },
  {
   "cell_type": "code",
   "execution_count": 106,
   "metadata": {},
   "outputs": [
    {
     "name": "stdout",
     "output_type": "stream",
     "text": [
      "#####################################################################\n",
      "Number of neighbors:  4\n",
      "#####################################################################\n",
      "\n",
      "Test accuracy:  77.0616113744\n",
      "Precision:  0.566860465116\n",
      "Recall:  0.367924528302\n",
      "\n",
      "Confusion matrix\n",
      "[[1431  149]\n",
      " [ 335  195]]\n",
      "\n",
      "\n",
      "             precision    recall  f1-score   support\n",
      "\n",
      "          0       0.81      0.91      0.86      1580\n",
      "          1       0.57      0.37      0.45       530\n",
      "\n",
      "avg / total       0.75      0.77      0.75      2110\n",
      "\n"
     ]
    }
   ],
   "source": [
    "knn_model_1 = grid_search_1.best_estimator_\n",
    "knn_model_1_accuracy = evaluate(knn_model_1, X_test, y_test)\n"
   ]
  },
  {
   "cell_type": "code",
   "execution_count": 107,
   "metadata": {},
   "outputs": [
    {
     "name": "stdout",
     "output_type": "stream",
     "text": [
      "Fitting 5 folds for each of 5 candidates, totalling 25 fits\n"
     ]
    },
    {
     "name": "stderr",
     "output_type": "stream",
     "text": [
      "[Parallel(n_jobs=-1)]: Done  25 out of  25 | elapsed:   29.5s finished\n"
     ]
    },
    {
     "data": {
      "text/plain": [
       "{'n_neighbors': 8}"
      ]
     },
     "execution_count": 107,
     "metadata": {},
     "output_type": "execute_result"
    }
   ],
   "source": [
    "from sklearn.model_selection import GridSearchCV\n",
    "\n",
    "# Create the parameter grid\n",
    "\n",
    "param_grid = {\n",
    "    'n_neighbors': [6,7,8,9,10]\n",
    "    }\n",
    "\n",
    "knn = KNeighborsClassifier()\n",
    "\n",
    "# Instantiate the grid search model\n",
    "grid_search_2 = GridSearchCV(estimator = knn, param_grid = param_grid,\n",
    "                           cv = 5, n_jobs = -1, verbose = 2)\n",
    "\n",
    "# Fit the grid search model\n",
    "grid_search_2.fit(X_train, y_train)\n",
    "\n",
    "grid_search_2.best_params_"
   ]
  },
  {
   "cell_type": "code",
   "execution_count": 108,
   "metadata": {},
   "outputs": [
    {
     "name": "stdout",
     "output_type": "stream",
     "text": [
      "Fitting 5 folds for each of 11 candidates, totalling 55 fits\n"
     ]
    },
    {
     "name": "stderr",
     "output_type": "stream",
     "text": [
      "[Parallel(n_jobs=-1)]: Done  33 tasks      | elapsed:   44.1s\n",
      "[Parallel(n_jobs=-1)]: Done  55 out of  55 | elapsed:  1.1min finished\n"
     ]
    },
    {
     "data": {
      "text/plain": [
       "{'n_neighbors': 58}"
      ]
     },
     "execution_count": 108,
     "metadata": {},
     "output_type": "execute_result"
    }
   ],
   "source": [
    "from sklearn.model_selection import GridSearchCV\n",
    "\n",
    "# Create the parameter grid\n",
    "\n",
    "param_grid = {\n",
    "    'n_neighbors': [50,51,52,53,54,55,56,57,58,59,60]\n",
    "    }\n",
    "\n",
    "knn = KNeighborsClassifier()\n",
    "\n",
    "# Instantiate the grid search model\n",
    "grid_search_3 = GridSearchCV(estimator = knn, param_grid = param_grid,\n",
    "                           cv = 5, n_jobs = -1, verbose = 2)\n",
    "\n",
    "# Fit the grid search model\n",
    "grid_search_3.fit(X_train, y_train)\n",
    "\n",
    "grid_search_3.best_params_"
   ]
  },
  {
   "cell_type": "code",
   "execution_count": 109,
   "metadata": {},
   "outputs": [
    {
     "name": "stdout",
     "output_type": "stream",
     "text": [
      "Fitting 5 folds for each of 11 candidates, totalling 55 fits\n"
     ]
    },
    {
     "name": "stderr",
     "output_type": "stream",
     "text": [
      "[Parallel(n_jobs=-1)]: Done  33 tasks      | elapsed:   47.0s\n",
      "[Parallel(n_jobs=-1)]: Done  55 out of  55 | elapsed:  1.3min finished\n"
     ]
    },
    {
     "data": {
      "text/plain": [
       "{'n_neighbors': 100}"
      ]
     },
     "execution_count": 109,
     "metadata": {},
     "output_type": "execute_result"
    }
   ],
   "source": [
    "from sklearn.model_selection import GridSearchCV\n",
    "\n",
    "# Create the parameter grid\n",
    "\n",
    "param_grid = {\n",
    "    'n_neighbors': [100,101,102,103,104,105,106,107,108,109,110]\n",
    "    }\n",
    "\n",
    "knn = KNeighborsClassifier()\n",
    "\n",
    "# Instantiate the grid search model\n",
    "grid_search_4 = GridSearchCV(estimator = knn, param_grid = param_grid,\n",
    "                           cv = 5, n_jobs = -1, verbose = 2)\n",
    "\n",
    "# Fit the grid search model\n",
    "grid_search_4.fit(X_train, y_train)\n",
    "\n",
    "grid_search_4.best_params_"
   ]
  },
  {
   "cell_type": "code",
   "execution_count": 110,
   "metadata": {},
   "outputs": [
    {
     "name": "stdout",
     "output_type": "stream",
     "text": [
      "Fitting 5 folds for each of 11 candidates, totalling 55 fits\n"
     ]
    },
    {
     "name": "stderr",
     "output_type": "stream",
     "text": [
      "[Parallel(n_jobs=-1)]: Done  33 tasks      | elapsed:  1.1min\n",
      "[Parallel(n_jobs=-1)]: Done  55 out of  55 | elapsed:  1.7min finished\n"
     ]
    },
    {
     "data": {
      "text/plain": [
       "{'n_neighbors': 507}"
      ]
     },
     "execution_count": 110,
     "metadata": {},
     "output_type": "execute_result"
    }
   ],
   "source": [
    "from sklearn.model_selection import GridSearchCV\n",
    "\n",
    "# Create the parameter grid\n",
    "\n",
    "param_grid = {\n",
    "    'n_neighbors': [500,501,502,503,504,505,506,507,508,509,510]\n",
    "    }\n",
    "\n",
    "knn = KNeighborsClassifier()\n",
    "\n",
    "# Instantiate the grid search model\n",
    "grid_search_5 = GridSearchCV(estimator = knn, param_grid = param_grid,\n",
    "                           cv = 5, n_jobs = -1, verbose = 2)\n",
    "\n",
    "# Fit the grid search model\n",
    "grid_search_5.fit(X_train, y_train)\n",
    "\n",
    "grid_search_5.best_params_"
   ]
  },
  {
   "cell_type": "code",
   "execution_count": 114,
   "metadata": {
    "scrolled": false
   },
   "outputs": [
    {
     "name": "stdout",
     "output_type": "stream",
     "text": [
      "#####################################################################\n",
      "Number of neighbors:  1\n",
      "#####################################################################\n",
      "\n",
      "Test accuracy:  71.9431279621\n",
      "Precision:  0.445804195804\n",
      "Recall:  0.481132075472\n",
      "\n",
      "Confusion matrix\n",
      "[[1263  317]\n",
      " [ 275  255]]\n",
      "\n",
      "\n",
      "             precision    recall  f1-score   support\n",
      "\n",
      "          0       0.82      0.80      0.81      1580\n",
      "          1       0.45      0.48      0.46       530\n",
      "\n",
      "avg / total       0.73      0.72      0.72      2110\n",
      "\n",
      "#####################################################################\n",
      "Number of neighbors:  4\n",
      "#####################################################################\n",
      "\n",
      "Test accuracy:  77.0616113744\n",
      "Precision:  0.566860465116\n",
      "Recall:  0.367924528302\n",
      "\n",
      "Confusion matrix\n",
      "[[1431  149]\n",
      " [ 335  195]]\n",
      "\n",
      "\n",
      "             precision    recall  f1-score   support\n",
      "\n",
      "          0       0.81      0.91      0.86      1580\n",
      "          1       0.57      0.37      0.45       530\n",
      "\n",
      "avg / total       0.75      0.77      0.75      2110\n",
      "\n",
      "#####################################################################\n",
      "Number of neighbors:  8\n",
      "#####################################################################\n",
      "\n",
      "Test accuracy:  77.4881516588\n",
      "Precision:  0.567901234568\n",
      "Recall:  0.433962264151\n",
      "\n",
      "Confusion matrix\n",
      "[[1405  175]\n",
      " [ 300  230]]\n",
      "\n",
      "\n",
      "             precision    recall  f1-score   support\n",
      "\n",
      "          0       0.82      0.89      0.86      1580\n",
      "          1       0.57      0.43      0.49       530\n",
      "\n",
      "avg / total       0.76      0.77      0.76      2110\n",
      "\n",
      "#####################################################################\n",
      "Number of neighbors:  58\n",
      "#####################################################################\n",
      "\n",
      "Test accuracy:  79.336492891\n",
      "Precision:  0.59670781893\n",
      "Recall:  0.547169811321\n",
      "\n",
      "Confusion matrix\n",
      "[[1384  196]\n",
      " [ 240  290]]\n",
      "\n",
      "\n",
      "             precision    recall  f1-score   support\n",
      "\n",
      "          0       0.85      0.88      0.86      1580\n",
      "          1       0.60      0.55      0.57       530\n",
      "\n",
      "avg / total       0.79      0.79      0.79      2110\n",
      "\n",
      "#####################################################################\n",
      "Number of neighbors:  100\n",
      "#####################################################################\n",
      "\n",
      "Test accuracy:  78.5781990521\n",
      "Precision:  0.578313253012\n",
      "Recall:  0.543396226415\n",
      "\n",
      "Confusion matrix\n",
      "[[1370  210]\n",
      " [ 242  288]]\n",
      "\n",
      "\n",
      "             precision    recall  f1-score   support\n",
      "\n",
      "          0       0.85      0.87      0.86      1580\n",
      "          1       0.58      0.54      0.56       530\n",
      "\n",
      "avg / total       0.78      0.79      0.78      2110\n",
      "\n",
      "#####################################################################\n",
      "Number of neighbors:  507\n",
      "#####################################################################\n",
      "\n",
      "Test accuracy:  78.4360189573\n",
      "Precision:  0.575452716298\n",
      "Recall:  0.539622641509\n",
      "\n",
      "Confusion matrix\n",
      "[[1369  211]\n",
      " [ 244  286]]\n",
      "\n",
      "\n",
      "             precision    recall  f1-score   support\n",
      "\n",
      "          0       0.85      0.87      0.86      1580\n",
      "          1       0.58      0.54      0.56       530\n",
      "\n",
      "avg / total       0.78      0.78      0.78      2110\n",
      "\n"
     ]
    }
   ],
   "source": [
    "def evaluate(model, X_test, y_test):\n",
    "    print \"#####################################################################\"\n",
    "    print \"Number of neighbors: \", model.n_neighbors\n",
    "    print \"#####################################################################\"\n",
    "    predictions = model.predict(X_test)\n",
    "    m_a = metrics.accuracy_score(y_test, predictions) # Test accuracy\n",
    "    m_p = precision_score(y_test, predictions)\n",
    "    m_r = recall_score(y_test, predictions)\n",
    "    report = classification_report(y_test, predictions)\n",
    "    print \"\\nTest accuracy: \", m_a*100\n",
    "    print \"Precision: \", m_p\n",
    "    print \"Recall: \", m_r\n",
    "    print \"\\nConfusion matrix\"\n",
    "    print(confusion_matrix(y_test,predictions))  \n",
    "    print \"\\n\"\n",
    "    print(report)\n",
    "    return m_a\n",
    "\n",
    "knn_base_model = KNeighborsClassifier(n_neighbors = 1)\n",
    "knn_base_model.fit(X_train, y_train)\n",
    "base_accuracy = evaluate(knn_base_model, X_test, y_test)\n",
    "\n",
    "knn_model_1 = grid_search_1.best_estimator_\n",
    "knn_model_1_accuracy = evaluate(knn_model_1, X_test, y_test)\n",
    "\n",
    "knn_model_2 = grid_search_2.best_estimator_\n",
    "knn_model_2_accuracy = evaluate(knn_model_2, X_test, y_test)\n",
    "\n",
    "knn_model_3 = grid_search_3.best_estimator_\n",
    "knn_model_3_accuracy = evaluate(knn_model_3, X_test, y_test)\n",
    "\n",
    "knn_model_4 = grid_search_4.best_estimator_\n",
    "knn_model_4_accuracy = evaluate(knn_model_4, X_test, y_test)\n",
    "\n",
    "knn_model_5 = grid_search_5.best_estimator_\n",
    "knn_model_5_accuracy = evaluate(knn_model_5, X_test, y_test)\n"
   ]
  },
  {
   "cell_type": "code",
   "execution_count": 78,
   "metadata": {},
   "outputs": [
    {
     "data": {
      "image/png": "[encoded data removed]",
      "text/plain": [
       "<matplotlib.figure.Figure at 0xd3c2b00>"
      ]
     },
     "metadata": {},
     "output_type": "display_data"
    }
   ],
   "source": [
    "# libraries\n",
    "import numpy as np\n",
    "import matplotlib.pyplot as plt\n",
    "from matplotlib import pylab\n",
    "\n",
    "# set width of bar\n",
    "barWidth = 0.12\n",
    "\n",
    "# set height of bar\n",
    "knn_1 =[0.72, 0.73, 0.72]\n",
    "knn_4 = [0.77, 0.75,0.77]\n",
    "knn_8 = [0.77, 0.76, 0.77]\n",
    "knn_58 = [0.79, 0.79, 0.79]\n",
    "knn_100 = [0.78, 0.78, 0.79]\n",
    "knn_507 = [0.78, 0.78, 0.78]\n",
    "\n",
    "\n",
    "# Set position of bar on X axis\n",
    "r1 = np.arange(3)\n",
    "r2 = [x + barWidth for x in r1]\n",
    "r3 = [x + barWidth for x in r2]\n",
    "r4 = [x + barWidth for x in r3]\n",
    "r5 = [x + barWidth for x in r4]\n",
    "r6 = [x + barWidth for x in r5]\n",
    "\n",
    "\n",
    "# Make the plot\n",
    "plt.figure(figsize=(10,4))\n",
    "plt.bar(r1, knn_1, color='#FFC0CB', width=barWidth, edgecolor='white', label='no. of neighbors - 1')\n",
    "plt.bar(r2, knn_4, color='#ADD8E6', width=barWidth, edgecolor='white', label='no. of neighbors - 4')\n",
    "plt.bar(r3, knn_8, color='#98FB98', width=barWidth, edgecolor='white', label='no. of neighbors - 8')\n",
    "plt.bar(r4, knn_58, color='#644f7a', width=barWidth, edgecolor='white', label='no. of neighbors - 58')\n",
    "plt.bar(r5, knn_100, color='#707070', width=barWidth, edgecolor='white', label='no. of neighbors - 100')\n",
    "plt.bar(r6, knn_507, color='#ff004d', width=barWidth, edgecolor='white', label='no. of neighbors - 507')\n",
    " \n",
    "# Add xticks on the middle of the group bars\n",
    "plt.xlabel('kNN Performance', fontweight='bold')\n",
    "plt.xticks([r + barWidth for r in range(len(knn_1))], ['Accuracy', 'Precision', 'Recall'])\n",
    " \n",
    "# Create legend & Show graphic\n",
    "pylab.legend(loc= 0, bbox_to_anchor=(0.5, -0.2))\n",
    "plt.show()\n"
   ]
  },
  {
   "cell_type": "markdown",
   "metadata": {},
   "source": [
    "## 3. Decision Tree Classifier"
   ]
  },
  {
   "cell_type": "code",
   "execution_count": 115,
   "metadata": {},
   "outputs": [
    {
     "name": "stdout",
     "output_type": "stream",
     "text": [
      "Fitting 5 folds for each of 6 candidates, totalling 30 fits\n"
     ]
    },
    {
     "name": "stderr",
     "output_type": "stream",
     "text": [
      "[Parallel(n_jobs=-1)]: Done  30 out of  30 | elapsed:    5.6s finished\n"
     ]
    },
    {
     "data": {
      "text/plain": [
       "{'max_depth': 5}"
      ]
     },
     "execution_count": 115,
     "metadata": {},
     "output_type": "execute_result"
    }
   ],
   "source": [
    "from sklearn.model_selection import GridSearchCV\n",
    "from sklearn import tree\n",
    "\n",
    "# Create the parameter grid\n",
    "\n",
    "param_grid = {\n",
    "    'max_depth': [5,6,7,8,9,10]\n",
    "    }\n",
    "\n",
    "dt = tree.DecisionTreeClassifier()\n",
    "\n",
    "# Instantiate the grid search model\n",
    "dt_grid_search_1 = GridSearchCV(estimator = dt, param_grid = param_grid,\n",
    "                           cv = 5, n_jobs = -1, verbose = 2)\n",
    "\n",
    "# Fit the grid search model\n",
    "dt_grid_search_1.fit(X_train, y_train)\n",
    "\n",
    "dt_grid_search_1.best_params_"
   ]
  },
  {
   "cell_type": "code",
   "execution_count": 180,
   "metadata": {},
   "outputs": [
    {
     "data": {
      "text/plain": [
       "[10, 11, 12, 13, 14, 15, 16, 17, 18, 19]"
      ]
     },
     "execution_count": 180,
     "metadata": {},
     "output_type": "execute_result"
    }
   ],
   "source": [
    "range(10,20)"
   ]
  },
  {
   "cell_type": "code",
   "execution_count": 116,
   "metadata": {},
   "outputs": [
    {
     "name": "stdout",
     "output_type": "stream",
     "text": [
      "Fitting 5 folds for each of 10 candidates, totalling 50 fits\n"
     ]
    },
    {
     "name": "stderr",
     "output_type": "stream",
     "text": [
      "[Parallel(n_jobs=-1)]: Done  33 tasks      | elapsed:    7.4s\n",
      "[Parallel(n_jobs=-1)]: Done  50 out of  50 | elapsed:    7.9s finished\n"
     ]
    },
    {
     "data": {
      "text/plain": [
       "{'max_depth': 11}"
      ]
     },
     "execution_count": 116,
     "metadata": {},
     "output_type": "execute_result"
    }
   ],
   "source": [
    "from sklearn.model_selection import GridSearchCV\n",
    "from sklearn import tree\n",
    "\n",
    "# Create the parameter grid\n",
    "\n",
    "param_grid = {\n",
    "    'max_depth': range(10,20)\n",
    "    }\n",
    "\n",
    "dt = tree.DecisionTreeClassifier()\n",
    "\n",
    "# Instantiate the grid search model\n",
    "dt_grid_search_2 = GridSearchCV(estimator = dt, param_grid = param_grid,\n",
    "                           cv = 5, n_jobs = -1, verbose = 2)\n",
    "\n",
    "# Fit the grid search model\n",
    "dt_grid_search_2.fit(X_train, y_train)\n",
    "\n",
    "dt_grid_search_2.best_params_"
   ]
  },
  {
   "cell_type": "code",
   "execution_count": 117,
   "metadata": {},
   "outputs": [
    {
     "name": "stdout",
     "output_type": "stream",
     "text": [
      "Fitting 5 folds for each of 10 candidates, totalling 50 fits\n"
     ]
    },
    {
     "name": "stderr",
     "output_type": "stream",
     "text": [
      "[Parallel(n_jobs=-1)]: Done  33 tasks      | elapsed:    6.3s\n",
      "[Parallel(n_jobs=-1)]: Done  50 out of  50 | elapsed:    6.8s finished\n"
     ]
    },
    {
     "data": {
      "text/plain": [
       "{'max_depth': 54}"
      ]
     },
     "execution_count": 117,
     "metadata": {},
     "output_type": "execute_result"
    }
   ],
   "source": [
    "from sklearn.model_selection import GridSearchCV\n",
    "from sklearn import tree\n",
    "\n",
    "# Create the parameter grid\n",
    "\n",
    "param_grid = {\n",
    "    'max_depth': range(50,60)\n",
    "    }\n",
    "\n",
    "dt = tree.DecisionTreeClassifier()\n",
    "\n",
    "# Instantiate the grid search model\n",
    "dt_grid_search_3 = GridSearchCV(estimator = dt, param_grid = param_grid,\n",
    "                           cv = 5, n_jobs = -1, verbose = 2)\n",
    "\n",
    "# Fit the grid search model\n",
    "dt_grid_search_3.fit(X_train, y_train)\n",
    "\n",
    "dt_grid_search_3.best_params_"
   ]
  },
  {
   "cell_type": "code",
   "execution_count": 118,
   "metadata": {},
   "outputs": [
    {
     "name": "stdout",
     "output_type": "stream",
     "text": [
      "Fitting 5 folds for each of 10 candidates, totalling 50 fits\n"
     ]
    },
    {
     "name": "stderr",
     "output_type": "stream",
     "text": [
      "[Parallel(n_jobs=-1)]: Done  33 tasks      | elapsed:    6.0s\n",
      "[Parallel(n_jobs=-1)]: Done  50 out of  50 | elapsed:    6.6s finished\n"
     ]
    },
    {
     "data": {
      "text/plain": [
       "{'max_depth': 104}"
      ]
     },
     "execution_count": 118,
     "metadata": {},
     "output_type": "execute_result"
    }
   ],
   "source": [
    "from sklearn.model_selection import GridSearchCV\n",
    "from sklearn import tree\n",
    "\n",
    "# Create the parameter grid\n",
    "\n",
    "param_grid = {\n",
    "    'max_depth': range(100,110)\n",
    "    }\n",
    "\n",
    "dt = tree.DecisionTreeClassifier()\n",
    "\n",
    "# Instantiate the grid search model\n",
    "dt_grid_search_4 = GridSearchCV(estimator = dt, param_grid = param_grid,\n",
    "                           cv = 5, n_jobs = -1, verbose = 2)\n",
    "\n",
    "# Fit the grid search model\n",
    "dt_grid_search_4.fit(X_train, y_train)\n",
    "\n",
    "dt_grid_search_4.best_params_"
   ]
  },
  {
   "cell_type": "code",
   "execution_count": 119,
   "metadata": {},
   "outputs": [
    {
     "name": "stdout",
     "output_type": "stream",
     "text": [
      "#####################################################################\n",
      "Decision Tree with depth:  3\n",
      "#####################################################################\n",
      "\n",
      "Test accuracy:  79.6682464455\n",
      "Precision:  0.686346863469\n",
      "Recall:  0.350943396226\n",
      "\n",
      "Confusion matrix\n",
      "[[1495   85]\n",
      " [ 344  186]]\n",
      "\n",
      "\n",
      "             precision    recall  f1-score   support\n",
      "\n",
      "          0       0.81      0.95      0.87      1580\n",
      "          1       0.69      0.35      0.46       530\n",
      "\n",
      "avg / total       0.78      0.80      0.77      2110\n",
      "\n",
      "#####################################################################\n",
      "Decision Tree with depth:  5\n",
      "#####################################################################\n",
      "\n",
      "Test accuracy:  78.3886255924\n",
      "Precision:  0.566071428571\n",
      "Recall:  0.598113207547\n",
      "\n",
      "Confusion matrix\n",
      "[[1337  243]\n",
      " [ 213  317]]\n",
      "\n",
      "\n",
      "             precision    recall  f1-score   support\n",
      "\n",
      "          0       0.86      0.85      0.85      1580\n",
      "          1       0.57      0.60      0.58       530\n",
      "\n",
      "avg / total       0.79      0.78      0.79      2110\n",
      "\n",
      "#####################################################################\n",
      "Decision Tree with depth:  11\n",
      "#####################################################################\n",
      "\n",
      "Test accuracy:  75.1658767773\n",
      "Precision:  0.505154639175\n",
      "Recall:  0.554716981132\n",
      "\n",
      "Confusion matrix\n",
      "[[1292  288]\n",
      " [ 236  294]]\n",
      "\n",
      "\n",
      "             precision    recall  f1-score   support\n",
      "\n",
      "          0       0.85      0.82      0.83      1580\n",
      "          1       0.51      0.55      0.53       530\n",
      "\n",
      "avg / total       0.76      0.75      0.76      2110\n",
      "\n",
      "#####################################################################\n",
      "Decision Tree with depth:  54\n",
      "#####################################################################\n",
      "\n",
      "Test accuracy:  71.7535545024\n",
      "Precision:  0.445544554455\n",
      "Recall:  0.509433962264\n",
      "\n",
      "Confusion matrix\n",
      "[[1244  336]\n",
      " [ 260  270]]\n",
      "\n",
      "\n",
      "             precision    recall  f1-score   support\n",
      "\n",
      "          0       0.83      0.79      0.81      1580\n",
      "          1       0.45      0.51      0.48       530\n",
      "\n",
      "avg / total       0.73      0.72      0.72      2110\n",
      "\n",
      "#####################################################################\n",
      "Decision Tree with depth:  104\n",
      "#####################################################################\n",
      "\n",
      "Test accuracy:  71.6587677725\n",
      "Precision:  0.443894389439\n",
      "Recall:  0.507547169811\n",
      "\n",
      "Confusion matrix\n",
      "[[1243  337]\n",
      " [ 261  269]]\n",
      "\n",
      "\n",
      "             precision    recall  f1-score   support\n",
      "\n",
      "          0       0.83      0.79      0.81      1580\n",
      "          1       0.44      0.51      0.47       530\n",
      "\n",
      "avg / total       0.73      0.72      0.72      2110\n",
      "\n"
     ]
    }
   ],
   "source": [
    "def evaluate(model, X_test, y_test):\n",
    "    print \"#####################################################################\"\n",
    "    print \"Decision Tree with depth: \", model.max_depth\n",
    "    print \"#####################################################################\"\n",
    "    predictions = model.predict(X_test)\n",
    "    m_a = metrics.accuracy_score(y_test, predictions) # Test accuracy\n",
    "    m_p = precision_score(y_test, predictions)\n",
    "    m_r = recall_score(y_test, predictions)\n",
    "    report = classification_report(y_test, predictions)\n",
    "    print \"\\nTest accuracy: \", m_a*100\n",
    "    print \"Precision: \", m_p\n",
    "    print \"Recall: \", m_r\n",
    "    print \"\\nConfusion matrix\"\n",
    "    print(confusion_matrix(y_test,predictions))  \n",
    "    print \"\\n\"\n",
    "    print(report)\n",
    "    return m_a\n",
    "\n",
    "dt_base_model = tree.DecisionTreeClassifier(max_depth=3)\n",
    "dt_base_model.fit(X_train, y_train)\n",
    "dt_base_accuracy = evaluate(dt_base_model, X_test, y_test)\n",
    "\n",
    "dt_model_1 = dt_grid_search_1.best_estimator_\n",
    "dt_model_1_accuracy = evaluate(dt_model_1, X_test, y_test)\n",
    "\n",
    "dt_model_2 = dt_grid_search_2.best_estimator_\n",
    "dt_model_2_accuracy = evaluate(dt_model_2, X_test, y_test)\n",
    "\n",
    "dt_model_3 = dt_grid_search_3.best_estimator_\n",
    "dt_model_3_accuracy = evaluate(dt_model_3, X_test, y_test)\n",
    "\n",
    "dt_model_4 = dt_grid_search_4.best_estimator_\n",
    "dt_model_4_accuracy = evaluate(dt_model_4, X_test, y_test)\n"
   ]
  },
  {
   "cell_type": "code",
   "execution_count": 79,
   "metadata": {},
   "outputs": [
    {
     "data": {
      "image/png": "[encoded data removed]",
      "text/plain": [
       "<matplotlib.figure.Figure at 0xbe96748>"
      ]
     },
     "metadata": {},
     "output_type": "display_data"
    }
   ],
   "source": [
    "# libraries\n",
    "import numpy as np\n",
    "import matplotlib.pyplot as plt\n",
    "from matplotlib import pylab\n",
    "\n",
    "# set width of bar\n",
    "barWidth = 0.12\n",
    "\n",
    "# set height of bar\n",
    "depth_3 =[0.80, 0.79, 0.80]\n",
    "depth_5 = [0.78, 0.80,0.78]\n",
    "depth_11 = [0.75, 0.76, 0.75]\n",
    "depth_54 = [0.72, 0.73, 0.72]\n",
    "depth_104 = [0.72, 0.73, 0.72]\n",
    "\n",
    "# Set position of bar on X axis\n",
    "r1 = np.arange(3)\n",
    "r2 = [x + barWidth for x in r1]\n",
    "r3 = [x + barWidth for x in r2]\n",
    "r4 = [x + barWidth for x in r3]\n",
    "r5 = [x + barWidth for x in r4]\n",
    "\n",
    "# Make the plot\n",
    "plt.figure(figsize=(10,4))\n",
    "plt.bar(r1, depth_3, color='#FFC0CB', width=barWidth, edgecolor='white', label='depth = 3')\n",
    "plt.bar(r2, depth_5, color='#ADD8E6', width=barWidth, edgecolor='white', label='depth = 5')\n",
    "plt.bar(r3, depth_11, color='#98FB98', width=barWidth, edgecolor='white', label='depth = 11')\n",
    "plt.bar(r4, depth_54, color='#644f7a', width=barWidth, edgecolor='white', label='depth = 54')\n",
    "plt.bar(r5, depth_104, color='#707070', width=barWidth, edgecolor='white', label='depth = 104')\n",
    " \n",
    "# Add xticks on the middle of the group bars\n",
    "plt.xlabel('Decision Tree Performance', fontweight='bold')\n",
    "plt.xticks([r + barWidth for r in range(len(depth_3))], ['Accuracy', 'Precision', 'Recall'])\n",
    " \n",
    "# Create legend & Show graphic\n",
    "pylab.legend(loc= 0, bbox_to_anchor=(0.5, -0.2))\n",
    "plt.show()\n"
   ]
  },
  {
   "cell_type": "markdown",
   "metadata": {},
   "source": [
    "## 4. Logistic Regression"
   ]
  },
  {
   "cell_type": "code",
   "execution_count": 91,
   "metadata": {
    "scrolled": false
   },
   "outputs": [
    {
     "name": "stdout",
     "output_type": "stream",
     "text": [
      "###############################################################################\n",
      "Trial 1\n",
      "###############################################################################\n",
      "\n",
      "Test accuracy:  80.8056872038\n",
      "Precision:  0.80049210311\n",
      "Recall:  0.808056872038\n",
      "\n",
      "Confusion matrix\n",
      "[[1261  319]\n",
      " [ 275  255]]\n",
      "\n",
      "\n",
      "             precision    recall  f1-score   support\n",
      "\n",
      "          0       0.82      0.80      0.81      1580\n",
      "          1       0.44      0.48      0.46       530\n",
      "\n",
      "avg / total       0.73      0.72      0.72      2110\n",
      "\n",
      "###############################################################################\n",
      "Trial 2\n",
      "###############################################################################\n",
      "\n",
      "Test accuracy:  80.8056872038\n",
      "Precision:  0.80049210311\n",
      "Recall:  0.808056872038\n",
      "\n",
      "Confusion matrix\n",
      "[[1261  319]\n",
      " [ 275  255]]\n",
      "\n",
      "\n",
      "             precision    recall  f1-score   support\n",
      "\n",
      "          0       0.82      0.80      0.81      1580\n",
      "          1       0.44      0.48      0.46       530\n",
      "\n",
      "avg / total       0.73      0.72      0.72      2110\n",
      "\n",
      "###############################################################################\n",
      "Trial 3\n",
      "###############################################################################\n",
      "\n",
      "Test accuracy:  80.5687203791\n",
      "Precision:  0.797897596189\n",
      "Recall:  0.805687203791\n",
      "\n",
      "Confusion matrix\n",
      "[[1261  319]\n",
      " [ 275  255]]\n",
      "\n",
      "\n",
      "             precision    recall  f1-score   support\n",
      "\n",
      "          0       0.82      0.80      0.81      1580\n",
      "          1       0.44      0.48      0.46       530\n",
      "\n",
      "avg / total       0.73      0.72      0.72      2110\n",
      "\n",
      "###############################################################################\n",
      "Trial 4\n",
      "###############################################################################\n",
      "\n",
      "Test accuracy:  80.8056872038\n",
      "Precision:  0.80049210311\n",
      "Recall:  0.808056872038\n",
      "\n",
      "Confusion matrix\n",
      "[[1261  319]\n",
      " [ 275  255]]\n",
      "\n",
      "\n",
      "             precision    recall  f1-score   support\n",
      "\n",
      "          0       0.82      0.80      0.81      1580\n",
      "          1       0.44      0.48      0.46       530\n",
      "\n",
      "avg / total       0.73      0.72      0.72      2110\n",
      "\n",
      "###############################################################################\n",
      "Trial 5\n",
      "###############################################################################\n",
      "\n",
      "Test accuracy:  80.8056872038\n",
      "Precision:  0.80049210311\n",
      "Recall:  0.808056872038\n",
      "\n",
      "Confusion matrix\n",
      "[[1261  319]\n",
      " [ 275  255]]\n",
      "\n",
      "\n",
      "             precision    recall  f1-score   support\n",
      "\n",
      "          0       0.82      0.80      0.81      1580\n",
      "          1       0.44      0.48      0.46       530\n",
      "\n",
      "avg / total       0.73      0.72      0.72      2110\n",
      "\n",
      "###############################################################################\n",
      "Trial 6\n",
      "###############################################################################\n",
      "\n",
      "Test accuracy:  80.8056872038\n",
      "Precision:  0.80049210311\n",
      "Recall:  0.808056872038\n",
      "\n",
      "Confusion matrix\n",
      "[[1261  319]\n",
      " [ 275  255]]\n",
      "\n",
      "\n",
      "             precision    recall  f1-score   support\n",
      "\n",
      "          0       0.82      0.80      0.81      1580\n",
      "          1       0.44      0.48      0.46       530\n",
      "\n",
      "avg / total       0.73      0.72      0.72      2110\n",
      "\n",
      "###############################################################################\n",
      "Trial 7\n",
      "###############################################################################\n",
      "\n",
      "Test accuracy:  80.8056872038\n",
      "Precision:  0.80049210311\n",
      "Recall:  0.808056872038\n",
      "\n",
      "Confusion matrix\n",
      "[[1261  319]\n",
      " [ 275  255]]\n",
      "\n",
      "\n",
      "             precision    recall  f1-score   support\n",
      "\n",
      "          0       0.82      0.80      0.81      1580\n",
      "          1       0.44      0.48      0.46       530\n",
      "\n",
      "avg / total       0.73      0.72      0.72      2110\n",
      "\n"
     ]
    }
   ],
   "source": [
    "print \"###############################################################################\"\n",
    "print \"Trial 1\"\n",
    "print \"###############################################################################\"\n",
    "\n",
    "from sklearn.linear_model import LogisticRegressionCV\n",
    "from sklearn.metrics import accuracy_score\n",
    "\n",
    "lr = LogisticRegressionCV(tol=1e-2, solver='newton-cg', max_iter=20, cv=6)\n",
    "lr.fit(X_train, y_train)\n",
    "\n",
    "y_predict = lr.predict(X_test)\n",
    "\n",
    "m1a = (accuracy_score(y_test, y_predict))\n",
    "m1p =(precision_score(y_test, y_predict, average='weighted'))\n",
    "m1r = (recall_score(y_test, y_predict, average='weighted'))\n",
    "\n",
    "print \"\\nTest accuracy: \", m1a*100\n",
    "print \"Precision: \", m1p\n",
    "print \"Recall: \", m1r\n",
    "print \"\\nConfusion matrix\"\n",
    "print(confusion_matrix(y_test,predictions))  \n",
    "print \"\\n\"\n",
    "print(report)\n",
    "\n",
    "print \"###############################################################################\"\n",
    "print \"Trial 2\"\n",
    "print \"###############################################################################\"\n",
    "\n",
    "from sklearn.linear_model import LogisticRegressionCV\n",
    "from sklearn.metrics import accuracy_score\n",
    "\n",
    "lr = LogisticRegressionCV(tol=1e-4, solver='newton-cg', max_iter=20, cv=6)\n",
    "lr.fit(X_train, y_train)\n",
    "\n",
    "y_predict = lr.predict(X_test)\n",
    "\n",
    "m2a = (accuracy_score(y_test, y_predict))\n",
    "m2p =(precision_score(y_test, y_predict, average='weighted'))\n",
    "m2r = (recall_score(y_test, y_predict, average='weighted'))\n",
    "\n",
    "print \"\\nTest accuracy: \", m2a*100\n",
    "print \"Precision: \", m2p\n",
    "print \"Recall: \", m2r\n",
    "print \"\\nConfusion matrix\"\n",
    "print(confusion_matrix(y_test,predictions))  \n",
    "print \"\\n\"\n",
    "print(report)\n",
    "\n",
    "print \"###############################################################################\"\n",
    "print \"Trial 3\"\n",
    "print \"###############################################################################\"\n",
    "\n",
    "from sklearn.linear_model import LogisticRegressionCV\n",
    "from sklearn.metrics import accuracy_score\n",
    "\n",
    "lr = LogisticRegressionCV(tol=1e-2, solver='liblinear', max_iter=50, cv=6)\n",
    "lr.fit(X_train, y_train)\n",
    "\n",
    "y_predict = lr.predict(X_test)\n",
    "\n",
    "m3a = (accuracy_score(y_test, y_predict))\n",
    "m3p =(precision_score(y_test, y_predict, average='weighted'))\n",
    "m3r = (recall_score(y_test, y_predict, average='weighted'))\n",
    "\n",
    "print \"\\nTest accuracy: \", m3a*100\n",
    "print \"Precision: \", m3p\n",
    "print \"Recall: \", m3r\n",
    "print \"\\nConfusion matrix\"\n",
    "print(confusion_matrix(y_test,predictions))  \n",
    "print \"\\n\"\n",
    "print(report)\n",
    "\n",
    "print \"###############################################################################\"\n",
    "print \"Trial 4\"\n",
    "print \"###############################################################################\"\n",
    "\n",
    "from sklearn.linear_model import LogisticRegressionCV\n",
    "from sklearn.metrics import accuracy_score\n",
    "\n",
    "lr = LogisticRegressionCV(tol=1e-4, solver='liblinear', max_iter=50, cv=6)\n",
    "lr.fit(X_train, y_train)\n",
    "\n",
    "y_predict = lr.predict(X_test)\n",
    "\n",
    "m4a = (accuracy_score(y_test, y_predict))\n",
    "m4p =(precision_score(y_test, y_predict, average='weighted'))\n",
    "m4r = (recall_score(y_test, y_predict, average='weighted'))\n",
    "\n",
    "print \"\\nTest accuracy: \", m4a*100\n",
    "print \"Precision: \", m4p\n",
    "print \"Recall: \", m4r\n",
    "print \"\\nConfusion matrix\"\n",
    "print(confusion_matrix(y_test,predictions))  \n",
    "print \"\\n\"\n",
    "print(report)\n",
    "\n",
    "print \"###############################################################################\"\n",
    "print \"Trial 5\"\n",
    "print \"###############################################################################\"\n",
    "\n",
    "from sklearn.metrics import accuracy_score\n",
    "\n",
    "lr = LogisticRegressionCV(tol=1e-2, solver='lbfgs', max_iter=100, cv=6)\n",
    "lr.fit(X_train, y_train)\n",
    "\n",
    "y_predict = lr.predict(X_test)\n",
    "\n",
    "m5a = (accuracy_score(y_test, y_predict))\n",
    "m5p =(precision_score(y_test, y_predict, average='weighted'))\n",
    "m5r = (recall_score(y_test, y_predict, average='weighted'))\n",
    "\n",
    "print \"\\nTest accuracy: \", m5a*100\n",
    "print \"Precision: \", m5p\n",
    "print \"Recall: \", m5r\n",
    "print \"\\nConfusion matrix\"\n",
    "print(confusion_matrix(y_test,predictions))  \n",
    "print \"\\n\"\n",
    "print(report)\n",
    "\n",
    "print \"###############################################################################\"\n",
    "print \"Trial 6\"\n",
    "print \"###############################################################################\"\n",
    "\n",
    "from sklearn.metrics import accuracy_score\n",
    "\n",
    "lr = LogisticRegressionCV(tol=1e-4, solver='lbfgs', max_iter=500, cv=6)\n",
    "lr.fit(X_train, y_train)\n",
    "\n",
    "y_predict = lr.predict(X_test)\n",
    "\n",
    "m6a = (accuracy_score(y_test, y_predict))\n",
    "m6p =(precision_score(y_test, y_predict, average='weighted'))\n",
    "m6r = (recall_score(y_test, y_predict, average='weighted'))\n",
    "\n",
    "print \"\\nTest accuracy: \", m6a*100\n",
    "print \"Precision: \", m6p\n",
    "print \"Recall: \", m6r\n",
    "print \"\\nConfusion matrix\"\n",
    "print(confusion_matrix(y_test,predictions))  \n",
    "print \"\\n\"\n",
    "print(report)\n",
    "\n",
    "print \"###############################################################################\"\n",
    "print \"Trial 7\"\n",
    "print \"###############################################################################\"\n",
    "\n",
    "from sklearn.linear_model import LogisticRegressionCV\n",
    "\n",
    "lr = LogisticRegressionCV(tol=1e-4, solver='saga', max_iter=2000)\n",
    "lr.fit(X_train, y_train)\n",
    "\n",
    "\n",
    "y_predict = lr.predict(X_test)\n",
    "\n",
    "m7a = (accuracy_score(y_test, y_predict))\n",
    "m7p =(precision_score(y_test, y_predict, average='weighted'))\n",
    "m7r = (recall_score(y_test, y_predict, average='weighted'))\n",
    "\n",
    "print \"\\nTest accuracy: \", m7a*100\n",
    "print \"Precision: \", m7p\n",
    "print \"Recall: \", m7r\n",
    "print \"\\nConfusion matrix\"\n",
    "print(confusion_matrix(y_test,predictions))  \n",
    "print \"\\n\"\n",
    "print(report)\n"
   ]
  },
  {
   "cell_type": "markdown",
   "metadata": {},
   "source": [
    "## 5. Naive Bayes"
   ]
  },
  {
   "cell_type": "code",
   "execution_count": 82,
   "metadata": {},
   "outputs": [
    {
     "name": "stdout",
     "output_type": "stream",
     "text": [
      "###############################################################################\n",
      "Gaussian NB\n",
      "###############################################################################\n",
      "\n",
      "Test accuracy:  68.1990521327\n",
      "Precision:  0.42957042957\n",
      "Recall:  0.811320754717\n",
      "\n",
      "Confusion matrix\n",
      "[[1009  571]\n",
      " [ 100  430]]\n",
      "\n",
      "\n",
      "             precision    recall  f1-score   support\n",
      "\n",
      "          0       0.91      0.64      0.75      1580\n",
      "          1       0.43      0.81      0.56       530\n",
      "\n",
      "avg / total       0.79      0.68      0.70      2110\n",
      "\n",
      "###############################################################################\n",
      "Bernoulli NB\n",
      "###############################################################################\n",
      "\n",
      "Test accuracy:  71.1848341232\n",
      "Precision:  0.456570155902\n",
      "Recall:  0.77358490566\n",
      "\n",
      "Confusion matrix\n",
      "[[1092  488]\n",
      " [ 120  410]]\n",
      "\n",
      "\n",
      "             precision    recall  f1-score   support\n",
      "\n",
      "          0       0.90      0.69      0.78      1580\n",
      "          1       0.46      0.77      0.57       530\n",
      "\n",
      "avg / total       0.79      0.71      0.73      2110\n",
      "\n"
     ]
    }
   ],
   "source": [
    "print \"###############################################################################\"\n",
    "print \"Gaussian NB\"\n",
    "print \"###############################################################################\"\n",
    "\n",
    "from sklearn import datasets\n",
    "from sklearn.naive_bayes import GaussianNB\n",
    "gnb = GaussianNB()\n",
    "\n",
    "#Fitting on training data\n",
    "gnb.fit(X_train, y_train)\n",
    "\n",
    "# Make cross validated predictions\n",
    "predictions = gnb.predict(X_test)\n",
    "\n",
    "m1a = metrics.accuracy_score(y_test, predictions) # Test accuracy\n",
    "m1p = precision_score(y_test, predictions)\n",
    "m1r = recall_score(y_test, predictions)\n",
    "report = classification_report(y_test, predictions)\n",
    "\n",
    "print \"\\nTest accuracy: \", m1a*100\n",
    "print \"Precision: \", m1p\n",
    "print \"Recall: \", m1r\n",
    "print \"\\nConfusion matrix\"\n",
    "print(confusion_matrix(y_test,predictions))  \n",
    "print \"\\n\"\n",
    "print(report)\n",
    "\n",
    "print \"###############################################################################\"\n",
    "print \"Bernoulli NB\"\n",
    "print \"###############################################################################\"\n",
    "\n",
    "from sklearn.naive_bayes import BernoulliNB\n",
    "bnb = BernoulliNB()\n",
    "\n",
    "#Fitting on training data\n",
    "bnb.fit(X_train, y_train)\n",
    "\n",
    "# Make cross validated predictions\n",
    "predictions = bnb.predict(X_test)\n",
    "\n",
    "m2a = metrics.accuracy_score(y_test, predictions) # Test accuracy\n",
    "m2p = precision_score(y_test, predictions)\n",
    "m2r = recall_score(y_test, predictions)\n",
    "report = classification_report(y_test, predictions)\n",
    "\n",
    "print \"\\nTest accuracy: \", m2a*100\n",
    "print \"Precision: \", m2p\n",
    "print \"Recall: \", m2r\n",
    "print \"\\nConfusion matrix\"\n",
    "print(confusion_matrix(y_test,predictions))  \n",
    "print \"\\n\"\n",
    "print(report)\n"
   ]
  },
  {
   "cell_type": "code",
   "execution_count": 92,
   "metadata": {},
   "outputs": [
    {
     "data": {
      "image/png": "[encoded data removed]",
      "text/plain": [
       "<matplotlib.figure.Figure at 0xd117f98>"
      ]
     },
     "metadata": {},
     "output_type": "display_data"
    }
   ],
   "source": [
    "# libraries\n",
    "import numpy as np\n",
    "import matplotlib.pyplot as plt\n",
    "from matplotlib import pylab\n",
    "\n",
    "# set width of bar\n",
    "barWidth = 0.28\n",
    "\n",
    "# set height of bar\n",
    "gnb =[0.68, 0.79, 0.68]\n",
    "bnb = [0.71, 0.80,0.71]\n",
    "\n",
    "\n",
    "# Set position of bar on X axis\n",
    "r1 = np.arange(3)\n",
    "r2 = [x + barWidth for x in r1]\n",
    "\n",
    "# Make the plot\n",
    "plt.figure(figsize=(5,3))\n",
    "plt.bar(r1, gnb, color='#FFC0CB', width=barWidth, edgecolor='white', label='Gaussian NB')\n",
    "plt.bar(r2, bnb, color='#ADD8E6', width=barWidth, edgecolor='white', label='Bernoulli NB')\n",
    "\n",
    "# Add xticks on the middle of the group bars\n",
    "plt.xlabel('Naive Bayes Performance', fontweight='bold')\n",
    "plt.xticks([r + barWidth for r in range(len(depth_3))], ['Accuracy', 'Precision', 'Recall'])\n",
    " \n",
    "# Create legend & Show graphic\n",
    "pylab.legend(loc= 0, bbox_to_anchor=(0.5, -0.2))\n",
    "plt.show()\n"
   ]
  },
  {
   "cell_type": "markdown",
   "metadata": {},
   "source": [
    "## 6. Support Vector Machines"
   ]
  },
  {
   "cell_type": "markdown",
   "metadata": {},
   "source": [
    "### Case 1: Linear Kernel"
   ]
  },
  {
   "cell_type": "code",
   "execution_count": 14,
   "metadata": {},
   "outputs": [
    {
     "name": "stdout",
     "output_type": "stream",
     "text": [
      "Fitting 5 folds for each of 9 candidates, totalling 45 fits\n"
     ]
    },
    {
     "name": "stderr",
     "output_type": "stream",
     "text": [
      "[Parallel(n_jobs=-1)]: Done  33 tasks      | elapsed:   22.3s\n",
      "[Parallel(n_jobs=-1)]: Done  45 out of  45 | elapsed:   27.2s finished\n"
     ]
    },
    {
     "data": {
      "text/plain": [
       "{'C': 0.006}"
      ]
     },
     "execution_count": 14,
     "metadata": {},
     "output_type": "execute_result"
    }
   ],
   "source": [
    "#Model 1\n",
    "from sklearn.model_selection import GridSearchCV\n",
    "from sklearn import svm\n",
    "\n",
    "# Create the parameter grid\n",
    "param_grid = {'C': [0.001,0.002, 0.003,0.004, 0.005, 0.006, 0.007, 0.008, 0.009] }\n",
    "\n",
    "svm_l = svm.SVC(kernel='linear')\n",
    "\n",
    "# Instantiate the grid search model\n",
    "svm_grid_search1 = GridSearchCV(estimator = svm_l, param_grid = param_grid,\n",
    "                           cv = 5, n_jobs = -1, verbose = 2)\n",
    "\n",
    "# Fit the grid search model\n",
    "svm_grid_search1.fit(X_train, y_train)\n",
    "\n",
    "svm_grid_search1.best_params_\n"
   ]
  },
  {
   "cell_type": "code",
   "execution_count": 17,
   "metadata": {},
   "outputs": [
    {
     "name": "stdout",
     "output_type": "stream",
     "text": [
      "Fitting 5 folds for each of 9 candidates, totalling 45 fits\n"
     ]
    },
    {
     "name": "stderr",
     "output_type": "stream",
     "text": [
      "[Parallel(n_jobs=-1)]: Done  33 tasks      | elapsed:   21.3s\n",
      "[Parallel(n_jobs=-1)]: Done  45 out of  45 | elapsed:   26.0s finished\n"
     ]
    },
    {
     "data": {
      "text/plain": [
       "{'C': 0.03}"
      ]
     },
     "execution_count": 17,
     "metadata": {},
     "output_type": "execute_result"
    }
   ],
   "source": [
    "#Model 2\n",
    "from sklearn.model_selection import GridSearchCV\n",
    "from sklearn import svm\n",
    "\n",
    "# Create the parameter grid\n",
    "param_grid = {'C': [0.01,0.02, 0.03,0.04, 0.05, 0.06, 0.07, 0.08, 0.09] }\n",
    "\n",
    "svm_l = svm.SVC(kernel='linear')\n",
    "\n",
    "# Instantiate the grid search model\n",
    "svm_grid_search2 = GridSearchCV(estimator = svm_l, param_grid = param_grid,\n",
    "                           cv = 5, n_jobs = -1, verbose = 2)\n",
    "\n",
    "# Fit the grid search model\n",
    "svm_grid_search2.fit(X_train, y_train)\n",
    "\n",
    "svm_grid_search2.best_params_\n"
   ]
  },
  {
   "cell_type": "code",
   "execution_count": 18,
   "metadata": {},
   "outputs": [
    {
     "name": "stdout",
     "output_type": "stream",
     "text": [
      "Fitting 5 folds for each of 9 candidates, totalling 45 fits\n"
     ]
    },
    {
     "name": "stderr",
     "output_type": "stream",
     "text": [
      "[Parallel(n_jobs=-1)]: Done  33 tasks      | elapsed:   23.7s\n",
      "[Parallel(n_jobs=-1)]: Done  45 out of  45 | elapsed:   29.6s finished\n"
     ]
    },
    {
     "data": {
      "text/plain": [
       "{'C': 0.1}"
      ]
     },
     "execution_count": 18,
     "metadata": {},
     "output_type": "execute_result"
    }
   ],
   "source": [
    "#Model 3\n",
    "from sklearn.model_selection import GridSearchCV\n",
    "from sklearn import svm\n",
    "\n",
    "# Create the parameter grid\n",
    "param_grid = {'C': [0.1,0.2, 0.3,0.4, 0.5, 0.6, 0.7, 0.8, 0.9] }\n",
    "\n",
    "svm_l = svm.SVC(kernel='linear')\n",
    "\n",
    "# Instantiate the grid search model\n",
    "svm_grid_search3 = GridSearchCV(estimator = svm_l, param_grid = param_grid,\n",
    "                           cv = 5, n_jobs = -1, verbose = 2)\n",
    "\n",
    "# Fit the grid search model\n",
    "svm_grid_search3.fit(X_train, y_train)\n",
    "\n",
    "svm_grid_search3.best_params_\n"
   ]
  },
  {
   "cell_type": "code",
   "execution_count": 19,
   "metadata": {},
   "outputs": [
    {
     "name": "stdout",
     "output_type": "stream",
     "text": [
      "Fitting 5 folds for each of 10 candidates, totalling 50 fits\n"
     ]
    },
    {
     "name": "stderr",
     "output_type": "stream",
     "text": [
      "[Parallel(n_jobs=-1)]: Done  33 tasks      | elapsed:   32.1s\n",
      "[Parallel(n_jobs=-1)]: Done  50 out of  50 | elapsed:   48.1s finished\n"
     ]
    },
    {
     "data": {
      "text/plain": [
       "{'C': 2}"
      ]
     },
     "execution_count": 19,
     "metadata": {},
     "output_type": "execute_result"
    }
   ],
   "source": [
    "#Model 4\n",
    "from sklearn.model_selection import GridSearchCV\n",
    "from sklearn import svm\n",
    "\n",
    "# Create the parameter grid\n",
    "param_grid = {'C': range(1,11) }\n",
    "\n",
    "svm_l = svm.SVC(kernel='linear')\n",
    "\n",
    "# Instantiate the grid search model\n",
    "svm_grid_search4 = GridSearchCV(estimator = svm_l, param_grid = param_grid,\n",
    "                           cv = 5, n_jobs = -1, verbose = 2)\n",
    "\n",
    "# Fit the grid search model\n",
    "svm_grid_search4.fit(X_train, y_train)\n",
    "\n",
    "svm_grid_search4.best_params_\n"
   ]
  },
  {
   "cell_type": "code",
   "execution_count": 20,
   "metadata": {},
   "outputs": [
    {
     "name": "stdout",
     "output_type": "stream",
     "text": [
      "Fitting 5 folds for each of 11 candidates, totalling 55 fits\n"
     ]
    },
    {
     "name": "stderr",
     "output_type": "stream",
     "text": [
      "[Parallel(n_jobs=-1)]: Done  33 tasks      | elapsed:   52.9s\n",
      "[Parallel(n_jobs=-1)]: Done  55 out of  55 | elapsed:  1.5min finished\n"
     ]
    },
    {
     "data": {
      "text/plain": [
       "{'C': 22}"
      ]
     },
     "execution_count": 20,
     "metadata": {},
     "output_type": "execute_result"
    }
   ],
   "source": [
    "#Model 5\n",
    "from sklearn.model_selection import GridSearchCV\n",
    "from sklearn import svm\n",
    "\n",
    "# Create the parameter grid\n",
    "param_grid = {'C': range(20,31) }\n",
    "\n",
    "svm_l = svm.SVC(kernel='linear')\n",
    "\n",
    "# Instantiate the grid search model\n",
    "svm_grid_search5 = GridSearchCV(estimator = svm_l, param_grid = param_grid,\n",
    "                           cv = 5, n_jobs = -1, verbose = 2)\n",
    "\n",
    "# Fit the grid search model\n",
    "svm_grid_search5.fit(X_train, y_train)\n",
    "\n",
    "svm_grid_search5.best_params_\n"
   ]
  },
  {
   "cell_type": "code",
   "execution_count": 21,
   "metadata": {},
   "outputs": [
    {
     "name": "stdout",
     "output_type": "stream",
     "text": [
      "Fitting 5 folds for each of 11 candidates, totalling 55 fits\n"
     ]
    },
    {
     "name": "stderr",
     "output_type": "stream",
     "text": [
      "[Parallel(n_jobs=-1)]: Done  33 tasks      | elapsed:  1.5min\n",
      "[Parallel(n_jobs=-1)]: Done  55 out of  55 | elapsed:  2.4min finished\n"
     ]
    },
    {
     "data": {
      "text/plain": [
       "{'C': 50}"
      ]
     },
     "execution_count": 21,
     "metadata": {},
     "output_type": "execute_result"
    }
   ],
   "source": [
    "#Model 6\n",
    "from sklearn.model_selection import GridSearchCV\n",
    "from sklearn import svm\n",
    "\n",
    "# Create the parameter grid\n",
    "param_grid = {'C': range(50,61) }\n",
    "\n",
    "svm_l = svm.SVC(kernel='linear')\n",
    "\n",
    "# Instantiate the grid search model\n",
    "svm_grid_search6 = GridSearchCV(estimator = svm_l, param_grid = param_grid,\n",
    "                           cv = 5, n_jobs = -1, verbose = 2)\n",
    "\n",
    "# Fit the grid search model\n",
    "svm_grid_search6.fit(X_train, y_train)\n",
    "\n",
    "svm_grid_search6.best_params_\n"
   ]
  },
  {
   "cell_type": "code",
   "execution_count": 22,
   "metadata": {
    "scrolled": false
   },
   "outputs": [
    {
     "name": "stdout",
     "output_type": "stream",
     "text": [
      "#####################################################################\n",
      "Linear kernel for C:  0.006\n",
      "#####################################################################\n",
      "\n",
      "Test accuracy:  80.2369668246\n",
      "Precision:  0.632318501171\n",
      "Recall:  0.509433962264\n",
      "\n",
      "Confusion matrix\n",
      "[[1423  157]\n",
      " [ 260  270]]\n",
      "\n",
      "\n",
      "             precision    recall  f1-score   support\n",
      "\n",
      "          0       0.85      0.90      0.87      1580\n",
      "          1       0.63      0.51      0.56       530\n",
      "\n",
      "avg / total       0.79      0.80      0.79      2110\n",
      "\n",
      "#####################################################################\n",
      "Linear kernel for C:  0.03\n",
      "#####################################################################\n",
      "\n",
      "Test accuracy:  80.4265402844\n",
      "Precision:  0.630872483221\n",
      "Recall:  0.532075471698\n",
      "\n",
      "Confusion matrix\n",
      "[[1415  165]\n",
      " [ 248  282]]\n",
      "\n",
      "\n",
      "             precision    recall  f1-score   support\n",
      "\n",
      "          0       0.85      0.90      0.87      1580\n",
      "          1       0.63      0.53      0.58       530\n",
      "\n",
      "avg / total       0.80      0.80      0.80      2110\n",
      "\n",
      "#####################################################################\n",
      "Linear kernel for C:  0.1\n",
      "#####################################################################\n",
      "\n",
      "Test accuracy:  80.2369668246\n",
      "Precision:  0.627539503386\n",
      "Recall:  0.524528301887\n",
      "\n",
      "Confusion matrix\n",
      "[[1415  165]\n",
      " [ 252  278]]\n",
      "\n",
      "\n",
      "             precision    recall  f1-score   support\n",
      "\n",
      "          0       0.85      0.90      0.87      1580\n",
      "          1       0.63      0.52      0.57       530\n",
      "\n",
      "avg / total       0.79      0.80      0.80      2110\n",
      "\n",
      "#####################################################################\n",
      "Linear kernel for C:  2\n",
      "#####################################################################\n",
      "\n",
      "Test accuracy:  80.0947867299\n",
      "Precision:  0.625570776256\n",
      "Recall:  0.516981132075\n",
      "\n",
      "Confusion matrix\n",
      "[[1416  164]\n",
      " [ 256  274]]\n",
      "\n",
      "\n",
      "             precision    recall  f1-score   support\n",
      "\n",
      "          0       0.85      0.90      0.87      1580\n",
      "          1       0.63      0.52      0.57       530\n",
      "\n",
      "avg / total       0.79      0.80      0.79      2110\n",
      "\n",
      "#####################################################################\n",
      "Linear kernel for C:  22\n",
      "#####################################################################\n",
      "\n",
      "Test accuracy:  80.0947867299\n",
      "Precision:  0.62443438914\n",
      "Recall:  0.520754716981\n",
      "\n",
      "Confusion matrix\n",
      "[[1414  166]\n",
      " [ 254  276]]\n",
      "\n",
      "\n",
      "             precision    recall  f1-score   support\n",
      "\n",
      "          0       0.85      0.89      0.87      1580\n",
      "          1       0.62      0.52      0.57       530\n",
      "\n",
      "avg / total       0.79      0.80      0.79      2110\n",
      "\n",
      "#####################################################################\n",
      "Linear kernel for C:  50\n",
      "#####################################################################\n",
      "\n",
      "Test accuracy:  80.0947867299\n",
      "Precision:  0.62443438914\n",
      "Recall:  0.520754716981\n",
      "\n",
      "Confusion matrix\n",
      "[[1414  166]\n",
      " [ 254  276]]\n",
      "\n",
      "\n",
      "             precision    recall  f1-score   support\n",
      "\n",
      "          0       0.85      0.89      0.87      1580\n",
      "          1       0.62      0.52      0.57       530\n",
      "\n",
      "avg / total       0.79      0.80      0.79      2110\n",
      "\n"
     ]
    }
   ],
   "source": [
    "from sklearn import metrics\n",
    "\n",
    "def evaluate(model, X_test, y_test):\n",
    "    print \"#####################################################################\"\n",
    "    print \"Linear kernel for C: \", model.C\n",
    "    print \"#####################################################################\"\n",
    "    predictions = model.predict(X_test)\n",
    "    m_a = metrics.accuracy_score(y_test, predictions) # Test accuracy\n",
    "    m_p = precision_score(y_test, predictions)\n",
    "    m_r = recall_score(y_test, predictions)\n",
    "    report = classification_report(y_test, predictions)\n",
    "    print \"\\nTest accuracy: \", m_a*100\n",
    "    print \"Precision: \", m_p\n",
    "    print \"Recall: \", m_r\n",
    "    print \"\\nConfusion matrix\"\n",
    "    print(confusion_matrix(y_test,predictions))  \n",
    "    print \"\\n\"\n",
    "    print(report)\n",
    "    return m_a\n",
    "\n",
    "best_svm_l1 = svm_grid_search1.best_estimator_\n",
    "svm_linear_acc = evaluate(best_svm_l1, X_test, y_test)\n",
    "\n",
    "best_svm_l2 = svm_grid_search2.best_estimator_\n",
    "svm_linear_acc2 = evaluate(best_svm_l2, X_test, y_test)\n",
    "\n",
    "best_svm_l3 = svm_grid_search3.best_estimator_\n",
    "svm_linear_acc3 = evaluate(best_svm_l3, X_test, y_test)\n",
    "\n",
    "best_svm_l4 = svm_grid_search4.best_estimator_\n",
    "svm_linear_acc4 = evaluate(best_svm_l4, X_test, y_test)\n",
    "\n",
    "best_svm_l5 = svm_grid_search5.best_estimator_\n",
    "svm_linear_acc5 = evaluate(best_svm_l5, X_test, y_test)\n",
    "\n",
    "best_svm_l6 = svm_grid_search6.best_estimator_\n",
    "svm_linear_acc6 = evaluate(best_svm_l6, X_test, y_test)\n"
   ]
  },
  {
   "cell_type": "code",
   "execution_count": 94,
   "metadata": {},
   "outputs": [
    {
     "data": {
      "image/png": "[encoded data removed]",
      "text/plain": [
       "<matplotlib.figure.Figure at 0xbd61cc0>"
      ]
     },
     "metadata": {},
     "output_type": "display_data"
    }
   ],
   "source": [
    "# libraries\n",
    "import numpy as np\n",
    "import matplotlib.pyplot as plt\n",
    "from matplotlib import pylab\n",
    "\n",
    "# set width of bar\n",
    "barWidth = 0.12\n",
    "\n",
    "# set height of bar\n",
    "C_006 =[0.80, 0.79, 0.80]\n",
    "C_03 = [0.8, 0.8,0.8]\n",
    "C_p1 = [0.80, 0.79, 0.80]\n",
    "C_2 = [0.80, 0.79, 0.80]\n",
    "C_22 = [0.80, 0.79, 0.80]\n",
    "C_50 = [0.80, 0.79, 0.80]\n",
    "\n",
    "\n",
    "# Set position of bar on X axis\n",
    "r1 = np.arange(3)\n",
    "r2 = [x + barWidth for x in r1]\n",
    "r3 = [x + barWidth for x in r2]\n",
    "r4 = [x + barWidth for x in r3]\n",
    "r5 = [x + barWidth for x in r4]\n",
    "r6 = [x + barWidth for x in r5]\n",
    "\n",
    "\n",
    "# Make the plot\n",
    "plt.figure(figsize=(10,4))\n",
    "plt.bar(r1, C_006, color='#00FF7F', width=barWidth, edgecolor='white', label='C = 0.006')\n",
    "plt.bar(r2, C_03, color='#9ACD32', width=barWidth, edgecolor='white', label='C = 0.03')\n",
    "plt.bar(r3, C_p1, color='#90EE90', width=barWidth, edgecolor='white', label='C = 0.1')\n",
    "plt.bar(r4, C_2, color='#3CB371', width=barWidth, edgecolor='white', label='C = 2')\n",
    "plt.bar(r5, C_22, color='#00FF00', width=barWidth, edgecolor='white', label='C = 22')\n",
    "plt.bar(r6, C_50, color='#008000', width=barWidth, edgecolor='white', label='C = 50')\n",
    " \n",
    "# Add xticks on the middle of the group bars\n",
    "plt.xlabel('Linear Kernel by varying C', fontweight='bold')\n",
    "plt.xticks([r + barWidth for r in range(len(C_006))], ['Accuracy', 'Precision', 'Recall'])\n",
    " \n",
    "# Create legend & Show graphic\n",
    "pylab.legend(loc= 0, bbox_to_anchor=(0.5, -0.2))\n",
    "plt.show()\n"
   ]
  },
  {
   "cell_type": "markdown",
   "metadata": {},
   "source": [
    "### Case 2: Poly kernel"
   ]
  },
  {
   "cell_type": "code",
   "execution_count": 23,
   "metadata": {},
   "outputs": [
    {
     "name": "stdout",
     "output_type": "stream",
     "text": [
      "Fitting 5 folds for each of 9 candidates, totalling 45 fits\n"
     ]
    },
    {
     "name": "stderr",
     "output_type": "stream",
     "text": [
      "[Parallel(n_jobs=-1)]: Done  33 tasks      | elapsed:   26.0s\n",
      "[Parallel(n_jobs=-1)]: Done  45 out of  45 | elapsed:   32.2s finished\n"
     ]
    },
    {
     "data": {
      "text/plain": [
       "{'C': 0.001}"
      ]
     },
     "execution_count": 23,
     "metadata": {},
     "output_type": "execute_result"
    }
   ],
   "source": [
    "#Model 1\n",
    "from sklearn.model_selection import GridSearchCV\n",
    "from sklearn import svm\n",
    "\n",
    "# Create the parameter grid\n",
    "param_grid = {'C': [0.001,0.002, 0.003,0.004, 0.005, 0.006, 0.007, 0.008, 0.009] }\n",
    "\n",
    "svm_p = svm.SVC(kernel='poly')\n",
    "\n",
    "# Instantiate the grid search model\n",
    "svm_grid_search_p1 = GridSearchCV(estimator = svm_p, param_grid = param_grid,\n",
    "                           cv = 5, n_jobs = -1, verbose = 2)\n",
    "\n",
    "# Fit the grid search model\n",
    "svm_grid_search_p1.fit(X_train, y_train)\n",
    "\n",
    "svm_grid_search_p1.best_params_"
   ]
  },
  {
   "cell_type": "code",
   "execution_count": 24,
   "metadata": {},
   "outputs": [
    {
     "name": "stdout",
     "output_type": "stream",
     "text": [
      "Fitting 5 folds for each of 9 candidates, totalling 45 fits\n"
     ]
    },
    {
     "name": "stderr",
     "output_type": "stream",
     "text": [
      "[Parallel(n_jobs=-1)]: Done  33 tasks      | elapsed:   24.7s\n",
      "[Parallel(n_jobs=-1)]: Done  45 out of  45 | elapsed:   30.6s finished\n"
     ]
    },
    {
     "data": {
      "text/plain": [
       "{'C': 0.01}"
      ]
     },
     "execution_count": 24,
     "metadata": {},
     "output_type": "execute_result"
    }
   ],
   "source": [
    "#Model 2\n",
    "from sklearn.model_selection import GridSearchCV\n",
    "from sklearn import svm\n",
    "\n",
    "# Create the parameter grid\n",
    "param_grid = {'C': [0.01,0.02, 0.03,0.04, 0.05, 0.06, 0.07, 0.08, 0.09] }\n",
    "\n",
    "svm_p = svm.SVC(kernel='poly')\n",
    "\n",
    "# Instantiate the grid search model\n",
    "svm_grid_search_p2 = GridSearchCV(estimator = svm_p, param_grid = param_grid,\n",
    "                           cv = 5, n_jobs = -1, verbose = 2)\n",
    "\n",
    "# Fit the grid search model\n",
    "svm_grid_search_p2.fit(X_train, y_train)\n",
    "\n",
    "svm_grid_search_p2.best_params_"
   ]
  },
  {
   "cell_type": "code",
   "execution_count": 25,
   "metadata": {},
   "outputs": [
    {
     "name": "stdout",
     "output_type": "stream",
     "text": [
      "Fitting 5 folds for each of 9 candidates, totalling 45 fits\n"
     ]
    },
    {
     "name": "stderr",
     "output_type": "stream",
     "text": [
      "[Parallel(n_jobs=-1)]: Done  33 tasks      | elapsed:   26.3s\n",
      "[Parallel(n_jobs=-1)]: Done  45 out of  45 | elapsed:   32.3s finished\n"
     ]
    },
    {
     "data": {
      "text/plain": [
       "{'C': 0.9}"
      ]
     },
     "execution_count": 25,
     "metadata": {},
     "output_type": "execute_result"
    }
   ],
   "source": [
    "#Model 3\n",
    "from sklearn.model_selection import GridSearchCV\n",
    "from sklearn import svm\n",
    "\n",
    "# Create the parameter grid\n",
    "param_grid = {'C': [0.1,0.2, 0.3,0.4, 0.5, 0.6, 0.7, 0.8, 0.9] }\n",
    "\n",
    "svm_p = svm.SVC(kernel='poly')\n",
    "\n",
    "# Instantiate the grid search model\n",
    "svm_grid_search_p3 = GridSearchCV(estimator = svm_p, param_grid = param_grid,\n",
    "                           cv = 5, n_jobs = -1, verbose = 2)\n",
    "\n",
    "# Fit the grid search model\n",
    "svm_grid_search_p3.fit(X_train, y_train)\n",
    "\n",
    "svm_grid_search_p3.best_params_"
   ]
  },
  {
   "cell_type": "code",
   "execution_count": 26,
   "metadata": {},
   "outputs": [
    {
     "name": "stdout",
     "output_type": "stream",
     "text": [
      "Fitting 5 folds for each of 10 candidates, totalling 50 fits\n"
     ]
    },
    {
     "name": "stderr",
     "output_type": "stream",
     "text": [
      "[Parallel(n_jobs=-1)]: Done  33 tasks      | elapsed:   23.3s\n",
      "[Parallel(n_jobs=-1)]: Done  50 out of  50 | elapsed:   31.9s finished\n"
     ]
    },
    {
     "data": {
      "text/plain": [
       "{'C': 6}"
      ]
     },
     "execution_count": 26,
     "metadata": {},
     "output_type": "execute_result"
    }
   ],
   "source": [
    "#Model 4\n",
    "from sklearn.model_selection import GridSearchCV\n",
    "from sklearn import svm\n",
    "\n",
    "# Create the parameter grid\n",
    "param_grid = {'C': range(1,11) }\n",
    "\n",
    "svm_p = svm.SVC(kernel='poly')\n",
    "\n",
    "# Instantiate the grid search model\n",
    "svm_grid_search_p4 = GridSearchCV(estimator = svm_p, param_grid = param_grid,\n",
    "                           cv = 5, n_jobs = -1, verbose = 2)\n",
    "\n",
    "# Fit the grid search model\n",
    "svm_grid_search_p4.fit(X_train, y_train)\n",
    "\n",
    "svm_grid_search_p4.best_params_"
   ]
  },
  {
   "cell_type": "code",
   "execution_count": 27,
   "metadata": {},
   "outputs": [
    {
     "name": "stdout",
     "output_type": "stream",
     "text": [
      "Fitting 5 folds for each of 11 candidates, totalling 55 fits\n"
     ]
    },
    {
     "name": "stderr",
     "output_type": "stream",
     "text": [
      "[Parallel(n_jobs=-1)]: Done  33 tasks      | elapsed:   23.6s\n",
      "[Parallel(n_jobs=-1)]: Done  55 out of  55 | elapsed:   34.4s finished\n"
     ]
    },
    {
     "data": {
      "text/plain": [
       "{'C': 27}"
      ]
     },
     "execution_count": 27,
     "metadata": {},
     "output_type": "execute_result"
    }
   ],
   "source": [
    "#Model 5\n",
    "from sklearn.model_selection import GridSearchCV\n",
    "from sklearn import svm\n",
    "\n",
    "# Create the parameter grid\n",
    "param_grid = {'C': range(20,31) }\n",
    "\n",
    "svm_p = svm.SVC(kernel='poly')\n",
    "\n",
    "# Instantiate the grid search model\n",
    "svm_grid_search_p5 = GridSearchCV(estimator = svm_p, param_grid = param_grid,\n",
    "                           cv = 5, n_jobs = -1, verbose = 2)\n",
    "\n",
    "# Fit the grid search model\n",
    "svm_grid_search_p5.fit(X_train, y_train)\n",
    "\n",
    "svm_grid_search_p5.best_params_"
   ]
  },
  {
   "cell_type": "code",
   "execution_count": 28,
   "metadata": {},
   "outputs": [
    {
     "name": "stdout",
     "output_type": "stream",
     "text": [
      "Fitting 5 folds for each of 11 candidates, totalling 55 fits\n"
     ]
    },
    {
     "name": "stderr",
     "output_type": "stream",
     "text": [
      "[Parallel(n_jobs=-1)]: Done  33 tasks      | elapsed:   22.8s\n",
      "[Parallel(n_jobs=-1)]: Done  55 out of  55 | elapsed:   34.3s finished\n"
     ]
    },
    {
     "data": {
      "text/plain": [
       "{'C': 59}"
      ]
     },
     "execution_count": 28,
     "metadata": {},
     "output_type": "execute_result"
    }
   ],
   "source": [
    "#Model 6\n",
    "from sklearn.model_selection import GridSearchCV\n",
    "from sklearn import svm\n",
    "\n",
    "# Create the parameter grid\n",
    "param_grid = {'C': range(50,61) }\n",
    "\n",
    "svm_p = svm.SVC(kernel='poly')\n",
    "\n",
    "# Instantiate the grid search model\n",
    "svm_grid_search_p6 = GridSearchCV(estimator = svm_p, param_grid = param_grid,\n",
    "                           cv = 5, n_jobs = -1, verbose = 2)\n",
    "\n",
    "# Fit the grid search model\n",
    "svm_grid_search_p6.fit(X_train, y_train)\n",
    "\n",
    "svm_grid_search_p6.best_params_"
   ]
  },
  {
   "cell_type": "code",
   "execution_count": 29,
   "metadata": {
    "scrolled": false
   },
   "outputs": [
    {
     "name": "stdout",
     "output_type": "stream",
     "text": [
      "#####################################################################\n",
      "Poly kernel for C:  0.001\n",
      "#####################################################################\n"
     ]
    },
    {
     "name": "stderr",
     "output_type": "stream",
     "text": [
      "C:\\Users\\User\\Anaconda2\\lib\\site-packages\\sklearn\\metrics\\classification.py:1135: UndefinedMetricWarning: Precision is ill-defined and being set to 0.0 due to no predicted samples.\n",
      "  'precision', 'predicted', average, warn_for)\n",
      "C:\\Users\\User\\Anaconda2\\lib\\site-packages\\sklearn\\metrics\\classification.py:1135: UndefinedMetricWarning: Precision and F-score are ill-defined and being set to 0.0 in labels with no predicted samples.\n",
      "  'precision', 'predicted', average, warn_for)\n"
     ]
    },
    {
     "name": "stdout",
     "output_type": "stream",
     "text": [
      "\n",
      "Test accuracy:  74.8815165877\n",
      "Precision:  0.0\n",
      "Recall:  0.0\n",
      "\n",
      "Confusion matrix\n",
      "[[1580    0]\n",
      " [ 530    0]]\n",
      "\n",
      "\n",
      "             precision    recall  f1-score   support\n",
      "\n",
      "          0       0.75      1.00      0.86      1580\n",
      "          1       0.00      0.00      0.00       530\n",
      "\n",
      "avg / total       0.56      0.75      0.64      2110\n",
      "\n",
      "#####################################################################\n",
      "Poly kernel for C:  0.01\n",
      "#####################################################################\n",
      "\n",
      "Test accuracy:  74.8815165877\n",
      "Precision:  0.0\n",
      "Recall:  0.0\n",
      "\n",
      "Confusion matrix\n",
      "[[1580    0]\n",
      " [ 530    0]]\n",
      "\n",
      "\n",
      "             precision    recall  f1-score   support\n",
      "\n",
      "          0       0.75      1.00      0.86      1580\n",
      "          1       0.00      0.00      0.00       530\n",
      "\n",
      "avg / total       0.56      0.75      0.64      2110\n",
      "\n",
      "#####################################################################\n",
      "Poly kernel for C:  0.9\n",
      "#####################################################################\n",
      "\n",
      "Test accuracy:  79.6208530806\n",
      "Precision:  0.662337662338\n",
      "Recall:  0.384905660377\n",
      "\n",
      "Confusion matrix\n",
      "[[1476  104]\n",
      " [ 326  204]]\n",
      "\n",
      "\n",
      "             precision    recall  f1-score   support\n",
      "\n",
      "          0       0.82      0.93      0.87      1580\n",
      "          1       0.66      0.38      0.49       530\n",
      "\n",
      "avg / total       0.78      0.80      0.78      2110\n",
      "\n",
      "#####################################################################\n",
      "Poly kernel for C:  6\n",
      "#####################################################################\n",
      "\n",
      "Test accuracy:  80.2369668246\n",
      "Precision:  0.648293963255\n",
      "Recall:  0.466037735849\n",
      "\n",
      "Confusion matrix\n",
      "[[1446  134]\n",
      " [ 283  247]]\n",
      "\n",
      "\n",
      "             precision    recall  f1-score   support\n",
      "\n",
      "          0       0.84      0.92      0.87      1580\n",
      "          1       0.65      0.47      0.54       530\n",
      "\n",
      "avg / total       0.79      0.80      0.79      2110\n",
      "\n",
      "#####################################################################\n",
      "Poly kernel for C:  27\n",
      "#####################################################################\n",
      "\n",
      "Test accuracy:  80.7582938389\n",
      "Precision:  0.649758454106\n",
      "Recall:  0.507547169811\n",
      "\n",
      "Confusion matrix\n",
      "[[1435  145]\n",
      " [ 261  269]]\n",
      "\n",
      "\n",
      "             precision    recall  f1-score   support\n",
      "\n",
      "          0       0.85      0.91      0.88      1580\n",
      "          1       0.65      0.51      0.57       530\n",
      "\n",
      "avg / total       0.80      0.81      0.80      2110\n",
      "\n",
      "#####################################################################\n",
      "Poly kernel for C:  59\n",
      "#####################################################################\n",
      "\n",
      "Test accuracy:  79.9526066351\n",
      "Precision:  0.624129930394\n",
      "Recall:  0.507547169811\n",
      "\n",
      "Confusion matrix\n",
      "[[1418  162]\n",
      " [ 261  269]]\n",
      "\n",
      "\n",
      "             precision    recall  f1-score   support\n",
      "\n",
      "          0       0.84      0.90      0.87      1580\n",
      "          1       0.62      0.51      0.56       530\n",
      "\n",
      "avg / total       0.79      0.80      0.79      2110\n",
      "\n"
     ]
    }
   ],
   "source": [
    "from sklearn import metrics\n",
    "\n",
    "def evaluate(model, X_test, y_test):\n",
    "    print \"#####################################################################\"\n",
    "    print \"Poly kernel for C: \", model.C\n",
    "    print \"#####################################################################\"\n",
    "    predictions = model.predict(X_test)\n",
    "    m_a = metrics.accuracy_score(y_test, predictions) # Test accuracy\n",
    "    m_p = precision_score(y_test, predictions)\n",
    "    m_r = recall_score(y_test, predictions)\n",
    "    report = classification_report(y_test, predictions)\n",
    "    print \"\\nTest accuracy: \", m_a*100\n",
    "    print \"Precision: \", m_p\n",
    "    print \"Recall: \", m_r\n",
    "    print \"\\nConfusion matrix\"\n",
    "    print(confusion_matrix(y_test,predictions))  \n",
    "    print \"\\n\"\n",
    "    print(report)\n",
    "    return m_a\n",
    "\n",
    "best_svm_poly_1 = svm_grid_search_p1.best_estimator_\n",
    "svm_poly_1_acc= evaluate(best_svm_poly_1, X_test, y_test)\n",
    "\n",
    "best_svm_poly_2 = svm_grid_search_p2.best_estimator_\n",
    "svm_poly_2_acc= evaluate(best_svm_poly_2, X_test, y_test)\n",
    "\n",
    "best_svm_poly_3 = svm_grid_search_p3.best_estimator_\n",
    "svm_poly_3_acc= evaluate(best_svm_poly_3, X_test, y_test)\n",
    "\n",
    "best_svm_poly_4 = svm_grid_search_p4.best_estimator_\n",
    "svm_poly_4_acc= evaluate(best_svm_poly_4, X_test, y_test)\n",
    "\n",
    "best_svm_poly_5 = svm_grid_search_p5.best_estimator_\n",
    "svm_poly_5_acc= evaluate(best_svm_poly_5, X_test, y_test)\n",
    "\n",
    "best_svm_poly_6 = svm_grid_search_p6.best_estimator_\n",
    "svm_poly_6_acc= evaluate(best_svm_poly_6, X_test, y_test)\n"
   ]
  },
  {
   "cell_type": "code",
   "execution_count": 122,
   "metadata": {},
   "outputs": [
    {
     "data": {
      "image/png": "[encoded data removed]",
      "text/plain": [
       "<matplotlib.figure.Figure at 0xcffca58>"
      ]
     },
     "metadata": {},
     "output_type": "display_data"
    }
   ],
   "source": [
    "# libraries\n",
    "import numpy as np\n",
    "import matplotlib.pyplot as plt\n",
    "from matplotlib import pylab\n",
    "\n",
    "# set width of bar\n",
    "barWidth = 0.12\n",
    "\n",
    "# set height of bar\n",
    "C_001 =[0.75, 0.56, 0.75]\n",
    "C_01 = [0.75, 0.56,0.75]\n",
    "C_p9 = [0.80, 0.78, 0.80]\n",
    "C_6 = [0.80, 0.79, 0.80]\n",
    "C_27 = [0.81, 0.8, 0.81]\n",
    "C_59 = [0.80, 0.79, 0.80]\n",
    "\n",
    "\n",
    "# Set position of bar on X axis\n",
    "r1 = np.arange(3)\n",
    "r2 = [x + barWidth for x in r1]\n",
    "r3 = [x + barWidth for x in r2]\n",
    "r4 = [x + barWidth for x in r3]\n",
    "r5 = [x + barWidth for x in r4]\n",
    "r6 = [x + barWidth for x in r5]\n",
    "\n",
    "\n",
    "# Make the plot\n",
    "plt.figure(figsize=(10,4))\n",
    "plt.bar(r1, C_001, color='#DDA0DD', width=barWidth, edgecolor='white', label='C = 0.001')\n",
    "plt.bar(r2, C_01, color='#EE82EE', width=barWidth, edgecolor='white', label='C = 0.01')\n",
    "plt.bar(r3, C_p9, color='#DA70D6', width=barWidth, edgecolor='white', label='C = 0.9')\n",
    "plt.bar(r4, C_6, color='#FF00FF', width=barWidth, edgecolor='white', label='C = 6')\n",
    "plt.bar(r5, C_27, color='#BA55D3', width=barWidth, edgecolor='white', label='C = 27')\n",
    "plt.bar(r6, C_59, color='#D8BFD8', width=barWidth, edgecolor='white', label='C = 59')\n",
    " \n",
    "# Add xticks on the middle of the group bars\n",
    "plt.xlabel('Poly Kernel by varying C', fontweight='bold')\n",
    "plt.xticks([r + barWidth for r in range(len(C_001))], ['Accuracy', 'Precision', 'Recall'])\n",
    " \n",
    "# Create legend & Show graphic\n",
    "pylab.legend(loc= 0, bbox_to_anchor=(0.5, -0.2))\n",
    "plt.show()\n"
   ]
  },
  {
   "cell_type": "markdown",
   "metadata": {
    "collapsed": true
   },
   "source": [
    "### Case 3: RBF Kernel"
   ]
  },
  {
   "cell_type": "code",
   "execution_count": 96,
   "metadata": {},
   "outputs": [
    {
     "name": "stdout",
     "output_type": "stream",
     "text": [
      "Fitting 5 folds for each of 9 candidates, totalling 45 fits\n"
     ]
    },
    {
     "name": "stderr",
     "output_type": "stream",
     "text": [
      "[Parallel(n_jobs=-1)]: Done  33 tasks      | elapsed:   32.3s\n",
      "[Parallel(n_jobs=-1)]: Done  45 out of  45 | elapsed:   40.6s finished\n"
     ]
    },
    {
     "data": {
      "text/plain": [
       "{'C': 0.001}"
      ]
     },
     "execution_count": 96,
     "metadata": {},
     "output_type": "execute_result"
    }
   ],
   "source": [
    "#Model 1\n",
    "from sklearn.model_selection import GridSearchCV\n",
    "from sklearn import svm\n",
    "\n",
    "# Create the parameter grid\n",
    "param_grid = { 'C': [0.001,0.002, 0.003,0.004, 0.005, 0.006, 0.007, 0.008, 0.009]}\n",
    "\n",
    "svm_rbf = svm.SVC(kernel='rbf')\n",
    "\n",
    "# Instantiate the grid search model\n",
    "svm_grid_search_rbf1 = GridSearchCV(estimator = svm_rbf, param_grid = param_grid,\n",
    "                           cv = 5, n_jobs = -1, verbose = 2)\n",
    "\n",
    "# Fit the grid search model\n",
    "svm_grid_search_rbf1.fit(X_train, y_train)\n",
    "\n",
    "svm_grid_search_rbf1.best_params_"
   ]
  },
  {
   "cell_type": "code",
   "execution_count": 97,
   "metadata": {},
   "outputs": [
    {
     "name": "stdout",
     "output_type": "stream",
     "text": [
      "Fitting 5 folds for each of 9 candidates, totalling 45 fits\n"
     ]
    },
    {
     "name": "stderr",
     "output_type": "stream",
     "text": [
      "[Parallel(n_jobs=-1)]: Done  33 tasks      | elapsed:   34.6s\n",
      "[Parallel(n_jobs=-1)]: Done  45 out of  45 | elapsed:   42.8s finished\n"
     ]
    },
    {
     "data": {
      "text/plain": [
       "{'C': 0.09}"
      ]
     },
     "execution_count": 97,
     "metadata": {},
     "output_type": "execute_result"
    }
   ],
   "source": [
    "#Model 2\n",
    "from sklearn.model_selection import GridSearchCV\n",
    "from sklearn import svm\n",
    "\n",
    "# Create the parameter grid\n",
    "param_grid = { 'C': [0.01,0.02, 0.03,0.04, 0.05, 0.06, 0.07, 0.08, 0.09]}\n",
    "\n",
    "svm_rbf = svm.SVC(kernel='rbf')\n",
    "\n",
    "# Instantiate the grid search model\n",
    "svm_grid_search_rbf2 = GridSearchCV(estimator = svm_rbf, param_grid = param_grid,\n",
    "                           cv = 5, n_jobs = -1, verbose = 2)\n",
    "\n",
    "# Fit the grid search model\n",
    "svm_grid_search_rbf2.fit(X_train, y_train)\n",
    "\n",
    "svm_grid_search_rbf2.best_params_"
   ]
  },
  {
   "cell_type": "code",
   "execution_count": 98,
   "metadata": {},
   "outputs": [
    {
     "name": "stdout",
     "output_type": "stream",
     "text": [
      "Fitting 5 folds for each of 9 candidates, totalling 45 fits\n"
     ]
    },
    {
     "name": "stderr",
     "output_type": "stream",
     "text": [
      "[Parallel(n_jobs=-1)]: Done  33 tasks      | elapsed:   31.3s\n",
      "[Parallel(n_jobs=-1)]: Done  45 out of  45 | elapsed:   38.8s finished\n"
     ]
    },
    {
     "data": {
      "text/plain": [
       "{'C': 0.9}"
      ]
     },
     "execution_count": 98,
     "metadata": {},
     "output_type": "execute_result"
    }
   ],
   "source": [
    "#Model 3\n",
    "from sklearn.model_selection import GridSearchCV\n",
    "from sklearn import svm\n",
    "\n",
    "# Create the parameter grid\n",
    "param_grid = { 'C': [0.1,0.2, 0.3,0.4, 0.5, 0.6, 0.7, 0.8, 0.9]}\n",
    "\n",
    "svm_rbf = svm.SVC(kernel='rbf')\n",
    "\n",
    "# Instantiate the grid search model\n",
    "svm_grid_search_rbf3 = GridSearchCV(estimator = svm_rbf, param_grid = param_grid,\n",
    "                           cv = 5, n_jobs = -1, verbose = 2)\n",
    "\n",
    "# Fit the grid search model\n",
    "svm_grid_search_rbf3.fit(X_train, y_train)\n",
    "\n",
    "svm_grid_search_rbf3.best_params_"
   ]
  },
  {
   "cell_type": "code",
   "execution_count": 99,
   "metadata": {},
   "outputs": [
    {
     "name": "stdout",
     "output_type": "stream",
     "text": [
      "Fitting 5 folds for each of 10 candidates, totalling 50 fits\n"
     ]
    },
    {
     "name": "stderr",
     "output_type": "stream",
     "text": [
      "[Parallel(n_jobs=-1)]: Done  33 tasks      | elapsed:   30.0s\n",
      "[Parallel(n_jobs=-1)]: Done  50 out of  50 | elapsed:   41.5s finished\n"
     ]
    },
    {
     "data": {
      "text/plain": [
       "{'C': 3}"
      ]
     },
     "execution_count": 99,
     "metadata": {},
     "output_type": "execute_result"
    }
   ],
   "source": [
    "#Model 4\n",
    "from sklearn.model_selection import GridSearchCV\n",
    "from sklearn import svm\n",
    "\n",
    "# Create the parameter grid\n",
    "param_grid = { 'C': range(1,11)}\n",
    "\n",
    "svm_rbf = svm.SVC(kernel='rbf')\n",
    "\n",
    "# Instantiate the grid search model\n",
    "svm_grid_search_rbf4 = GridSearchCV(estimator = svm_rbf, param_grid = param_grid,\n",
    "                           cv = 5, n_jobs = -1, verbose = 2)\n",
    "\n",
    "# Fit the grid search model\n",
    "svm_grid_search_rbf4.fit(X_train, y_train)\n",
    "\n",
    "svm_grid_search_rbf4.best_params_"
   ]
  },
  {
   "cell_type": "code",
   "execution_count": 101,
   "metadata": {},
   "outputs": [
    {
     "name": "stdout",
     "output_type": "stream",
     "text": [
      "Fitting 5 folds for each of 11 candidates, totalling 55 fits\n"
     ]
    },
    {
     "name": "stderr",
     "output_type": "stream",
     "text": [
      "[Parallel(n_jobs=-1)]: Done  33 tasks      | elapsed:   33.5s\n",
      "[Parallel(n_jobs=-1)]: Done  55 out of  55 | elapsed:   50.1s finished\n"
     ]
    },
    {
     "data": {
      "text/plain": [
       "{'C': 27}"
      ]
     },
     "execution_count": 101,
     "metadata": {},
     "output_type": "execute_result"
    }
   ],
   "source": [
    "#Model 6\n",
    "from sklearn.model_selection import GridSearchCV\n",
    "from sklearn import svm\n",
    "\n",
    "# Create the parameter grid\n",
    "param_grid = { 'C': range(20,31)}\n",
    "\n",
    "svm_rbf = svm.SVC(kernel='rbf')\n",
    "\n",
    "# Instantiate the grid search model\n",
    "svm_grid_search_rbf6 = GridSearchCV(estimator = svm_rbf, param_grid = param_grid,\n",
    "                           cv = 5, n_jobs = -1, verbose = 2)\n",
    "\n",
    "# Fit the grid search model\n",
    "svm_grid_search_rbf6.fit(X_train, y_train)\n",
    "\n",
    "svm_grid_search_rbf6.best_params_"
   ]
  },
  {
   "cell_type": "code",
   "execution_count": 102,
   "metadata": {},
   "outputs": [
    {
     "name": "stdout",
     "output_type": "stream",
     "text": [
      "Fitting 5 folds for each of 11 candidates, totalling 55 fits\n"
     ]
    },
    {
     "name": "stderr",
     "output_type": "stream",
     "text": [
      "[Parallel(n_jobs=-1)]: Done  33 tasks      | elapsed:   37.3s\n",
      "[Parallel(n_jobs=-1)]: Done  55 out of  55 | elapsed:   56.1s finished\n"
     ]
    },
    {
     "data": {
      "text/plain": [
       "{'C': 53}"
      ]
     },
     "execution_count": 102,
     "metadata": {},
     "output_type": "execute_result"
    }
   ],
   "source": [
    "#Model 7\n",
    "from sklearn.model_selection import GridSearchCV\n",
    "from sklearn import svm\n",
    "\n",
    "# Create the parameter grid\n",
    "param_grid = { 'C': range(50,61)}\n",
    "\n",
    "svm_rbf = svm.SVC(kernel='rbf')\n",
    "\n",
    "# Instantiate the grid search model\n",
    "svm_grid_search_rbf7 = GridSearchCV(estimator = svm_rbf, param_grid = param_grid,\n",
    "                           cv = 5, n_jobs = -1, verbose = 2)\n",
    "\n",
    "# Fit the grid search model\n",
    "svm_grid_search_rbf7.fit(X_train, y_train)\n",
    "\n",
    "svm_grid_search_rbf7.best_params_"
   ]
  },
  {
   "cell_type": "code",
   "execution_count": 105,
   "metadata": {
    "scrolled": false
   },
   "outputs": [
    {
     "name": "stdout",
     "output_type": "stream",
     "text": [
      "#####################################################################\n",
      "RBF kernel for C:  0.001\n",
      "#####################################################################\n",
      "\n",
      "Test accuracy:  74.8815165877\n",
      "Precision:  0.0\n",
      "Recall:  0.0\n",
      "\n",
      "Confusion matrix\n",
      "[[1580    0]\n",
      " [ 530    0]]\n",
      "\n",
      "\n",
      "             precision    recall  f1-score   support\n",
      "\n",
      "          0       0.75      1.00      0.86      1580\n",
      "          1       0.00      0.00      0.00       530\n",
      "\n",
      "avg / total       0.56      0.75      0.64      2110\n",
      "\n",
      "#####################################################################\n",
      "RBF kernel for C:  0.09\n",
      "#####################################################################\n",
      "\n",
      "Test accuracy:  80.4739336493\n",
      "Precision:  0.666666666667\n",
      "Recall:  0.445283018868\n",
      "\n",
      "Confusion matrix\n",
      "[[1462  118]\n",
      " [ 294  236]]\n",
      "\n",
      "\n",
      "             precision    recall  f1-score   support\n",
      "\n",
      "          0       0.83      0.93      0.88      1580\n",
      "          1       0.67      0.45      0.53       530\n",
      "\n",
      "avg / total       0.79      0.80      0.79      2110\n",
      "\n",
      "#####################################################################\n",
      "RBF kernel for C:  0.9\n",
      "#####################################################################\n",
      "\n",
      "Test accuracy:  80.8056872038\n",
      "Precision:  0.651331719128\n",
      "Recall:  0.507547169811\n",
      "\n",
      "Confusion matrix\n",
      "[[1436  144]\n",
      " [ 261  269]]\n",
      "\n",
      "\n",
      "             precision    recall  f1-score   support\n",
      "\n",
      "          0       0.85      0.91      0.88      1580\n",
      "          1       0.65      0.51      0.57       530\n",
      "\n",
      "avg / total       0.80      0.81      0.80      2110\n",
      "\n",
      "#####################################################################\n",
      "RBF kernel for C:  3\n",
      "#####################################################################\n",
      "\n",
      "Test accuracy:  80.9004739336\n",
      "Precision:  0.655256723716\n",
      "Recall:  0.505660377358\n",
      "\n",
      "Confusion matrix\n",
      "[[1439  141]\n",
      " [ 262  268]]\n",
      "\n",
      "\n",
      "             precision    recall  f1-score   support\n",
      "\n",
      "          0       0.85      0.91      0.88      1580\n",
      "          1       0.66      0.51      0.57       530\n",
      "\n",
      "avg / total       0.80      0.81      0.80      2110\n",
      "\n",
      "#####################################################################\n",
      "RBF kernel for C:  27\n",
      "#####################################################################\n",
      "\n",
      "Test accuracy:  80.6161137441\n",
      "Precision:  0.64168618267\n",
      "Recall:  0.516981132075\n",
      "\n",
      "Confusion matrix\n",
      "[[1427  153]\n",
      " [ 256  274]]\n",
      "\n",
      "\n",
      "             precision    recall  f1-score   support\n",
      "\n",
      "          0       0.85      0.90      0.87      1580\n",
      "          1       0.64      0.52      0.57       530\n",
      "\n",
      "avg / total       0.80      0.81      0.80      2110\n",
      "\n",
      "#####################################################################\n",
      "RBF kernel for C:  53\n",
      "#####################################################################\n",
      "\n",
      "Test accuracy:  80.0\n",
      "Precision:  0.622727272727\n",
      "Recall:  0.516981132075\n",
      "\n",
      "Confusion matrix\n",
      "[[1414  166]\n",
      " [ 256  274]]\n",
      "\n",
      "\n",
      "             precision    recall  f1-score   support\n",
      "\n",
      "          0       0.85      0.89      0.87      1580\n",
      "          1       0.62      0.52      0.56       530\n",
      "\n",
      "avg / total       0.79      0.80      0.79      2110\n",
      "\n"
     ]
    }
   ],
   "source": [
    "from sklearn import metrics\n",
    "\n",
    "def evaluate(model, X_test, y_test):\n",
    "    print \"#####################################################################\"\n",
    "    print \"RBF kernel for C: \", model.C\n",
    "    print \"#####################################################################\"\n",
    "    predictions = model.predict(X_test)\n",
    "    m_a = metrics.accuracy_score(y_test, predictions) # Test accuracy\n",
    "    m_p = precision_score(y_test, predictions)\n",
    "    m_r = recall_score(y_test, predictions)\n",
    "    report = classification_report(y_test, predictions)\n",
    "    print \"\\nTest accuracy: \", m_a*100\n",
    "    print \"Precision: \", m_p\n",
    "    print \"Recall: \", m_r\n",
    "    print \"\\nConfusion matrix\"\n",
    "    print(confusion_matrix(y_test,predictions))  \n",
    "    print \"\\n\"\n",
    "    print(report)\n",
    "    return m_a\n",
    "\n",
    "best_svm_rbf_1 = svm_grid_search_rbf1.best_estimator_\n",
    "svm_rbf_1_acc= evaluate(best_svm_rbf_1, X_test, y_test)\n",
    "\n",
    "best_svm_rbf_2 = svm_grid_search_rbf2.best_estimator_\n",
    "svm_rbf_2_acc= evaluate(best_svm_rbf_2, X_test, y_test)\n",
    "\n",
    "best_svm_rbf_3 = svm_grid_search_rbf3.best_estimator_\n",
    "svm_rbf_3_acc= evaluate(best_svm_rbf_3, X_test, y_test)\n",
    "\n",
    "#best_svm_rbf_4 = svm_grid_search_rbf4.best_estimator_\n",
    "#svm_rbf_4_acc= evaluate(best_svm_rbf_4, X_test, y_test)\n",
    "\n",
    "best_svm_rbf_5 = svm_grid_search_rbf5.best_estimator_\n",
    "svm_rbf_5_acc= evaluate(best_svm_rbf_5, X_test, y_test)\n",
    "\n",
    "best_svm_rbf_6 = svm_grid_search_rbf6.best_estimator_\n",
    "svm_rbf_6_acc= evaluate(best_svm_rbf_6, X_test, y_test)\n",
    "\n",
    "best_svm_rbf_7 = svm_grid_search_rbf7.best_estimator_\n",
    "svm_rbf_7_acc= evaluate(best_svm_rbf_7, X_test, y_test)"
   ]
  },
  {
   "cell_type": "code",
   "execution_count": 117,
   "metadata": {},
   "outputs": [
    {
     "data": {
      "image/png": "[encoded data removed]",
      "text/plain": [
       "<matplotlib.figure.Figure at 0xcf02e48>"
      ]
     },
     "metadata": {},
     "output_type": "display_data"
    }
   ],
   "source": [
    "# libraries\n",
    "import numpy as np\n",
    "import matplotlib.pyplot as plt\n",
    "from matplotlib import pylab\n",
    "\n",
    "# set width of bar\n",
    "barWidth = 0.12\n",
    "\n",
    "# set height of bar\n",
    "C_001 =[0.75, 0.56, 0.75]\n",
    "C_09 = [0.8, 0.79,0.8]\n",
    "C_p9 = [0.81, 0.80, 0.81]\n",
    "C_3 = [0.81, 0.80, 0.81]\n",
    "C_27 = [0.80, 0.80, 0.81]\n",
    "C_53 = [0.80, 0.79, 0.80]\n",
    "\n",
    "\n",
    "# Set position of bar on X axis\n",
    "r1 = np.arange(3)\n",
    "r2 = [x + barWidth for x in r1]\n",
    "r3 = [x + barWidth for x in r2]\n",
    "r4 = [x + barWidth for x in r3]\n",
    "r5 = [x + barWidth for x in r4]\n",
    "r6 = [x + barWidth for x in r5]\n",
    "\n",
    "\n",
    "# Make the plot\n",
    "plt.figure(figsize=(10,4))\n",
    "plt.bar(r1, C_001, color='#FFD700', width=barWidth, edgecolor='white', label='C = 0.001')\n",
    "plt.bar(r2, C_09, color='#FFA500', width=barWidth, edgecolor='white', label='C = 0.09')\n",
    "plt.bar(r3, C_p9, color='#FF8C00', width=barWidth, edgecolor='white', label='C = 0.9')\n",
    "plt.bar(r4, C_3, color='#FF7F50', width=barWidth, edgecolor='white', label='C = 3')\n",
    "plt.bar(r5, C_27, color='#FF6347', width=barWidth, edgecolor='white', label='C = 27')\n",
    "plt.bar(r6, C_53, color='#FF4500', width=barWidth, edgecolor='white', label='C = 53')\n",
    " \n",
    "# Add xticks on the middle of the group bars\n",
    "plt.xlabel('RBF Kernel by varying C', fontweight='bold')\n",
    "plt.xticks([r + barWidth for r in range(len(C_001))], ['Accuracy', 'Precision', 'Recall'])\n",
    " \n",
    "# Create legend & Show graphic\n",
    "pylab.legend(loc= 0, bbox_to_anchor=(0.5, -0.2))\n",
    "plt.show()\n"
   ]
  },
  {
   "cell_type": "markdown",
   "metadata": {},
   "source": [
    "### RBF kernel for different gamma for best 'C'"
   ]
  },
  {
   "cell_type": "code",
   "execution_count": 106,
   "metadata": {},
   "outputs": [
    {
     "name": "stdout",
     "output_type": "stream",
     "text": [
      "Fitting 5 folds for each of 9 candidates, totalling 45 fits\n"
     ]
    },
    {
     "name": "stderr",
     "output_type": "stream",
     "text": [
      "[Parallel(n_jobs=-1)]: Done  33 tasks      | elapsed:   36.2s\n",
      "[Parallel(n_jobs=-1)]: Done  45 out of  45 | elapsed:   46.2s finished\n"
     ]
    },
    {
     "data": {
      "text/plain": [
       "{'C': 3, 'gamma': 0.02}"
      ]
     },
     "execution_count": 106,
     "metadata": {},
     "output_type": "execute_result"
    }
   ],
   "source": [
    "#Model 1\n",
    "from sklearn.model_selection import GridSearchCV\n",
    "from sklearn import svm\n",
    "\n",
    "# Create the parameter grid\n",
    "param_grid = {'C': [3],\n",
    "              'gamma': [0.01,0.02, 0.03,0.04, 0.05, 0.06, 0.07, 0.08, 0.09]}\n",
    "\n",
    "svm_rbf = svm.SVC(kernel='rbf')\n",
    "\n",
    "# Instantiate the grid search model\n",
    "svm_grid_search_rbfg1 = GridSearchCV(estimator = svm_rbf, param_grid = param_grid,\n",
    "                           cv = 5, n_jobs = -1, verbose = 2)\n",
    "\n",
    "# Fit the grid search model\n",
    "svm_grid_search_rbfg1.fit(X_train, y_train)\n",
    "\n",
    "svm_grid_search_rbfg1.best_params_"
   ]
  },
  {
   "cell_type": "code",
   "execution_count": 118,
   "metadata": {},
   "outputs": [
    {
     "name": "stdout",
     "output_type": "stream",
     "text": [
      "Fitting 5 folds for each of 9 candidates, totalling 45 fits\n"
     ]
    },
    {
     "name": "stderr",
     "output_type": "stream",
     "text": [
      "[Parallel(n_jobs=-1)]: Done  33 tasks      | elapsed:   44.1s\n",
      "[Parallel(n_jobs=-1)]: Done  45 out of  45 | elapsed:   51.7s finished\n"
     ]
    },
    {
     "data": {
      "text/plain": [
       "{'C': 3, 'gamma': 0.007}"
      ]
     },
     "execution_count": 118,
     "metadata": {},
     "output_type": "execute_result"
    }
   ],
   "source": [
    "#Model 2\n",
    "from sklearn.model_selection import GridSearchCV\n",
    "from sklearn import svm\n",
    "\n",
    "# Create the parameter grid\n",
    "param_grid = {'C': [3],\n",
    "              'gamma': [0.001,0.002, 0.003,0.004, 0.005, 0.006, 0.007, 0.008, 0.009]}\n",
    "\n",
    "svm_rbf = svm.SVC(kernel='rbf')\n",
    "\n",
    "# Instantiate the grid search model\n",
    "svm_grid_search_rbfg2 = GridSearchCV(estimator = svm_rbf, param_grid = param_grid,\n",
    "                           cv = 5, n_jobs = -1, verbose = 2)\n",
    "\n",
    "# Fit the grid search model\n",
    "svm_grid_search_rbfg2.fit(X_train, y_train)\n",
    "\n",
    "svm_grid_search_rbfg2.best_params_"
   ]
  },
  {
   "cell_type": "code",
   "execution_count": 108,
   "metadata": {},
   "outputs": [
    {
     "name": "stdout",
     "output_type": "stream",
     "text": [
      "Fitting 5 folds for each of 9 candidates, totalling 45 fits\n"
     ]
    },
    {
     "name": "stderr",
     "output_type": "stream",
     "text": [
      "[Parallel(n_jobs=-1)]: Done  33 tasks      | elapsed:   42.9s\n",
      "[Parallel(n_jobs=-1)]: Done  45 out of  45 | elapsed:   57.6s finished\n"
     ]
    },
    {
     "data": {
      "text/plain": [
       "{'C': 3, 'gamma': 0.1}"
      ]
     },
     "execution_count": 108,
     "metadata": {},
     "output_type": "execute_result"
    }
   ],
   "source": [
    "#Model 3\n",
    "from sklearn.model_selection import GridSearchCV\n",
    "from sklearn import svm\n",
    "\n",
    "# Create the parameter grid\n",
    "param_grid = {'C': [3],\n",
    "              'gamma': [0.1,0.2, 0.3,0.4, 0.5, 0.6, 0.7, 0.8, 0.9]}\n",
    "\n",
    "svm_rbf = svm.SVC(kernel='rbf')\n",
    "\n",
    "# Instantiate the grid search model\n",
    "svm_grid_search_rbfg3 = GridSearchCV(estimator = svm_rbf, param_grid = param_grid,\n",
    "                           cv = 5, n_jobs = -1, verbose = 2)\n",
    "\n",
    "# Fit the grid search model\n",
    "svm_grid_search_rbfg3.fit(X_train, y_train)\n",
    "\n",
    "svm_grid_search_rbfg3.best_params_"
   ]
  },
  {
   "cell_type": "code",
   "execution_count": 109,
   "metadata": {},
   "outputs": [
    {
     "name": "stdout",
     "output_type": "stream",
     "text": [
      "Fitting 5 folds for each of 10 candidates, totalling 50 fits\n"
     ]
    },
    {
     "name": "stderr",
     "output_type": "stream",
     "text": [
      "[Parallel(n_jobs=-1)]: Done  33 tasks      | elapsed:   58.9s\n",
      "[Parallel(n_jobs=-1)]: Done  50 out of  50 | elapsed:  1.4min finished\n"
     ]
    },
    {
     "data": {
      "text/plain": [
       "{'C': 3, 'gamma': 1}"
      ]
     },
     "execution_count": 109,
     "metadata": {},
     "output_type": "execute_result"
    }
   ],
   "source": [
    "#Model 4\n",
    "from sklearn.model_selection import GridSearchCV\n",
    "from sklearn import svm\n",
    "\n",
    "# Create the parameter grid\n",
    "param_grid = {'C': [3],\n",
    "              'gamma': range(1,11)}\n",
    "\n",
    "svm_rbf = svm.SVC(kernel='rbf')\n",
    "\n",
    "# Instantiate the grid search model\n",
    "svm_grid_search_rbfg4 = GridSearchCV(estimator = svm_rbf, param_grid = param_grid,\n",
    "                           cv = 5, n_jobs = -1, verbose = 2)\n",
    "\n",
    "# Fit the grid search model\n",
    "svm_grid_search_rbfg4.fit(X_train, y_train)\n",
    "\n",
    "svm_grid_search_rbfg4.best_params_"
   ]
  },
  {
   "cell_type": "code",
   "execution_count": 110,
   "metadata": {},
   "outputs": [
    {
     "name": "stdout",
     "output_type": "stream",
     "text": [
      "Fitting 5 folds for each of 11 candidates, totalling 55 fits\n"
     ]
    },
    {
     "name": "stderr",
     "output_type": "stream",
     "text": [
      "[Parallel(n_jobs=-1)]: Done  33 tasks      | elapsed:  1.1min\n",
      "[Parallel(n_jobs=-1)]: Done  55 out of  55 | elapsed:  1.7min finished\n"
     ]
    },
    {
     "data": {
      "text/plain": [
       "{'C': 3, 'gamma': 101}"
      ]
     },
     "execution_count": 110,
     "metadata": {},
     "output_type": "execute_result"
    }
   ],
   "source": [
    "#Model 5\n",
    "from sklearn.model_selection import GridSearchCV\n",
    "from sklearn import svm\n",
    "\n",
    "# Create the parameter grid\n",
    "param_grid = {'C': [3],\n",
    "              'gamma': range(100,111)}\n",
    "\n",
    "svm_rbf = svm.SVC(kernel='rbf')\n",
    "\n",
    "# Instantiate the grid search model\n",
    "svm_grid_search_rbfg5 = GridSearchCV(estimator = svm_rbf, param_grid = param_grid,\n",
    "                           cv = 5, n_jobs = -1, verbose = 2)\n",
    "\n",
    "# Fit the grid search model\n",
    "svm_grid_search_rbfg5.fit(X_train, y_train)\n",
    "\n",
    "svm_grid_search_rbfg5.best_params_"
   ]
  },
  {
   "cell_type": "code",
   "execution_count": 111,
   "metadata": {},
   "outputs": [
    {
     "name": "stdout",
     "output_type": "stream",
     "text": [
      "Fitting 5 folds for each of 11 candidates, totalling 55 fits\n"
     ]
    },
    {
     "name": "stderr",
     "output_type": "stream",
     "text": [
      "[Parallel(n_jobs=-1)]: Done  33 tasks      | elapsed:  1.1min\n",
      "[Parallel(n_jobs=-1)]: Done  55 out of  55 | elapsed:  1.7min finished\n"
     ]
    },
    {
     "data": {
      "text/plain": [
       "{'C': 3, 'gamma': 1000}"
      ]
     },
     "execution_count": 111,
     "metadata": {},
     "output_type": "execute_result"
    }
   ],
   "source": [
    "#Model 6\n",
    "from sklearn.model_selection import GridSearchCV\n",
    "from sklearn import svm\n",
    "\n",
    "# Create the parameter grid\n",
    "param_grid = {'C': [3],\n",
    "              'gamma': range(1000,1011)}\n",
    "\n",
    "svm_rbf = svm.SVC(kernel='rbf')\n",
    "\n",
    "# Instantiate the grid search model\n",
    "svm_grid_search_rbfg6 = GridSearchCV(estimator = svm_rbf, param_grid = param_grid,\n",
    "                           cv = 5, n_jobs = -1, verbose = 2)\n",
    "\n",
    "# Fit the grid search model\n",
    "svm_grid_search_rbfg6.fit(X_train, y_train)\n",
    "\n",
    "svm_grid_search_rbfg6.best_params_"
   ]
  },
  {
   "cell_type": "code",
   "execution_count": 119,
   "metadata": {
    "scrolled": false
   },
   "outputs": [
    {
     "name": "stdout",
     "output_type": "stream",
     "text": [
      "#####################################################################\n",
      "RBF kernel for C: 3 and gamma 0.02\n",
      "#####################################################################\n",
      "\n",
      "Test accuracy:  80.9952606635\n",
      "Precision:  0.658476658477\n",
      "Recall:  0.505660377358\n",
      "\n",
      "Confusion matrix\n",
      "[[1441  139]\n",
      " [ 262  268]]\n",
      "\n",
      "\n",
      "             precision    recall  f1-score   support\n",
      "\n",
      "          0       0.85      0.91      0.88      1580\n",
      "          1       0.66      0.51      0.57       530\n",
      "\n",
      "avg / total       0.80      0.81      0.80      2110\n",
      "\n",
      "#####################################################################\n",
      "RBF kernel for C: 3 and gamma 0.007\n",
      "#####################################################################\n",
      "\n",
      "Test accuracy:  80.4265402844\n",
      "Precision:  0.63700234192\n",
      "Recall:  0.51320754717\n",
      "\n",
      "Confusion matrix\n",
      "[[1425  155]\n",
      " [ 258  272]]\n",
      "\n",
      "\n",
      "             precision    recall  f1-score   support\n",
      "\n",
      "          0       0.85      0.90      0.87      1580\n",
      "          1       0.64      0.51      0.57       530\n",
      "\n",
      "avg / total       0.79      0.80      0.80      2110\n",
      "\n",
      "#####################################################################\n",
      "RBF kernel for C: 3 and gamma 0.1\n",
      "#####################################################################\n",
      "\n",
      "Test accuracy:  79.6682464455\n",
      "Precision:  0.616091954023\n",
      "Recall:  0.505660377358\n",
      "\n",
      "Confusion matrix\n",
      "[[1413  167]\n",
      " [ 262  268]]\n",
      "\n",
      "\n",
      "             precision    recall  f1-score   support\n",
      "\n",
      "          0       0.84      0.89      0.87      1580\n",
      "          1       0.62      0.51      0.56       530\n",
      "\n",
      "avg / total       0.79      0.80      0.79      2110\n",
      "\n",
      "#####################################################################\n",
      "RBF kernel for C: 3 and gamma 1\n",
      "#####################################################################\n",
      "\n",
      "Test accuracy:  77.8199052133\n",
      "Precision:  0.595679012346\n",
      "Recall:  0.364150943396\n",
      "\n",
      "Confusion matrix\n",
      "[[1449  131]\n",
      " [ 337  193]]\n",
      "\n",
      "\n",
      "             precision    recall  f1-score   support\n",
      "\n",
      "          0       0.81      0.92      0.86      1580\n",
      "          1       0.60      0.36      0.45       530\n",
      "\n",
      "avg / total       0.76      0.78      0.76      2110\n",
      "\n",
      "#####################################################################\n",
      "RBF kernel for C: 3 and gamma 101\n",
      "#####################################################################\n",
      "\n",
      "Test accuracy:  76.4928909953\n",
      "Precision:  0.60119047619\n",
      "Recall:  0.190566037736\n",
      "\n",
      "Confusion matrix\n",
      "[[1513   67]\n",
      " [ 429  101]]\n",
      "\n",
      "\n",
      "             precision    recall  f1-score   support\n",
      "\n",
      "          0       0.78      0.96      0.86      1580\n",
      "          1       0.60      0.19      0.29       530\n",
      "\n",
      "avg / total       0.73      0.76      0.72      2110\n",
      "\n",
      "#####################################################################\n",
      "RBF kernel for C: 3 and gamma 1000\n",
      "#####################################################################\n",
      "\n",
      "Test accuracy:  76.0663507109\n",
      "Precision:  0.605042016807\n",
      "Recall:  0.135849056604\n",
      "\n",
      "Confusion matrix\n",
      "[[1533   47]\n",
      " [ 458   72]]\n",
      "\n",
      "\n",
      "             precision    recall  f1-score   support\n",
      "\n",
      "          0       0.77      0.97      0.86      1580\n",
      "          1       0.61      0.14      0.22       530\n",
      "\n",
      "avg / total       0.73      0.76      0.70      2110\n",
      "\n"
     ]
    }
   ],
   "source": [
    "from sklearn import metrics\n",
    "\n",
    "def evaluate(model, X_test, y_test):\n",
    "    print \"#####################################################################\"\n",
    "    print \"RBF kernel for C: 3 and gamma\", model.gamma\n",
    "    print \"#####################################################################\"\n",
    "    predictions = model.predict(X_test)\n",
    "    m_a = metrics.accuracy_score(y_test, predictions) # Test accuracy\n",
    "    m_p = precision_score(y_test, predictions)\n",
    "    m_r = recall_score(y_test, predictions)\n",
    "    report = classification_report(y_test, predictions)\n",
    "    print \"\\nTest accuracy: \", m_a*100\n",
    "    print \"Precision: \", m_p\n",
    "    print \"Recall: \", m_r\n",
    "    print \"\\nConfusion matrix\"\n",
    "    print(confusion_matrix(y_test,predictions))  \n",
    "    print \"\\n\"\n",
    "    print(report)\n",
    "    return m_a\n",
    "\n",
    "best_svm_rbfg_1 = svm_grid_search_rbfg1.best_estimator_\n",
    "svm_rbfg_1_acc= evaluate(best_svm_rbfg_1, X_test, y_test)\n",
    "\n",
    "best_svm_rbfg_2 = svm_grid_search_rbfg2.best_estimator_\n",
    "svm_rbfg_2_acc= evaluate(best_svm_rbfg_2, X_test, y_test)\n",
    "\n",
    "best_svm_rbfg_3 = svm_grid_search_rbfg3.best_estimator_\n",
    "svm_rbfg_3_acc= evaluate(best_svm_rbfg_3, X_test, y_test)\n",
    "\n",
    "best_svm_rbfg_4 = svm_grid_search_rbfg4.best_estimator_\n",
    "svm_rbfg_4_acc= evaluate(best_svm_rbfg_4, X_test, y_test)\n",
    "\n",
    "best_svm_rbfg_5 = svm_grid_search_rbfg5.best_estimator_\n",
    "svm_rbfg_5_acc= evaluate(best_svm_rbfg_5, X_test, y_test)\n",
    "\n",
    "best_svm_rbfg_6 = svm_grid_search_rbfg6.best_estimator_\n",
    "svm_rbfg_6_acc= evaluate(best_svm_rbfg_6, X_test, y_test)"
   ]
  },
  {
   "cell_type": "code",
   "execution_count": 123,
   "metadata": {},
   "outputs": [
    {
     "data": {
      "image/png": "[encoded data removed]",
      "text/plain": [
       "<matplotlib.figure.Figure at 0xbd9bf28>"
      ]
     },
     "metadata": {},
     "output_type": "display_data"
    }
   ],
   "source": [
    "# libraries\n",
    "import numpy as np\n",
    "import matplotlib.pyplot as plt\n",
    "from matplotlib import pylab\n",
    "\n",
    "# set width of bar\n",
    "barWidth = 0.12\n",
    "\n",
    "# set height of bar\n",
    "g_01 =[0.81, 0.80, 0.81]\n",
    "g_007 = [0.8, 0.79,0.8]\n",
    "g_p2 = [0.80, 0.79, 0.8]\n",
    "g_1 = [0.78, 0.76, 0.78]\n",
    "g_101 = [0.76, 0.73, 0.76]\n",
    "g_1000 = [0.76, 0.73, 0.76]\n",
    "\n",
    "\n",
    "# Set position of bar on X axis\n",
    "r1 = np.arange(3)\n",
    "r2 = [x + barWidth for x in r1]\n",
    "r3 = [x + barWidth for x in r2]\n",
    "r4 = [x + barWidth for x in r3]\n",
    "r5 = [x + barWidth for x in r4]\n",
    "r6 = [x + barWidth for x in r5]\n",
    "\n",
    "\n",
    "# Make the plot\n",
    "plt.figure(figsize=(10,4))\n",
    "plt.bar(r1, g_01, color='#C71585', width=barWidth, edgecolor='white', label='C = 3, gamma = 0.01')\n",
    "plt.bar(r2, g_007, color='#FF69B4', width=barWidth, edgecolor='white', label='C = 3,gamma =0.007')\n",
    "plt.bar(r3, g_p2, color='#DB7093', width=barWidth, edgecolor='white', label='C = 3,gamma =0.2')\n",
    "plt.bar(r4, g_1, color='#FFC0CB', width=barWidth, edgecolor='white', label='C = 3,gamma =1')\n",
    "plt.bar(r5, g_101, color='#FF1493', width=barWidth, edgecolor='white', label='C = 3,gamma =101')\n",
    "plt.bar(r6, g_1000, color='#FFB6C1', width=barWidth, edgecolor='white', label='C = 3, gamma =1000')\n",
    " \n",
    "# Add xticks on the middle of the group bars\n",
    "plt.xlabel('RBF Kernel keeping C constant at 3 and varying gamma', fontweight='bold')\n",
    "plt.xticks([r + barWidth for r in range(len(g_01))], ['Accuracy', 'Precision', 'Recall'])\n",
    " \n",
    "# Create legend & Show graphic\n",
    "pylab.legend(loc= 0, bbox_to_anchor=(0.5, -0.2))\n",
    "plt.show()\n"
   ]
  },
  {
   "cell_type": "markdown",
   "metadata": {
    "collapsed": true
   },
   "source": [
    "## Balanced Dataset"
   ]
  },
  {
   "cell_type": "code",
   "execution_count": 8,
   "metadata": {},
   "outputs": [
    {
     "name": "stdout",
     "output_type": "stream",
     "text": [
      "('Number transactions X_train dataset: ', (4922, 46))\n",
      "('Number transactions y_train dataset: ', (4922L,))\n",
      "('Number transactions X_test dataset: ', (2110, 46))\n",
      "('Number transactions y_test dataset: ', (2110L,))\n"
     ]
    }
   ],
   "source": [
    "from imblearn.over_sampling import SMOTE\n",
    "from sklearn.model_selection import train_test_split\n",
    "\n",
    "X_train, X_test, y_train, y_test = train_test_split(X, y, test_size=0.3, random_state=0)\n",
    "\n",
    "print(\"Number transactions X_train dataset: \", X_train.shape)\n",
    "print(\"Number transactions y_train dataset: \", y_train.shape)\n",
    "print(\"Number transactions X_test dataset: \", X_test.shape)\n",
    "print(\"Number transactions y_test dataset: \", y_test.shape)"
   ]
  },
  {
   "cell_type": "markdown",
   "metadata": {},
   "source": [
    "### Applying SMOTE (Synthetic Minority Oversampling Technique) for balancing"
   ]
  },
  {
   "cell_type": "code",
   "execution_count": 9,
   "metadata": {},
   "outputs": [
    {
     "name": "stdout",
     "output_type": "stream",
     "text": [
      "Before OverSampling, counts of label '1': 1314\n",
      "Before OverSampling, counts of label '0': 3608 \n",
      "\n",
      "After OverSampling, the shape of train_X: (7216L, 46L)\n",
      "After OverSampling, the shape of train_y: (7216L,) \n",
      "\n",
      "After OverSampling, counts of label '1': 3608\n",
      "After OverSampling, counts of label '0': 3608\n"
     ]
    }
   ],
   "source": [
    "print(\"Before OverSampling, counts of label '1': {}\".format(sum(y_train==1)))\n",
    "print(\"Before OverSampling, counts of label '0': {} \\n\".format(sum(y_train==0)))\n",
    "\n",
    "sm = SMOTE(random_state=2)\n",
    "X_train_res, y_train_res = sm.fit_sample(X_train, y_train.ravel())\n",
    "\n",
    "print('After OverSampling, the shape of train_X: {}'.format(X_train_res.shape))\n",
    "print('After OverSampling, the shape of train_y: {} \\n'.format(y_train_res.shape))\n",
    "\n",
    "print(\"After OverSampling, counts of label '1': {}\".format(sum(y_train_res==1)))\n",
    "print(\"After OverSampling, counts of label '0': {}\".format(sum(y_train_res==0)))\n",
    "\n",
    "#2294 of minority class samples are addded"
   ]
  },
  {
   "cell_type": "code",
   "execution_count": 10,
   "metadata": {},
   "outputs": [
    {
     "name": "stdout",
     "output_type": "stream",
     "text": [
      "Fitting 5 folds for each of 10 candidates, totalling 50 fits\n"
     ]
    },
    {
     "name": "stderr",
     "output_type": "stream",
     "text": [
      "[Parallel(n_jobs=3)]: Done  12 tasks      | elapsed:    4.9s\n",
      "[Parallel(n_jobs=3)]: Done  50 out of  50 | elapsed:    9.4s finished\n"
     ]
    },
    {
     "data": {
      "text/plain": [
       "{'C': 4.0}"
      ]
     },
     "execution_count": 10,
     "metadata": {},
     "output_type": "execute_result"
    }
   ],
   "source": [
    "from sklearn.model_selection import GridSearchCV\n",
    "from sklearn.linear_model import LogisticRegression\n",
    "from sklearn.metrics import confusion_matrix, precision_recall_curve, auc, roc_auc_score, roc_curve, recall_score\n",
    "from sklearn.metrics import classification_report\n",
    "\n",
    "# Create the parameter grid\n",
    "parameters = { \n",
    "    'C': np.linspace(1, 10, 10) \n",
    "}\n",
    "\n",
    "lr = LogisticRegression()\n",
    "\n",
    "# Instantiate the grid search model\n",
    "lr_grid_search_1 = GridSearchCV(lr, parameters, cv=5, verbose=5, n_jobs=3)\n",
    "\n",
    "# Fit the grid search model on train set\n",
    "lr_grid_search_1.fit(X_train_res, y_train_res.ravel())\n",
    "\n",
    "lr_grid_search_1.best_params_"
   ]
  },
  {
   "cell_type": "code",
   "execution_count": 12,
   "metadata": {},
   "outputs": [
    {
     "name": "stdout",
     "output_type": "stream",
     "text": [
      "Fitting 5 folds for each of 10 candidates, totalling 50 fits\n"
     ]
    },
    {
     "name": "stderr",
     "output_type": "stream",
     "text": [
      "[Parallel(n_jobs=3)]: Done  12 tasks      | elapsed:    4.0s\n",
      "[Parallel(n_jobs=3)]: Done  50 out of  50 | elapsed:    8.4s finished\n"
     ]
    },
    {
     "data": {
      "text/plain": [
       "GridSearchCV(cv=5, error_score='raise',\n",
       "       estimator=LogisticRegression(C=1.0, class_weight=None, dual=False, fit_intercept=True,\n",
       "          intercept_scaling=1, max_iter=100, multi_class='ovr', n_jobs=1,\n",
       "          penalty='l2', random_state=None, solver='liblinear', tol=0.0001,\n",
       "          verbose=0, warm_start=False),\n",
       "       fit_params=None, iid=True, n_jobs=3,\n",
       "       param_grid={'C': array([  1.,   2.,   3.,   4.,   5.,   6.,   7.,   8.,   9.,  10.])},\n",
       "       pre_dispatch='2*n_jobs', refit=True, return_train_score='warn',\n",
       "       scoring=None, verbose=5)"
      ]
     },
     "execution_count": 12,
     "metadata": {},
     "output_type": "execute_result"
    }
   ],
   "source": [
    "from sklearn.model_selection import GridSearchCV\n",
    "from sklearn.linear_model import LogisticRegression\n",
    "from sklearn.metrics import confusion_matrix, precision_recall_curve, auc, roc_auc_score, roc_curve, recall_score\n",
    "from sklearn.metrics import classification_report\n",
    "\n",
    "parameters = {\n",
    "    'C': np.linspace(1, 10, 10)\n",
    "             }\n",
    "lr = LogisticRegression()\n",
    "clf = GridSearchCV(lr, parameters, cv=5, verbose=5, n_jobs=3)\n",
    "clf.fit(X_train_res, y_train_res.ravel())"
   ]
  },
  {
   "cell_type": "code",
   "execution_count": 14,
   "metadata": {
    "collapsed": true
   },
   "outputs": [],
   "source": [
    "import itertools\n",
    "\n",
    "def plot_confusion_matrix(cm, classes,\n",
    "                          normalize=False,\n",
    "                          title='Confusion matrix',\n",
    "                          cmap=plt.cm.Blues):\n",
    "    \"\"\"\n",
    "    This function prints and plots the confusion matrix.\n",
    "    Normalization can be applied by setting `normalize=True`.\n",
    "    \"\"\"\n",
    "    plt.imshow(cm, interpolation='nearest', cmap=cmap)\n",
    "    plt.title(title)\n",
    "    plt.colorbar()\n",
    "    tick_marks = np.arange(len(classes))\n",
    "    plt.xticks(tick_marks, classes, rotation=0)\n",
    "    plt.yticks(tick_marks, classes)\n",
    "\n",
    "    if normalize:\n",
    "        cm = cm.astype('float') / cm.sum(axis=1)[:, np.newaxis]\n",
    "        #print(\"Normalized confusion matrix\")\n",
    "    else:\n",
    "        1#print('Confusion matrix, without normalization')\n",
    "\n",
    "    #print(cm)\n",
    "\n",
    "    thresh = cm.max() / 2.\n",
    "    for i, j in itertools.product(range(cm.shape[0]), range(cm.shape[1])):\n",
    "        plt.text(j, i, cm[i, j],\n",
    "                 horizontalalignment=\"center\",\n",
    "                 color=\"white\" if cm[i, j] > thresh else \"black\")\n",
    "\n",
    "    plt.tight_layout()\n",
    "    plt.ylabel('True label')\n",
    "    plt.xlabel('Predicted label')"
   ]
  },
  {
   "cell_type": "code",
   "execution_count": 15,
   "metadata": {},
   "outputs": [
    {
     "name": "stdout",
     "output_type": "stream",
     "text": [
      "\n",
      "Test accuracy:  75.1658767773\n",
      "Precision:  0.518343195266\n",
      "Recall:  0.789189189189\n",
      "\n",
      "Confusion matrix\n",
      "[[1148  407]\n",
      " [ 117  438]]\n",
      "\n",
      "\n",
      "             precision    recall  f1-score   support\n",
      "\n",
      "          0       0.91      0.74      0.81      1555\n",
      "          1       0.52      0.79      0.63       555\n",
      "\n",
      "avg / total       0.81      0.75      0.76      2110\n",
      "\n",
      "ROC AUC SCORE 0.763726427392\n",
      "Recall metric in the testing dataset: 78%\n"
     ]
    },
    {
     "data": {
      "text/plain": [
       "<matplotlib.figure.Figure at 0xdc85fd0>"
      ]
     },
     "metadata": {},
     "output_type": "display_data"
    },
    {
     "data": {
      "image/png": "[encoded data removed]",
      "text/plain": [
       "<matplotlib.figure.Figure at 0xbfff828>"
      ]
     },
     "metadata": {},
     "output_type": "display_data"
    }
   ],
   "source": [
    "y_pre = clf.predict(X_test)\n",
    "\n",
    "m1a = accuracy_score(y_test, y_pre) # Test accuracy\n",
    "m1p = precision_score(y_test, y_pre)\n",
    "m1r = recall_score(y_test, y_pre)\n",
    "report = classification_report(y_test, y_pre)\n",
    "\n",
    "print \"\\nTest accuracy: \", m1a*100\n",
    "print \"Precision: \", m1p\n",
    "print \"Recall: \", m1r\n",
    "print \"\\nConfusion matrix\"\n",
    "print(confusion_matrix(y_test, y_pre))  \n",
    "print \"\\n\"\n",
    "print(report)\n",
    "\n",
    "print \"ROC AUC SCORE\", roc_auc_score(y_test, y_pre)\n",
    "\n",
    "\n",
    "\n",
    "cnf_matrix = confusion_matrix(y_test, y_pre)\n",
    "\n",
    "print(\"Recall metric in the testing dataset: {}%\".format(100*cnf_matrix[1,1]/(cnf_matrix[1,0]+cnf_matrix[1,1])))\n",
    "#print(\"Precision metric in the testing dataset: {}%\".format(100*cnf_matrix[0,0]/(cnf_matrix[0,0]+cnf_matrix[1,0])))\n",
    "# Plot non-normalized confusion matrix\n",
    "class_names = [0,1]\n",
    "plt.figure()\n",
    "plot_confusion_matrix(cnf_matrix , classes=class_names, title='Confusion matrix')\n",
    "plt.show()"
   ]
  },
  {
   "cell_type": "code",
   "execution_count": null,
   "metadata": {
    "collapsed": true
   },
   "outputs": [],
   "source": []
  }
 ],
 "metadata": {
  "kernelspec": {
   "display_name": "Python 2",
   "language": "python",
   "name": "python2"
  },
  "language_info": {
   "codemirror_mode": {
    "name": "ipython",
    "version": 2
   },
   "file_extension": ".py",
   "mimetype": "text/x-python",
   "name": "python",
   "nbconvert_exporter": "python",
   "pygments_lexer": "ipython2",
   "version": "2.7.14"
  }
 },
 "nbformat": 4,
 "nbformat_minor": 2
}
